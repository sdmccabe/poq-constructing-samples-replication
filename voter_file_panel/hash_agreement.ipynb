{
 "cells": [
  {
   "cell_type": "markdown",
   "metadata": {},
   "source": [
    "## Analysis of panel intersections\n",
    "\n",
    "This notebook analyzes the users present in both the Northeastern panel and the Pew panel."
   ]
  },
  {
   "cell_type": "code",
   "execution_count": 1,
   "metadata": {},
   "outputs": [],
   "source": [
    "import pandas as pd\n",
    "import numpy as np\n",
    "from definitions import DEMOG_FILE, DEMOG_SCHEMA, EXTERNAL_DATA_DIR, WRU_IMPUTATIONS_FILE\n",
    "import seaborn as sns\n",
    "import matplotlib.pyplot as plt\n",
    "pd.set_option('display.float_format', '{:.2f}'.format)"
   ]
  },
  {
   "cell_type": "markdown",
   "metadata": {},
   "source": [
    "# Intersection of NEU and Survey 2"
   ]
  },
  {
   "cell_type": "code",
   "execution_count": 2,
   "metadata": {},
   "outputs": [],
   "source": [
    "hashes = pd.read_csv(\"./hash/hashed_neu_twids_v2.txt\", sep=\"\\t\", names=[\"id\", \"hash\"], dtype=\"str\")\n",
    "demog = pd.read_csv(DEMOG_FILE, sep='\\t', names=list(DEMOG_SCHEMA.keys()), dtype=DEMOG_SCHEMA)\n",
    "pew_demog = pd.read_csv(f\"{EXTERNAL_DATA_DIR}/atp_matches_tweets.csv\", dtype={'id': 'str', 'total_tweets': np.int64})"
   ]
  },
  {
   "cell_type": "code",
   "execution_count": 3,
   "metadata": {},
   "outputs": [],
   "source": [
    "pew_demog = pew_demog.merge(hashes, \"left\", \"hash\")\n",
    "atp_df = pew_demog.merge(demog, \"left\", \"id\")\n",
    "\n",
    "# bring in WRU here before dropping ID\n",
    "atp_df.race.fillna(\"Uncoded\", inplace=True)\n",
    "wru = pd.read_csv(WRU_IMPUTATIONS_FILE,\n",
    "                  sep='\\t',\n",
    "                  dtype={'id_str': 'str'}).rename({'id_str': 'id'}, axis=1)\n",
    "wru['imputed_race'] = wru['imputed_race']\n",
    "\n",
    "atp_df = atp_df.merge(wru, how='left', on='id').drop(['pred.whi', 'pred.bla', 'pred.his', 'pred.asi', 'pred.oth'], axis=1)\n",
    "\n",
    "\n",
    "atp_df = atp_df.drop(\"id\", axis=1)"
   ]
  },
  {
   "cell_type": "code",
   "execution_count": 4,
   "metadata": {},
   "outputs": [
    {
     "data": {
      "text/html": [
       "<div>\n",
       "<style scoped>\n",
       "    .dataframe tbody tr th:only-of-type {\n",
       "        vertical-align: middle;\n",
       "    }\n",
       "\n",
       "    .dataframe tbody tr th {\n",
       "        vertical-align: top;\n",
       "    }\n",
       "\n",
       "    .dataframe thead th {\n",
       "        text-align: right;\n",
       "    }\n",
       "</style>\n",
       "<table border=\"1\" class=\"dataframe\">\n",
       "  <thead>\n",
       "    <tr style=\"text-align: right;\">\n",
       "      <th></th>\n",
       "      <th>Unnamed: 0</th>\n",
       "      <th>F_SEX</th>\n",
       "      <th>F_PARTY_FINAL</th>\n",
       "      <th>F_AGECAT</th>\n",
       "      <th>F_RACETHN</th>\n",
       "      <th>total_followers</th>\n",
       "      <th>one_impeach</th>\n",
       "      <th>num_tweets</th>\n",
       "      <th>age</th>\n",
       "      <th>gender</th>\n",
       "      <th>race</th>\n",
       "      <th>party</th>\n",
       "      <th>cd</th>\n",
       "      <th>zip</th>\n",
       "      <th>county_fips</th>\n",
       "      <th>partisan_score</th>\n",
       "      <th>registration_status</th>\n",
       "      <th>verified</th>\n",
       "      <th>imputed_race</th>\n",
       "    </tr>\n",
       "  </thead>\n",
       "  <tbody>\n",
       "    <tr>\n",
       "      <th>0</th>\n",
       "      <td>1</td>\n",
       "      <td>Male</td>\n",
       "      <td>Democrat</td>\n",
       "      <td>50-64</td>\n",
       "      <td>Other</td>\n",
       "      <td>40</td>\n",
       "      <td>0</td>\n",
       "      <td>26</td>\n",
       "      <td>55.00</td>\n",
       "      <td>Male</td>\n",
       "      <td>Caucasian</td>\n",
       "      <td>Democrat</td>\n",
       "      <td>3.00</td>\n",
       "      <td>87505</td>\n",
       "      <td>49</td>\n",
       "      <td>99.40</td>\n",
       "      <td>1.00</td>\n",
       "      <td>False</td>\n",
       "      <td>Caucasian</td>\n",
       "    </tr>\n",
       "    <tr>\n",
       "      <th>1</th>\n",
       "      <td>2</td>\n",
       "      <td>Male</td>\n",
       "      <td>Democrat</td>\n",
       "      <td>65+</td>\n",
       "      <td>White non-Hispanic</td>\n",
       "      <td>2360</td>\n",
       "      <td>0</td>\n",
       "      <td>2736</td>\n",
       "      <td>68.00</td>\n",
       "      <td>Male</td>\n",
       "      <td>Caucasian</td>\n",
       "      <td>Democrat</td>\n",
       "      <td>12.00</td>\n",
       "      <td>28269</td>\n",
       "      <td>119</td>\n",
       "      <td>97.40</td>\n",
       "      <td>1.00</td>\n",
       "      <td>False</td>\n",
       "      <td>Caucasian</td>\n",
       "    </tr>\n",
       "    <tr>\n",
       "      <th>2</th>\n",
       "      <td>3</td>\n",
       "      <td>Male</td>\n",
       "      <td>Democrat</td>\n",
       "      <td>65+</td>\n",
       "      <td>White non-Hispanic</td>\n",
       "      <td>1680</td>\n",
       "      <td>0</td>\n",
       "      <td>4624</td>\n",
       "      <td>65.00</td>\n",
       "      <td>Female</td>\n",
       "      <td>Caucasian</td>\n",
       "      <td>Democrat</td>\n",
       "      <td>12.00</td>\n",
       "      <td>10022</td>\n",
       "      <td>61</td>\n",
       "      <td>97.80</td>\n",
       "      <td>1.00</td>\n",
       "      <td>True</td>\n",
       "      <td>Caucasian</td>\n",
       "    </tr>\n",
       "    <tr>\n",
       "      <th>3</th>\n",
       "      <td>4</td>\n",
       "      <td>Female</td>\n",
       "      <td>Democrat</td>\n",
       "      <td>50-64</td>\n",
       "      <td>White non-Hispanic</td>\n",
       "      <td>40</td>\n",
       "      <td>0</td>\n",
       "      <td>774</td>\n",
       "      <td>50.00</td>\n",
       "      <td>Female</td>\n",
       "      <td>Caucasian</td>\n",
       "      <td>Unaffiliated</td>\n",
       "      <td>4.00</td>\n",
       "      <td>45365</td>\n",
       "      <td>149</td>\n",
       "      <td>52.10</td>\n",
       "      <td>1.00</td>\n",
       "      <td>False</td>\n",
       "      <td>Caucasian</td>\n",
       "    </tr>\n",
       "    <tr>\n",
       "      <th>4</th>\n",
       "      <td>5</td>\n",
       "      <td>Male</td>\n",
       "      <td>Independent</td>\n",
       "      <td>65+</td>\n",
       "      <td>White non-Hispanic</td>\n",
       "      <td>20</td>\n",
       "      <td>0</td>\n",
       "      <td>93</td>\n",
       "      <td>67.00</td>\n",
       "      <td>Male</td>\n",
       "      <td>Caucasian</td>\n",
       "      <td>Unaffiliated</td>\n",
       "      <td>15.00</td>\n",
       "      <td>62995</td>\n",
       "      <td>87</td>\n",
       "      <td>8.50</td>\n",
       "      <td>1.00</td>\n",
       "      <td>False</td>\n",
       "      <td>Caucasian</td>\n",
       "    </tr>\n",
       "  </tbody>\n",
       "</table>\n",
       "</div>"
      ],
      "text/plain": [
       "   Unnamed: 0   F_SEX F_PARTY_FINAL F_AGECAT           F_RACETHN  \\\n",
       "0           1    Male      Democrat    50-64               Other   \n",
       "1           2    Male      Democrat      65+  White non-Hispanic   \n",
       "2           3    Male      Democrat      65+  White non-Hispanic   \n",
       "3           4  Female      Democrat    50-64  White non-Hispanic   \n",
       "4           5    Male   Independent      65+  White non-Hispanic   \n",
       "\n",
       "   total_followers  one_impeach  num_tweets   age  gender       race  \\\n",
       "0               40            0          26 55.00    Male  Caucasian   \n",
       "1             2360            0        2736 68.00    Male  Caucasian   \n",
       "2             1680            0        4624 65.00  Female  Caucasian   \n",
       "3               40            0         774 50.00  Female  Caucasian   \n",
       "4               20            0          93 67.00    Male  Caucasian   \n",
       "\n",
       "          party    cd    zip county_fips  partisan_score  registration_status  \\\n",
       "0      Democrat  3.00  87505          49           99.40                 1.00   \n",
       "1      Democrat 12.00  28269         119           97.40                 1.00   \n",
       "2      Democrat 12.00  10022          61           97.80                 1.00   \n",
       "3  Unaffiliated  4.00  45365         149           52.10                 1.00   \n",
       "4  Unaffiliated 15.00  62995          87            8.50                 1.00   \n",
       "\n",
       "   verified imputed_race  \n",
       "0     False    Caucasian  \n",
       "1     False    Caucasian  \n",
       "2      True    Caucasian  \n",
       "3     False    Caucasian  \n",
       "4     False    Caucasian  "
      ]
     },
     "execution_count": 4,
     "metadata": {},
     "output_type": "execute_result"
    }
   ],
   "source": [
    "atp_df.drop(columns=['hash', 'total_tweets', 'total_followings', 'n_tweets', 'first_tweet', 'last_tweet', 'user_created_at', 'state', 'statuses_count', 'favourites_count', 'followers_count', 'friends_count']).head()"
   ]
  },
  {
   "cell_type": "markdown",
   "metadata": {},
   "source": [
    "### Gender"
   ]
  },
  {
   "cell_type": "code",
   "execution_count": 5,
   "metadata": {},
   "outputs": [],
   "source": [
    "gender = atp_df.loc[:, [\"hash\", \"F_SEX\", \"gender\"]]\n",
    "gender[gender['gender'] == \"Unknown\"] = np.nan"
   ]
  },
  {
   "cell_type": "code",
   "execution_count": 6,
   "metadata": {},
   "outputs": [
    {
     "data": {
      "text/plain": [
       "F_SEX   gender\n",
       "Female  Female    31\n",
       "        NaN        2\n",
       "Male    Male      33\n",
       "        NaN        4\n",
       "        Female     2\n",
       "Name: gender, dtype: int64"
      ]
     },
     "execution_count": 6,
     "metadata": {},
     "output_type": "execute_result"
    }
   ],
   "source": [
    "gender.groupby(\"F_SEX\").gender.value_counts(dropna=False)"
   ]
  },
  {
   "cell_type": "code",
   "execution_count": null,
   "metadata": {},
   "outputs": [],
   "source": []
  },
  {
   "cell_type": "code",
   "execution_count": 7,
   "metadata": {},
   "outputs": [
    {
     "data": {
      "text/plain": [
       "1.00    64\n",
       "nan      7\n",
       "0.00     2\n",
       "Name: gender_match, dtype: int64"
      ]
     },
     "execution_count": 7,
     "metadata": {},
     "output_type": "execute_result"
    }
   ],
   "source": [
    "gender['gender_match'] = gender['F_SEX'] == gender[\"gender\"]\n",
    "gender.loc[pd.isnull(gender['gender']), 'gender_match'] = np.nan\n",
    "gender['gender_match'].value_counts(dropna=False)"
   ]
  },
  {
   "cell_type": "markdown",
   "metadata": {},
   "source": [
    "(That is, 64 matches agree on sex, 2 do not, and there's missing data on the NEU side for 7 people.)"
   ]
  },
  {
   "cell_type": "code",
   "execution_count": 8,
   "metadata": {},
   "outputs": [
    {
     "data": {
      "text/plain": [
       "1.00   0.97\n",
       "0.00   0.03\n",
       "Name: gender_match, dtype: float64"
      ]
     },
     "execution_count": 8,
     "metadata": {},
     "output_type": "execute_result"
    }
   ],
   "source": [
    "gender['gender_match'].value_counts(dropna=True, normalize=True)"
   ]
  },
  {
   "cell_type": "code",
   "execution_count": 9,
   "metadata": {},
   "outputs": [
    {
     "data": {
      "text/html": [
       "<div>\n",
       "<style scoped>\n",
       "    .dataframe tbody tr th:only-of-type {\n",
       "        vertical-align: middle;\n",
       "    }\n",
       "\n",
       "    .dataframe tbody tr th {\n",
       "        vertical-align: top;\n",
       "    }\n",
       "\n",
       "    .dataframe thead th {\n",
       "        text-align: right;\n",
       "    }\n",
       "</style>\n",
       "<table border=\"1\" class=\"dataframe\">\n",
       "  <thead>\n",
       "    <tr style=\"text-align: right;\">\n",
       "      <th></th>\n",
       "      <th></th>\n",
       "      <th>gender_match</th>\n",
       "    </tr>\n",
       "    <tr>\n",
       "      <th>F_SEX</th>\n",
       "      <th>gender</th>\n",
       "      <th></th>\n",
       "    </tr>\n",
       "  </thead>\n",
       "  <tbody>\n",
       "    <tr>\n",
       "      <th>Female</th>\n",
       "      <th>Female</th>\n",
       "      <td>31</td>\n",
       "    </tr>\n",
       "    <tr>\n",
       "      <th rowspan=\"2\" valign=\"top\">Male</th>\n",
       "      <th>Female</th>\n",
       "      <td>2</td>\n",
       "    </tr>\n",
       "    <tr>\n",
       "      <th>Male</th>\n",
       "      <td>33</td>\n",
       "    </tr>\n",
       "  </tbody>\n",
       "</table>\n",
       "</div>"
      ],
      "text/plain": [
       "               gender_match\n",
       "F_SEX  gender              \n",
       "Female Female            31\n",
       "Male   Female             2\n",
       "       Male              33"
      ]
     },
     "execution_count": 9,
     "metadata": {},
     "output_type": "execute_result"
    }
   ],
   "source": [
    "gender.groupby([\"F_SEX\", \"gender\"]).agg({\"gender_match\": \"count\"})"
   ]
  },
  {
   "cell_type": "code",
   "execution_count": 10,
   "metadata": {},
   "outputs": [
    {
     "data": {
      "text/html": [
       "<div>\n",
       "<style scoped>\n",
       "    .dataframe tbody tr th:only-of-type {\n",
       "        vertical-align: middle;\n",
       "    }\n",
       "\n",
       "    .dataframe tbody tr th {\n",
       "        vertical-align: top;\n",
       "    }\n",
       "\n",
       "    .dataframe thead th {\n",
       "        text-align: right;\n",
       "    }\n",
       "</style>\n",
       "<table border=\"1\" class=\"dataframe\">\n",
       "  <thead>\n",
       "    <tr style=\"text-align: right;\">\n",
       "      <th>gender</th>\n",
       "      <th>Female</th>\n",
       "      <th>Male</th>\n",
       "    </tr>\n",
       "    <tr>\n",
       "      <th>F_SEX</th>\n",
       "      <th></th>\n",
       "      <th></th>\n",
       "    </tr>\n",
       "  </thead>\n",
       "  <tbody>\n",
       "    <tr>\n",
       "      <th>Female</th>\n",
       "      <td>31.00</td>\n",
       "      <td>0.00</td>\n",
       "    </tr>\n",
       "    <tr>\n",
       "      <th>Male</th>\n",
       "      <td>2.00</td>\n",
       "      <td>33.00</td>\n",
       "    </tr>\n",
       "  </tbody>\n",
       "</table>\n",
       "</div>"
      ],
      "text/plain": [
       "gender  Female  Male\n",
       "F_SEX               \n",
       "Female   31.00  0.00\n",
       "Male      2.00 33.00"
      ]
     },
     "execution_count": 10,
     "metadata": {},
     "output_type": "execute_result"
    }
   ],
   "source": [
    "gender_counts = gender.groupby([\"F_SEX\", \"gender\"]).agg({\"gender_match\": \"count\"})\n",
    "gender_counts = gender_counts.reset_index().pivot(\"F_SEX\", \"gender\", \"gender_match\").fillna(0)\n",
    "gender_counts"
   ]
  },
  {
   "cell_type": "code",
   "execution_count": 11,
   "metadata": {},
   "outputs": [],
   "source": [
    "gender_counts = gender_counts.div(gender_counts.sum(axis=1), axis=0)"
   ]
  },
  {
   "cell_type": "code",
   "execution_count": 12,
   "metadata": {},
   "outputs": [
    {
     "data": {
      "text/plain": [
       "Text(0.5, 51.0, 'NEU Sex Reg')"
      ]
     },
     "execution_count": 12,
     "metadata": {},
     "output_type": "execute_result"
    },
    {
     "data": {
      "image/png": "[encoded data removed]",
      "text/plain": [
       "<Figure size 864x576 with 2 Axes>"
      ]
     },
     "metadata": {},
     "output_type": "display_data"
    }
   ],
   "source": [
    "fig, ax = plt.subplots(figsize = (12, 8), facecolor='w')\n",
    "sns.heatmap(gender_counts, cmap=\"bone_r\", vmin=0, vmax=1, ax=ax)\n",
    "ax.set_ylabel(\"Pew Sex ID\")\n",
    "ax.set_xlabel(\"NEU Sex Reg\")"
   ]
  },
  {
   "cell_type": "markdown",
   "metadata": {},
   "source": [
    "Where there's no missingness, sex agrees almost perfectly. The disagreements are self-identified males in the Pew data being recorded as female in the NEU data."
   ]
  },
  {
   "cell_type": "markdown",
   "metadata": {},
   "source": [
    "### Race"
   ]
  },
  {
   "cell_type": "code",
   "execution_count": 13,
   "metadata": {},
   "outputs": [],
   "source": [
    "atp_df['pew_race'] = atp_df.race.replace({\n",
    "    'Caucasian': 'White non-Hispanic',\n",
    "    'Hispanic': 'Hispanic',\n",
    "    'Uncoded': np.nan, \n",
    "    \n",
    "    'Asian': 'Other', \n",
    "    'African-American': 'Black non-Hispanic',\n",
    "    'Native American': 'Other',\n",
    "})"
   ]
  },
  {
   "cell_type": "code",
   "execution_count": 14,
   "metadata": {},
   "outputs": [],
   "source": [
    "race = atp_df.loc[:, ['hash', 'pew_race', 'F_RACETHN']]\n",
    "race['race_match'] = race['pew_race'] == race['F_RACETHN']\n",
    "race.loc[pd.isnull(race['pew_race']), \"race_match\"] = np.nan"
   ]
  },
  {
   "cell_type": "code",
   "execution_count": 15,
   "metadata": {},
   "outputs": [
    {
     "data": {
      "text/plain": [
       "F_RACETHN           pew_race          \n",
       "Black non-Hispanic  Black non-Hispanic     2\n",
       "                    Other                  1\n",
       "                    Unknown                1\n",
       "                    White non-Hispanic     1\n",
       "Hispanic            Hispanic               7\n",
       "                    White non-Hispanic     2\n",
       "                    Unknown                1\n",
       "Other               White non-Hispanic     3\n",
       "                    Unknown                2\n",
       "                    Other                  1\n",
       "White non-Hispanic  White non-Hispanic    46\n",
       "                    Unknown                4\n",
       "                    Hispanic               1\n",
       "                    Other                  1\n",
       "Name: pew_race, dtype: int64"
      ]
     },
     "execution_count": 15,
     "metadata": {},
     "output_type": "execute_result"
    }
   ],
   "source": [
    "race.fillna(\"Unknown\").groupby(\"F_RACETHN\").pew_race.value_counts()"
   ]
  },
  {
   "cell_type": "code",
   "execution_count": 16,
   "metadata": {},
   "outputs": [
    {
     "data": {
      "text/plain": [
       "1.00    56\n",
       "0.00     9\n",
       "nan      8\n",
       "Name: race_match, dtype: int64"
      ]
     },
     "execution_count": 16,
     "metadata": {},
     "output_type": "execute_result"
    }
   ],
   "source": [
    "race.race_match.value_counts(dropna=False)"
   ]
  },
  {
   "cell_type": "code",
   "execution_count": 17,
   "metadata": {},
   "outputs": [
    {
     "data": {
      "text/plain": [
       "1.00   0.86\n",
       "0.00   0.14\n",
       "Name: race_match, dtype: float64"
      ]
     },
     "execution_count": 17,
     "metadata": {},
     "output_type": "execute_result"
    }
   ],
   "source": [
    "race.race_match.value_counts(normalize=True, dropna=True)"
   ]
  },
  {
   "cell_type": "code",
   "execution_count": 18,
   "metadata": {},
   "outputs": [
    {
     "data": {
      "text/html": [
       "<div>\n",
       "<style scoped>\n",
       "    .dataframe tbody tr th:only-of-type {\n",
       "        vertical-align: middle;\n",
       "    }\n",
       "\n",
       "    .dataframe tbody tr th {\n",
       "        vertical-align: top;\n",
       "    }\n",
       "\n",
       "    .dataframe thead th {\n",
       "        text-align: right;\n",
       "    }\n",
       "</style>\n",
       "<table border=\"1\" class=\"dataframe\">\n",
       "  <thead>\n",
       "    <tr style=\"text-align: right;\">\n",
       "      <th></th>\n",
       "      <th></th>\n",
       "      <th>race_match</th>\n",
       "    </tr>\n",
       "    <tr>\n",
       "      <th>F_RACETHN</th>\n",
       "      <th>pew_race</th>\n",
       "      <th></th>\n",
       "    </tr>\n",
       "  </thead>\n",
       "  <tbody>\n",
       "    <tr>\n",
       "      <th rowspan=\"3\" valign=\"top\">Black non-Hispanic</th>\n",
       "      <th>Black non-Hispanic</th>\n",
       "      <td>2</td>\n",
       "    </tr>\n",
       "    <tr>\n",
       "      <th>Other</th>\n",
       "      <td>1</td>\n",
       "    </tr>\n",
       "    <tr>\n",
       "      <th>White non-Hispanic</th>\n",
       "      <td>1</td>\n",
       "    </tr>\n",
       "    <tr>\n",
       "      <th rowspan=\"2\" valign=\"top\">Hispanic</th>\n",
       "      <th>Hispanic</th>\n",
       "      <td>7</td>\n",
       "    </tr>\n",
       "    <tr>\n",
       "      <th>White non-Hispanic</th>\n",
       "      <td>2</td>\n",
       "    </tr>\n",
       "    <tr>\n",
       "      <th rowspan=\"2\" valign=\"top\">Other</th>\n",
       "      <th>Other</th>\n",
       "      <td>1</td>\n",
       "    </tr>\n",
       "    <tr>\n",
       "      <th>White non-Hispanic</th>\n",
       "      <td>3</td>\n",
       "    </tr>\n",
       "    <tr>\n",
       "      <th rowspan=\"3\" valign=\"top\">White non-Hispanic</th>\n",
       "      <th>Hispanic</th>\n",
       "      <td>1</td>\n",
       "    </tr>\n",
       "    <tr>\n",
       "      <th>Other</th>\n",
       "      <td>1</td>\n",
       "    </tr>\n",
       "    <tr>\n",
       "      <th>White non-Hispanic</th>\n",
       "      <td>46</td>\n",
       "    </tr>\n",
       "  </tbody>\n",
       "</table>\n",
       "</div>"
      ],
      "text/plain": [
       "                                       race_match\n",
       "F_RACETHN          pew_race                      \n",
       "Black non-Hispanic Black non-Hispanic           2\n",
       "                   Other                        1\n",
       "                   White non-Hispanic           1\n",
       "Hispanic           Hispanic                     7\n",
       "                   White non-Hispanic           2\n",
       "Other              Other                        1\n",
       "                   White non-Hispanic           3\n",
       "White non-Hispanic Hispanic                     1\n",
       "                   Other                        1\n",
       "                   White non-Hispanic          46"
      ]
     },
     "execution_count": 18,
     "metadata": {},
     "output_type": "execute_result"
    }
   ],
   "source": [
    "race.groupby([\"F_RACETHN\", \"pew_race\"]).agg({\"race_match\": \"count\"})"
   ]
  },
  {
   "cell_type": "code",
   "execution_count": 19,
   "metadata": {},
   "outputs": [
    {
     "data": {
      "text/html": [
       "<div>\n",
       "<style scoped>\n",
       "    .dataframe tbody tr th:only-of-type {\n",
       "        vertical-align: middle;\n",
       "    }\n",
       "\n",
       "    .dataframe tbody tr th {\n",
       "        vertical-align: top;\n",
       "    }\n",
       "\n",
       "    .dataframe thead th {\n",
       "        text-align: right;\n",
       "    }\n",
       "</style>\n",
       "<table border=\"1\" class=\"dataframe\">\n",
       "  <thead>\n",
       "    <tr style=\"text-align: right;\">\n",
       "      <th>pew_race</th>\n",
       "      <th>Black non-Hispanic</th>\n",
       "      <th>Hispanic</th>\n",
       "      <th>Other</th>\n",
       "      <th>White non-Hispanic</th>\n",
       "    </tr>\n",
       "    <tr>\n",
       "      <th>F_RACETHN</th>\n",
       "      <th></th>\n",
       "      <th></th>\n",
       "      <th></th>\n",
       "      <th></th>\n",
       "    </tr>\n",
       "  </thead>\n",
       "  <tbody>\n",
       "    <tr>\n",
       "      <th>Black non-Hispanic</th>\n",
       "      <td>2.00</td>\n",
       "      <td>0.00</td>\n",
       "      <td>1.00</td>\n",
       "      <td>1.00</td>\n",
       "    </tr>\n",
       "    <tr>\n",
       "      <th>Hispanic</th>\n",
       "      <td>0.00</td>\n",
       "      <td>7.00</td>\n",
       "      <td>0.00</td>\n",
       "      <td>2.00</td>\n",
       "    </tr>\n",
       "    <tr>\n",
       "      <th>Other</th>\n",
       "      <td>0.00</td>\n",
       "      <td>0.00</td>\n",
       "      <td>1.00</td>\n",
       "      <td>3.00</td>\n",
       "    </tr>\n",
       "    <tr>\n",
       "      <th>White non-Hispanic</th>\n",
       "      <td>0.00</td>\n",
       "      <td>1.00</td>\n",
       "      <td>1.00</td>\n",
       "      <td>46.00</td>\n",
       "    </tr>\n",
       "  </tbody>\n",
       "</table>\n",
       "</div>"
      ],
      "text/plain": [
       "pew_race            Black non-Hispanic  Hispanic  Other  White non-Hispanic\n",
       "F_RACETHN                                                                  \n",
       "Black non-Hispanic                2.00      0.00   1.00                1.00\n",
       "Hispanic                          0.00      7.00   0.00                2.00\n",
       "Other                             0.00      0.00   1.00                3.00\n",
       "White non-Hispanic                0.00      1.00   1.00               46.00"
      ]
     },
     "execution_count": 19,
     "metadata": {},
     "output_type": "execute_result"
    }
   ],
   "source": [
    "race_counts = race.groupby([\"F_RACETHN\", \"pew_race\"]).agg({\"race_match\": \"count\"})\n",
    "race_counts = race_counts.reset_index().pivot(\"F_RACETHN\", \"pew_race\", \"race_match\").fillna(0)\n",
    "race_counts"
   ]
  },
  {
   "cell_type": "code",
   "execution_count": 20,
   "metadata": {},
   "outputs": [],
   "source": [
    "race_counts = race_counts.div(race_counts.sum(axis=1), axis=0)"
   ]
  },
  {
   "cell_type": "code",
   "execution_count": 21,
   "metadata": {},
   "outputs": [
    {
     "data": {
      "text/plain": [
       "Text(0.5, 51.0, 'NEU Race Reg')"
      ]
     },
     "execution_count": 21,
     "metadata": {},
     "output_type": "execute_result"
    },
    {
     "data": {
      "image/png": "[encoded data removed]",
      "text/plain": [
       "<Figure size 864x576 with 2 Axes>"
      ]
     },
     "metadata": {},
     "output_type": "display_data"
    }
   ],
   "source": [
    "fig, ax = plt.subplots(figsize = (12, 8), facecolor='w')\n",
    "sns.heatmap(race_counts, cmap=\"bone_r\", vmin=0, vmax=1, ax=ax)\n",
    "ax.set_ylabel(\"Pew Race ID\")\n",
    "ax.set_xlabel(\"NEU Race Reg\")"
   ]
  },
  {
   "cell_type": "markdown",
   "metadata": {},
   "source": [
    "(A note on interpretation: the rows each sum to 1. That is, the first row summarizes the proportion of Pew-coded Black Americans who are recorded as, respectively, Black, Hispanic, Other, White. Where agreement is high, the diagonal will be darker and the off-diagonal will be lighter.)"
   ]
  },
  {
   "cell_type": "markdown",
   "metadata": {},
   "source": [
    "#### WRU"
   ]
  },
  {
   "cell_type": "code",
   "execution_count": 22,
   "metadata": {},
   "outputs": [],
   "source": [
    "atp_df['pew_imputed_race'] = atp_df.imputed_race.replace({\n",
    "    'Caucasian': 'White non-Hispanic',\n",
    "    'Hispanic': 'Hispanic',\n",
    "    'Uncoded': np.nan, # degree of freedom?\n",
    "    'Asian': 'Other', # is this right? it's probably not right\n",
    "    'African-American': 'Black non-Hispanic',\n",
    "    'Native American': 'Other',\n",
    "})"
   ]
  },
  {
   "cell_type": "code",
   "execution_count": 23,
   "metadata": {},
   "outputs": [
    {
     "data": {
      "text/plain": [
       "Caucasian           51\n",
       "Hispanic             7\n",
       "Asian                2\n",
       "African-American     2\n",
       "Other                1\n",
       "Name: imputed_race, dtype: int64"
      ]
     },
     "execution_count": 23,
     "metadata": {},
     "output_type": "execute_result"
    }
   ],
   "source": [
    "atp_df.imputed_race.value_counts()"
   ]
  },
  {
   "cell_type": "code",
   "execution_count": 24,
   "metadata": {},
   "outputs": [],
   "source": [
    "imputed_race = atp_df.loc[:, ['hash', 'pew_imputed_race', 'F_RACETHN']]\n",
    "imputed_race['race_match'] = imputed_race['pew_imputed_race'] == imputed_race['F_RACETHN']\n",
    "imputed_race.loc[pd.isnull(imputed_race['pew_imputed_race']), \"race_match\"] = np.nan"
   ]
  },
  {
   "cell_type": "code",
   "execution_count": 25,
   "metadata": {},
   "outputs": [
    {
     "data": {
      "text/plain": [
       "1.00    51\n",
       "0.00    12\n",
       "nan     10\n",
       "Name: race_match, dtype: int64"
      ]
     },
     "execution_count": 25,
     "metadata": {},
     "output_type": "execute_result"
    }
   ],
   "source": [
    "imputed_race.race_match.value_counts(dropna=False)"
   ]
  },
  {
   "cell_type": "code",
   "execution_count": 26,
   "metadata": {},
   "outputs": [
    {
     "data": {
      "text/plain": [
       "1.00   0.81\n",
       "0.00   0.19\n",
       "Name: race_match, dtype: float64"
      ]
     },
     "execution_count": 26,
     "metadata": {},
     "output_type": "execute_result"
    }
   ],
   "source": [
    "imputed_race.race_match.value_counts(normalize=True, dropna=True)"
   ]
  },
  {
   "cell_type": "code",
   "execution_count": 27,
   "metadata": {},
   "outputs": [
    {
     "data": {
      "text/html": [
       "<div>\n",
       "<style scoped>\n",
       "    .dataframe tbody tr th:only-of-type {\n",
       "        vertical-align: middle;\n",
       "    }\n",
       "\n",
       "    .dataframe tbody tr th {\n",
       "        vertical-align: top;\n",
       "    }\n",
       "\n",
       "    .dataframe thead th {\n",
       "        text-align: right;\n",
       "    }\n",
       "</style>\n",
       "<table border=\"1\" class=\"dataframe\">\n",
       "  <thead>\n",
       "    <tr style=\"text-align: right;\">\n",
       "      <th></th>\n",
       "      <th></th>\n",
       "      <th>race_match</th>\n",
       "    </tr>\n",
       "    <tr>\n",
       "      <th>F_RACETHN</th>\n",
       "      <th>pew_imputed_race</th>\n",
       "      <th></th>\n",
       "    </tr>\n",
       "  </thead>\n",
       "  <tbody>\n",
       "    <tr>\n",
       "      <th rowspan=\"2\" valign=\"top\">Black non-Hispanic</th>\n",
       "      <th>Black non-Hispanic</th>\n",
       "      <td>1</td>\n",
       "    </tr>\n",
       "    <tr>\n",
       "      <th>White non-Hispanic</th>\n",
       "      <td>3</td>\n",
       "    </tr>\n",
       "    <tr>\n",
       "      <th rowspan=\"2\" valign=\"top\">Hispanic</th>\n",
       "      <th>Hispanic</th>\n",
       "      <td>5</td>\n",
       "    </tr>\n",
       "    <tr>\n",
       "      <th>White non-Hispanic</th>\n",
       "      <td>3</td>\n",
       "    </tr>\n",
       "    <tr>\n",
       "      <th rowspan=\"2\" valign=\"top\">Other</th>\n",
       "      <th>Other</th>\n",
       "      <td>3</td>\n",
       "    </tr>\n",
       "    <tr>\n",
       "      <th>White non-Hispanic</th>\n",
       "      <td>3</td>\n",
       "    </tr>\n",
       "    <tr>\n",
       "      <th rowspan=\"3\" valign=\"top\">White non-Hispanic</th>\n",
       "      <th>Black non-Hispanic</th>\n",
       "      <td>1</td>\n",
       "    </tr>\n",
       "    <tr>\n",
       "      <th>Hispanic</th>\n",
       "      <td>2</td>\n",
       "    </tr>\n",
       "    <tr>\n",
       "      <th>White non-Hispanic</th>\n",
       "      <td>42</td>\n",
       "    </tr>\n",
       "  </tbody>\n",
       "</table>\n",
       "</div>"
      ],
      "text/plain": [
       "                                       race_match\n",
       "F_RACETHN          pew_imputed_race              \n",
       "Black non-Hispanic Black non-Hispanic           1\n",
       "                   White non-Hispanic           3\n",
       "Hispanic           Hispanic                     5\n",
       "                   White non-Hispanic           3\n",
       "Other              Other                        3\n",
       "                   White non-Hispanic           3\n",
       "White non-Hispanic Black non-Hispanic           1\n",
       "                   Hispanic                     2\n",
       "                   White non-Hispanic          42"
      ]
     },
     "execution_count": 27,
     "metadata": {},
     "output_type": "execute_result"
    }
   ],
   "source": [
    "imputed_race.groupby([\"F_RACETHN\", \"pew_imputed_race\"]).agg({\"race_match\": \"count\"})"
   ]
  },
  {
   "cell_type": "code",
   "execution_count": 28,
   "metadata": {},
   "outputs": [
    {
     "data": {
      "text/html": [
       "<div>\n",
       "<style scoped>\n",
       "    .dataframe tbody tr th:only-of-type {\n",
       "        vertical-align: middle;\n",
       "    }\n",
       "\n",
       "    .dataframe tbody tr th {\n",
       "        vertical-align: top;\n",
       "    }\n",
       "\n",
       "    .dataframe thead th {\n",
       "        text-align: right;\n",
       "    }\n",
       "</style>\n",
       "<table border=\"1\" class=\"dataframe\">\n",
       "  <thead>\n",
       "    <tr style=\"text-align: right;\">\n",
       "      <th>pew_imputed_race</th>\n",
       "      <th>Black non-Hispanic</th>\n",
       "      <th>Hispanic</th>\n",
       "      <th>Other</th>\n",
       "      <th>White non-Hispanic</th>\n",
       "    </tr>\n",
       "    <tr>\n",
       "      <th>F_RACETHN</th>\n",
       "      <th></th>\n",
       "      <th></th>\n",
       "      <th></th>\n",
       "      <th></th>\n",
       "    </tr>\n",
       "  </thead>\n",
       "  <tbody>\n",
       "    <tr>\n",
       "      <th>Black non-Hispanic</th>\n",
       "      <td>1.00</td>\n",
       "      <td>0.00</td>\n",
       "      <td>0.00</td>\n",
       "      <td>3.00</td>\n",
       "    </tr>\n",
       "    <tr>\n",
       "      <th>Hispanic</th>\n",
       "      <td>0.00</td>\n",
       "      <td>5.00</td>\n",
       "      <td>0.00</td>\n",
       "      <td>3.00</td>\n",
       "    </tr>\n",
       "    <tr>\n",
       "      <th>Other</th>\n",
       "      <td>0.00</td>\n",
       "      <td>0.00</td>\n",
       "      <td>3.00</td>\n",
       "      <td>3.00</td>\n",
       "    </tr>\n",
       "    <tr>\n",
       "      <th>White non-Hispanic</th>\n",
       "      <td>1.00</td>\n",
       "      <td>2.00</td>\n",
       "      <td>0.00</td>\n",
       "      <td>42.00</td>\n",
       "    </tr>\n",
       "  </tbody>\n",
       "</table>\n",
       "</div>"
      ],
      "text/plain": [
       "pew_imputed_race    Black non-Hispanic  Hispanic  Other  White non-Hispanic\n",
       "F_RACETHN                                                                  \n",
       "Black non-Hispanic                1.00      0.00   0.00                3.00\n",
       "Hispanic                          0.00      5.00   0.00                3.00\n",
       "Other                             0.00      0.00   3.00                3.00\n",
       "White non-Hispanic                1.00      2.00   0.00               42.00"
      ]
     },
     "execution_count": 28,
     "metadata": {},
     "output_type": "execute_result"
    }
   ],
   "source": [
    "imputed_race_counts = imputed_race.groupby([\"F_RACETHN\", \"pew_imputed_race\"]).agg({\"race_match\": \"count\"})\n",
    "imputed_race_counts = imputed_race_counts.reset_index().pivot(\"F_RACETHN\", \"pew_imputed_race\", \"race_match\").fillna(0)\n",
    "imputed_race_counts"
   ]
  },
  {
   "cell_type": "code",
   "execution_count": 29,
   "metadata": {},
   "outputs": [],
   "source": [
    "imputed_race_counts = imputed_race_counts.div(imputed_race_counts.sum(axis=1), axis=0)"
   ]
  },
  {
   "cell_type": "code",
   "execution_count": 30,
   "metadata": {},
   "outputs": [
    {
     "data": {
      "text/plain": [
       "Text(0.5, 51.0, 'NEU Imputed Race')"
      ]
     },
     "execution_count": 30,
     "metadata": {},
     "output_type": "execute_result"
    },
    {
     "data": {
      "image/png": "[encoded data removed]",
      "text/plain": [
       "<Figure size 864x576 with 2 Axes>"
      ]
     },
     "metadata": {},
     "output_type": "display_data"
    }
   ],
   "source": [
    "fig, ax = plt.subplots(figsize = (12, 8), facecolor='w')\n",
    "sns.heatmap(imputed_race_counts, cmap=\"bone_r\", vmin=0, vmax=1, ax=ax)\n",
    "ax.set_ylabel(\"Pew Race ID\")\n",
    "ax.set_xlabel(\"NEU Imputed Race\")"
   ]
  },
  {
   "cell_type": "markdown",
   "metadata": {},
   "source": [
    "### Party"
   ]
  },
  {
   "cell_type": "code",
   "execution_count": 31,
   "metadata": {},
   "outputs": [],
   "source": [
    "atp_df['pew_party'] = atp_df.party.replace({\n",
    "    'Unaffiliated': 'Independent',\n",
    "    'Other': 'Something else',\n",
    "    'Libertarian': 'Something else',\n",
    "    'No Party': 'Independent'\n",
    "})"
   ]
  },
  {
   "cell_type": "code",
   "execution_count": 32,
   "metadata": {},
   "outputs": [],
   "source": [
    "party = atp_df.loc[:, [\"hash\", \"F_PARTY_FINAL\", \"pew_party\"]]\n",
    "party['party_match'] = party['F_PARTY_FINAL'] == party['pew_party']\n",
    "party.loc[pd.isnull(party[\"pew_party\"]), \"party_match\"] = np.nan"
   ]
  },
  {
   "cell_type": "code",
   "execution_count": 33,
   "metadata": {},
   "outputs": [
    {
     "data": {
      "text/plain": [
       "0.00    37\n",
       "1.00    29\n",
       "nan      7\n",
       "Name: party_match, dtype: int64"
      ]
     },
     "execution_count": 33,
     "metadata": {},
     "output_type": "execute_result"
    }
   ],
   "source": [
    "party.party_match.value_counts(dropna=False)"
   ]
  },
  {
   "cell_type": "code",
   "execution_count": 34,
   "metadata": {},
   "outputs": [
    {
     "data": {
      "text/plain": [
       "0.00   0.56\n",
       "1.00   0.44\n",
       "Name: party_match, dtype: float64"
      ]
     },
     "execution_count": 34,
     "metadata": {},
     "output_type": "execute_result"
    }
   ],
   "source": [
    "party.party_match.value_counts(normalize=True, dropna=True)"
   ]
  },
  {
   "cell_type": "code",
   "execution_count": 35,
   "metadata": {},
   "outputs": [
    {
     "data": {
      "text/html": [
       "<div>\n",
       "<style scoped>\n",
       "    .dataframe tbody tr th:only-of-type {\n",
       "        vertical-align: middle;\n",
       "    }\n",
       "\n",
       "    .dataframe tbody tr th {\n",
       "        vertical-align: top;\n",
       "    }\n",
       "\n",
       "    .dataframe thead th {\n",
       "        text-align: right;\n",
       "    }\n",
       "</style>\n",
       "<table border=\"1\" class=\"dataframe\">\n",
       "  <thead>\n",
       "    <tr style=\"text-align: right;\">\n",
       "      <th></th>\n",
       "      <th></th>\n",
       "      <th>party_match</th>\n",
       "    </tr>\n",
       "    <tr>\n",
       "      <th>F_PARTY_FINAL</th>\n",
       "      <th>pew_party</th>\n",
       "      <th></th>\n",
       "    </tr>\n",
       "  </thead>\n",
       "  <tbody>\n",
       "    <tr>\n",
       "      <th rowspan=\"3\" valign=\"top\">Democrat</th>\n",
       "      <th>Democrat</th>\n",
       "      <td>13</td>\n",
       "    </tr>\n",
       "    <tr>\n",
       "      <th>Independent</th>\n",
       "      <td>16</td>\n",
       "    </tr>\n",
       "    <tr>\n",
       "      <th>Republican</th>\n",
       "      <td>1</td>\n",
       "    </tr>\n",
       "    <tr>\n",
       "      <th rowspan=\"4\" valign=\"top\">Independent</th>\n",
       "      <th>Democrat</th>\n",
       "      <td>3</td>\n",
       "    </tr>\n",
       "    <tr>\n",
       "      <th>Independent</th>\n",
       "      <td>9</td>\n",
       "    </tr>\n",
       "    <tr>\n",
       "      <th>Republican</th>\n",
       "      <td>1</td>\n",
       "    </tr>\n",
       "    <tr>\n",
       "      <th>Something else</th>\n",
       "      <td>2</td>\n",
       "    </tr>\n",
       "    <tr>\n",
       "      <th rowspan=\"3\" valign=\"top\">Republican</th>\n",
       "      <th>Democrat</th>\n",
       "      <td>1</td>\n",
       "    </tr>\n",
       "    <tr>\n",
       "      <th>Independent</th>\n",
       "      <td>7</td>\n",
       "    </tr>\n",
       "    <tr>\n",
       "      <th>Republican</th>\n",
       "      <td>7</td>\n",
       "    </tr>\n",
       "    <tr>\n",
       "      <th rowspan=\"2\" valign=\"top\">Something else</th>\n",
       "      <th>Independent</th>\n",
       "      <td>4</td>\n",
       "    </tr>\n",
       "    <tr>\n",
       "      <th>Republican</th>\n",
       "      <td>2</td>\n",
       "    </tr>\n",
       "  </tbody>\n",
       "</table>\n",
       "</div>"
      ],
      "text/plain": [
       "                               party_match\n",
       "F_PARTY_FINAL  pew_party                  \n",
       "Democrat       Democrat                 13\n",
       "               Independent              16\n",
       "               Republican                1\n",
       "Independent    Democrat                  3\n",
       "               Independent               9\n",
       "               Republican                1\n",
       "               Something else            2\n",
       "Republican     Democrat                  1\n",
       "               Independent               7\n",
       "               Republican                7\n",
       "Something else Independent               4\n",
       "               Republican                2"
      ]
     },
     "execution_count": 35,
     "metadata": {},
     "output_type": "execute_result"
    }
   ],
   "source": [
    "party.groupby([\"F_PARTY_FINAL\", \"pew_party\"]).agg({\"party_match\": \"count\"})"
   ]
  },
  {
   "cell_type": "code",
   "execution_count": 36,
   "metadata": {},
   "outputs": [
    {
     "data": {
      "text/plain": [
       "F_PARTY_FINAL   pew_party     \n",
       "Democrat        Independent       16\n",
       "                Democrat          13\n",
       "                Unknown            3\n",
       "                Republican         1\n",
       "Independent     Independent        9\n",
       "                Democrat           3\n",
       "                Unknown            3\n",
       "                Something else     2\n",
       "                Republican         1\n",
       "Republican      Independent        7\n",
       "                Republican         7\n",
       "                Democrat           1\n",
       "                Unknown            1\n",
       "Something else  Independent        4\n",
       "                Republican         2\n",
       "Name: pew_party, dtype: int64"
      ]
     },
     "execution_count": 36,
     "metadata": {},
     "output_type": "execute_result"
    }
   ],
   "source": [
    "party.fillna(\"Unknown\").groupby(\"F_PARTY_FINAL\").pew_party.value_counts()"
   ]
  },
  {
   "cell_type": "code",
   "execution_count": 37,
   "metadata": {},
   "outputs": [
    {
     "data": {
      "text/html": [
       "<div>\n",
       "<style scoped>\n",
       "    .dataframe tbody tr th:only-of-type {\n",
       "        vertical-align: middle;\n",
       "    }\n",
       "\n",
       "    .dataframe tbody tr th {\n",
       "        vertical-align: top;\n",
       "    }\n",
       "\n",
       "    .dataframe thead th {\n",
       "        text-align: right;\n",
       "    }\n",
       "</style>\n",
       "<table border=\"1\" class=\"dataframe\">\n",
       "  <thead>\n",
       "    <tr style=\"text-align: right;\">\n",
       "      <th>pew_party</th>\n",
       "      <th>Democrat</th>\n",
       "      <th>Independent</th>\n",
       "      <th>Republican</th>\n",
       "      <th>Something else</th>\n",
       "    </tr>\n",
       "    <tr>\n",
       "      <th>F_PARTY_FINAL</th>\n",
       "      <th></th>\n",
       "      <th></th>\n",
       "      <th></th>\n",
       "      <th></th>\n",
       "    </tr>\n",
       "  </thead>\n",
       "  <tbody>\n",
       "    <tr>\n",
       "      <th>Democrat</th>\n",
       "      <td>13.00</td>\n",
       "      <td>16.00</td>\n",
       "      <td>1.00</td>\n",
       "      <td>0.00</td>\n",
       "    </tr>\n",
       "    <tr>\n",
       "      <th>Independent</th>\n",
       "      <td>3.00</td>\n",
       "      <td>9.00</td>\n",
       "      <td>1.00</td>\n",
       "      <td>2.00</td>\n",
       "    </tr>\n",
       "    <tr>\n",
       "      <th>Republican</th>\n",
       "      <td>1.00</td>\n",
       "      <td>7.00</td>\n",
       "      <td>7.00</td>\n",
       "      <td>0.00</td>\n",
       "    </tr>\n",
       "    <tr>\n",
       "      <th>Something else</th>\n",
       "      <td>0.00</td>\n",
       "      <td>4.00</td>\n",
       "      <td>2.00</td>\n",
       "      <td>0.00</td>\n",
       "    </tr>\n",
       "  </tbody>\n",
       "</table>\n",
       "</div>"
      ],
      "text/plain": [
       "pew_party       Democrat  Independent  Republican  Something else\n",
       "F_PARTY_FINAL                                                    \n",
       "Democrat           13.00        16.00        1.00            0.00\n",
       "Independent         3.00         9.00        1.00            2.00\n",
       "Republican          1.00         7.00        7.00            0.00\n",
       "Something else      0.00         4.00        2.00            0.00"
      ]
     },
     "execution_count": 37,
     "metadata": {},
     "output_type": "execute_result"
    }
   ],
   "source": [
    "party_counts = party.groupby([\"F_PARTY_FINAL\", \"pew_party\"]).agg({\"party_match\": \"count\"})\n",
    "party_counts = party_counts.reset_index().pivot(\"F_PARTY_FINAL\", \"pew_party\", \"party_match\").fillna(0)\n",
    "party_counts"
   ]
  },
  {
   "cell_type": "code",
   "execution_count": 38,
   "metadata": {},
   "outputs": [],
   "source": [
    "party_counts = party_counts.div(party_counts.sum(axis=1), axis=0)"
   ]
  },
  {
   "cell_type": "code",
   "execution_count": 39,
   "metadata": {},
   "outputs": [
    {
     "data": {
      "text/plain": [
       "Text(0.5, 51.0, 'NEU Party Reg')"
      ]
     },
     "execution_count": 39,
     "metadata": {},
     "output_type": "execute_result"
    },
    {
     "data": {
      "image/png": "[encoded data removed]",
      "text/plain": [
       "<Figure size 864x576 with 2 Axes>"
      ]
     },
     "metadata": {},
     "output_type": "display_data"
    }
   ],
   "source": [
    "fig, ax = plt.subplots(figsize = (12, 8), facecolor='w')\n",
    "sns.heatmap(party_counts, cmap=\"bone_r\", vmin=0, vmax=1, ax=ax)\n",
    "ax.set_ylabel(\"Pew Party ID\")\n",
    "ax.set_xlabel(\"NEU Party Reg\")"
   ]
  },
  {
   "cell_type": "markdown",
   "metadata": {},
   "source": [
    "#### TSmart Party"
   ]
  },
  {
   "cell_type": "code",
   "execution_count": 40,
   "metadata": {},
   "outputs": [],
   "source": [
    "atp_df['tsmart_party'] = pd.cut(atp_df['partisan_score'].astype(np.float64), [0, 36, 65, 100], labels=[\"Republican\", \"Independent\", \"Democrat\"])"
   ]
  },
  {
   "cell_type": "code",
   "execution_count": 41,
   "metadata": {},
   "outputs": [],
   "source": [
    "atp_df['pew_tsmart_party'] = atp_df.tsmart_party.replace({\n",
    "    'Unaffiliated': 'Independent',\n",
    "    'Other': 'Something else',\n",
    "    'Libertarian': 'Something else',\n",
    "    'No Party': 'Independent'\n",
    "})"
   ]
  },
  {
   "cell_type": "code",
   "execution_count": 42,
   "metadata": {},
   "outputs": [],
   "source": [
    "tsmart_party = atp_df.loc[:, [\"hash\", \"F_PARTY_FINAL\", \"pew_tsmart_party\"]]\n",
    "tsmart_party['tsmart_party_match'] = tsmart_party['F_PARTY_FINAL'] == tsmart_party['pew_tsmart_party']\n",
    "tsmart_party.loc[pd.isnull(tsmart_party[\"pew_tsmart_party\"]), \"tsmart_party_match\"] = np.nan"
   ]
  },
  {
   "cell_type": "code",
   "execution_count": 43,
   "metadata": {},
   "outputs": [
    {
     "data": {
      "text/plain": [
       "0.00    35\n",
       "1.00    32\n",
       "nan      6\n",
       "Name: tsmart_party_match, dtype: int64"
      ]
     },
     "execution_count": 43,
     "metadata": {},
     "output_type": "execute_result"
    }
   ],
   "source": [
    "tsmart_party.tsmart_party_match.value_counts(dropna=False)"
   ]
  },
  {
   "cell_type": "code",
   "execution_count": 44,
   "metadata": {},
   "outputs": [
    {
     "data": {
      "text/plain": [
       "0.00   0.52\n",
       "1.00   0.48\n",
       "Name: tsmart_party_match, dtype: float64"
      ]
     },
     "execution_count": 44,
     "metadata": {},
     "output_type": "execute_result"
    }
   ],
   "source": [
    "tsmart_party.tsmart_party_match.value_counts(normalize=True, dropna=True)"
   ]
  },
  {
   "cell_type": "code",
   "execution_count": 45,
   "metadata": {},
   "outputs": [
    {
     "data": {
      "text/html": [
       "<div>\n",
       "<style scoped>\n",
       "    .dataframe tbody tr th:only-of-type {\n",
       "        vertical-align: middle;\n",
       "    }\n",
       "\n",
       "    .dataframe tbody tr th {\n",
       "        vertical-align: top;\n",
       "    }\n",
       "\n",
       "    .dataframe thead th {\n",
       "        text-align: right;\n",
       "    }\n",
       "</style>\n",
       "<table border=\"1\" class=\"dataframe\">\n",
       "  <thead>\n",
       "    <tr style=\"text-align: right;\">\n",
       "      <th></th>\n",
       "      <th></th>\n",
       "      <th>tsmart_party_match</th>\n",
       "    </tr>\n",
       "    <tr>\n",
       "      <th>F_PARTY_FINAL</th>\n",
       "      <th>pew_tsmart_party</th>\n",
       "      <th></th>\n",
       "    </tr>\n",
       "  </thead>\n",
       "  <tbody>\n",
       "    <tr>\n",
       "      <th rowspan=\"3\" valign=\"top\">Democrat</th>\n",
       "      <th>Republican</th>\n",
       "      <td>5</td>\n",
       "    </tr>\n",
       "    <tr>\n",
       "      <th>Independent</th>\n",
       "      <td>5</td>\n",
       "    </tr>\n",
       "    <tr>\n",
       "      <th>Democrat</th>\n",
       "      <td>20</td>\n",
       "    </tr>\n",
       "    <tr>\n",
       "      <th rowspan=\"3\" valign=\"top\">Independent</th>\n",
       "      <th>Republican</th>\n",
       "      <td>8</td>\n",
       "    </tr>\n",
       "    <tr>\n",
       "      <th>Independent</th>\n",
       "      <td>1</td>\n",
       "    </tr>\n",
       "    <tr>\n",
       "      <th>Democrat</th>\n",
       "      <td>7</td>\n",
       "    </tr>\n",
       "    <tr>\n",
       "      <th rowspan=\"3\" valign=\"top\">Republican</th>\n",
       "      <th>Republican</th>\n",
       "      <td>11</td>\n",
       "    </tr>\n",
       "    <tr>\n",
       "      <th>Independent</th>\n",
       "      <td>2</td>\n",
       "    </tr>\n",
       "    <tr>\n",
       "      <th>Democrat</th>\n",
       "      <td>2</td>\n",
       "    </tr>\n",
       "    <tr>\n",
       "      <th rowspan=\"3\" valign=\"top\">Something else</th>\n",
       "      <th>Republican</th>\n",
       "      <td>3</td>\n",
       "    </tr>\n",
       "    <tr>\n",
       "      <th>Independent</th>\n",
       "      <td>0</td>\n",
       "    </tr>\n",
       "    <tr>\n",
       "      <th>Democrat</th>\n",
       "      <td>3</td>\n",
       "    </tr>\n",
       "  </tbody>\n",
       "</table>\n",
       "</div>"
      ],
      "text/plain": [
       "                                 tsmart_party_match\n",
       "F_PARTY_FINAL  pew_tsmart_party                    \n",
       "Democrat       Republican                         5\n",
       "               Independent                        5\n",
       "               Democrat                          20\n",
       "Independent    Republican                         8\n",
       "               Independent                        1\n",
       "               Democrat                           7\n",
       "Republican     Republican                        11\n",
       "               Independent                        2\n",
       "               Democrat                           2\n",
       "Something else Republican                         3\n",
       "               Independent                        0\n",
       "               Democrat                           3"
      ]
     },
     "execution_count": 45,
     "metadata": {},
     "output_type": "execute_result"
    }
   ],
   "source": [
    "tsmart_party.groupby([\"F_PARTY_FINAL\", \"pew_tsmart_party\"]).agg({\"tsmart_party_match\": \"count\"})"
   ]
  },
  {
   "cell_type": "code",
   "execution_count": 46,
   "metadata": {},
   "outputs": [
    {
     "data": {
      "text/html": [
       "<div>\n",
       "<style scoped>\n",
       "    .dataframe tbody tr th:only-of-type {\n",
       "        vertical-align: middle;\n",
       "    }\n",
       "\n",
       "    .dataframe tbody tr th {\n",
       "        vertical-align: top;\n",
       "    }\n",
       "\n",
       "    .dataframe thead th {\n",
       "        text-align: right;\n",
       "    }\n",
       "</style>\n",
       "<table border=\"1\" class=\"dataframe\">\n",
       "  <thead>\n",
       "    <tr style=\"text-align: right;\">\n",
       "      <th>pew_tsmart_party</th>\n",
       "      <th>Republican</th>\n",
       "      <th>Independent</th>\n",
       "      <th>Democrat</th>\n",
       "      <th>Something else</th>\n",
       "    </tr>\n",
       "    <tr>\n",
       "      <th>F_PARTY_FINAL</th>\n",
       "      <th></th>\n",
       "      <th></th>\n",
       "      <th></th>\n",
       "      <th></th>\n",
       "    </tr>\n",
       "  </thead>\n",
       "  <tbody>\n",
       "    <tr>\n",
       "      <th>Democrat</th>\n",
       "      <td>5</td>\n",
       "      <td>5</td>\n",
       "      <td>20</td>\n",
       "      <td>0</td>\n",
       "    </tr>\n",
       "    <tr>\n",
       "      <th>Independent</th>\n",
       "      <td>8</td>\n",
       "      <td>1</td>\n",
       "      <td>7</td>\n",
       "      <td>0</td>\n",
       "    </tr>\n",
       "    <tr>\n",
       "      <th>Republican</th>\n",
       "      <td>11</td>\n",
       "      <td>2</td>\n",
       "      <td>2</td>\n",
       "      <td>0</td>\n",
       "    </tr>\n",
       "    <tr>\n",
       "      <th>Something else</th>\n",
       "      <td>3</td>\n",
       "      <td>0</td>\n",
       "      <td>3</td>\n",
       "      <td>0</td>\n",
       "    </tr>\n",
       "  </tbody>\n",
       "</table>\n",
       "</div>"
      ],
      "text/plain": [
       "pew_tsmart_party  Republican  Independent  Democrat  Something else\n",
       "F_PARTY_FINAL                                                      \n",
       "Democrat                   5            5        20               0\n",
       "Independent                8            1         7               0\n",
       "Republican                11            2         2               0\n",
       "Something else             3            0         3               0"
      ]
     },
     "execution_count": 46,
     "metadata": {},
     "output_type": "execute_result"
    }
   ],
   "source": [
    "tsmart_party_counts = tsmart_party.groupby([\"F_PARTY_FINAL\", \"pew_tsmart_party\"]).agg({\"tsmart_party_match\": \"count\"})\n",
    "tsmart_party_counts = tsmart_party_counts.reset_index().pivot(\"F_PARTY_FINAL\", \"pew_tsmart_party\", \"tsmart_party_match\").fillna(0)\n",
    "\n",
    "# TSmart partisan score doesn't give a \"Something else\", so all this is just fussing\n",
    "# around with the Index to play nice.\n",
    "tsmart_party_counts.columns = tsmart_party_counts.columns.as_unordered().add_categories(\"Something else\")\n",
    "tsmart_party_counts.loc[:, \"Something else\"] = [0,0,0,0]\n",
    "tsmart_party_counts.index = tsmart_party_counts.index.sort_values()\n",
    "\n",
    "tsmart_party_counts"
   ]
  },
  {
   "cell_type": "code",
   "execution_count": 47,
   "metadata": {},
   "outputs": [],
   "source": [
    "tsmart_party_counts = tsmart_party_counts.div(tsmart_party_counts.sum(axis=1), axis=0)#.reset_index()"
   ]
  },
  {
   "cell_type": "code",
   "execution_count": 48,
   "metadata": {},
   "outputs": [],
   "source": [
    "tsmart_party_counts = tsmart_party_counts.loc[:, [\"Democrat\", \"Independent\", \"Republican\", \"Something else\"]]"
   ]
  },
  {
   "cell_type": "code",
   "execution_count": 49,
   "metadata": {},
   "outputs": [
    {
     "data": {
      "text/plain": [
       "Text(0.5, 51.0, 'NEU Modeled Party')"
      ]
     },
     "execution_count": 49,
     "metadata": {},
     "output_type": "execute_result"
    },
    {
     "data": {
      "image/png": "[encoded data removed]",
      "text/plain": [
       "<Figure size 864x576 with 2 Axes>"
      ]
     },
     "metadata": {},
     "output_type": "display_data"
    }
   ],
   "source": [
    "fig, ax = plt.subplots(figsize = (12, 8), facecolor='w')\n",
    "sns.heatmap(tsmart_party_counts, cmap=\"bone_r\", vmin=0, vmax=1, ax=ax)\n",
    "ax.set_ylabel(\"Pew Party ID\")\n",
    "ax.set_xlabel(\"NEU Modeled Party\")"
   ]
  },
  {
   "cell_type": "markdown",
   "metadata": {},
   "source": [
    "### Age"
   ]
  },
  {
   "cell_type": "code",
   "execution_count": 50,
   "metadata": {},
   "outputs": [
    {
     "data": {
      "text/plain": [
       "30-49    28\n",
       "50-64    21\n",
       "18-29    14\n",
       "65+      10\n",
       "Name: F_AGECAT, dtype: int64"
      ]
     },
     "execution_count": 50,
     "metadata": {},
     "output_type": "execute_result"
    }
   ],
   "source": [
    "atp_df.F_AGECAT.value_counts()"
   ]
  },
  {
   "cell_type": "code",
   "execution_count": 51,
   "metadata": {},
   "outputs": [],
   "source": [
    "atp_df['shifted_age'] = atp_df['age'] + 2\n",
    "atp_df['pew_age'] = pd.cut(atp_df.shifted_age, [0, 17, 29, 49, 64, 130]).astype('str').replace({\n",
    "    \"(49.0, 64.0]\": '50-64',\n",
    "    \"(0.0, 17.0]\": \"<18\",\n",
    "    \"(17.0, 29.0]\": \"18-29\",\n",
    "    \"(64.0, 130.0]\": \"65+\",\n",
    "    \"(29.0, 49.0]\": \"30-49\",\n",
    "    \"nan\": np.nan\n",
    "})"
   ]
  },
  {
   "cell_type": "markdown",
   "metadata": {},
   "source": [
    "(Note that the voter-file age is shifted by two because the Pew surveys were conducted in 2019 and the voter file dates from 2017.)"
   ]
  },
  {
   "cell_type": "code",
   "execution_count": 52,
   "metadata": {},
   "outputs": [],
   "source": [
    "age = atp_df.loc[:, [\"hash\", \"shifted_age\", 'pew_age', 'F_AGECAT']]\n",
    "age['age_match'] = age['pew_age'] == age['F_AGECAT']\n",
    "age.loc[pd.isnull(age[\"pew_age\"]), \"age_match\"] = np.nan"
   ]
  },
  {
   "cell_type": "code",
   "execution_count": 53,
   "metadata": {},
   "outputs": [
    {
     "data": {
      "text/plain": [
       "1.00    63\n",
       "nan      7\n",
       "0.00     3\n",
       "Name: age_match, dtype: int64"
      ]
     },
     "execution_count": 53,
     "metadata": {},
     "output_type": "execute_result"
    }
   ],
   "source": [
    "age.age_match.value_counts(dropna=False)"
   ]
  },
  {
   "cell_type": "code",
   "execution_count": 54,
   "metadata": {},
   "outputs": [
    {
     "data": {
      "text/plain": [
       "1.00   0.95\n",
       "0.00   0.05\n",
       "Name: age_match, dtype: float64"
      ]
     },
     "execution_count": 54,
     "metadata": {},
     "output_type": "execute_result"
    }
   ],
   "source": [
    "age.age_match.value_counts(normalize=True, dropna=True)"
   ]
  },
  {
   "cell_type": "code",
   "execution_count": 55,
   "metadata": {},
   "outputs": [
    {
     "data": {
      "text/html": [
       "<div>\n",
       "<style scoped>\n",
       "    .dataframe tbody tr th:only-of-type {\n",
       "        vertical-align: middle;\n",
       "    }\n",
       "\n",
       "    .dataframe tbody tr th {\n",
       "        vertical-align: top;\n",
       "    }\n",
       "\n",
       "    .dataframe thead th {\n",
       "        text-align: right;\n",
       "    }\n",
       "</style>\n",
       "<table border=\"1\" class=\"dataframe\">\n",
       "  <thead>\n",
       "    <tr style=\"text-align: right;\">\n",
       "      <th></th>\n",
       "      <th></th>\n",
       "      <th>age_match</th>\n",
       "    </tr>\n",
       "    <tr>\n",
       "      <th>F_AGECAT</th>\n",
       "      <th>pew_age</th>\n",
       "      <th></th>\n",
       "    </tr>\n",
       "  </thead>\n",
       "  <tbody>\n",
       "    <tr>\n",
       "      <th rowspan=\"2\" valign=\"top\">18-29</th>\n",
       "      <th>18-29</th>\n",
       "      <td>12</td>\n",
       "    </tr>\n",
       "    <tr>\n",
       "      <th>50-64</th>\n",
       "      <td>1</td>\n",
       "    </tr>\n",
       "    <tr>\n",
       "      <th rowspan=\"2\" valign=\"top\">30-49</th>\n",
       "      <th>30-49</th>\n",
       "      <td>23</td>\n",
       "    </tr>\n",
       "    <tr>\n",
       "      <th>50-64</th>\n",
       "      <td>1</td>\n",
       "    </tr>\n",
       "    <tr>\n",
       "      <th rowspan=\"2\" valign=\"top\">50-64</th>\n",
       "      <th>30-49</th>\n",
       "      <td>1</td>\n",
       "    </tr>\n",
       "    <tr>\n",
       "      <th>50-64</th>\n",
       "      <td>18</td>\n",
       "    </tr>\n",
       "    <tr>\n",
       "      <th>65+</th>\n",
       "      <th>65+</th>\n",
       "      <td>10</td>\n",
       "    </tr>\n",
       "  </tbody>\n",
       "</table>\n",
       "</div>"
      ],
      "text/plain": [
       "                  age_match\n",
       "F_AGECAT pew_age           \n",
       "18-29    18-29           12\n",
       "         50-64            1\n",
       "30-49    30-49           23\n",
       "         50-64            1\n",
       "50-64    30-49            1\n",
       "         50-64           18\n",
       "65+      65+             10"
      ]
     },
     "execution_count": 55,
     "metadata": {},
     "output_type": "execute_result"
    }
   ],
   "source": [
    "age.groupby([\"F_AGECAT\", \"pew_age\"]).agg({\"age_match\": \"count\"})"
   ]
  },
  {
   "cell_type": "code",
   "execution_count": 56,
   "metadata": {},
   "outputs": [],
   "source": [
    "age['F_AGECAT'] = pd.Categorical(age['F_AGECAT'])"
   ]
  },
  {
   "cell_type": "code",
   "execution_count": 57,
   "metadata": {},
   "outputs": [
    {
     "data": {
      "text/plain": [
       "Text(0, 0.5, 'Pew Age')"
      ]
     },
     "execution_count": 57,
     "metadata": {},
     "output_type": "execute_result"
    },
    {
     "data": {
      "image/png": "[encoded data removed]",
      "text/plain": [
       "<Figure size 864x576 with 1 Axes>"
      ]
     },
     "metadata": {},
     "output_type": "display_data"
    }
   ],
   "source": [
    "fig, ax = plt.subplots(figsize=(12, 8), facecolor='w')\n",
    "sns.swarmplot('shifted_age', 'F_AGECAT', data=age, ax=ax)\n",
    "for boundary in [18, 30, 50, 65]:\n",
    "    ax.axvline(boundary, linestyle='--', color=\"black\", alpha=0.3)\n",
    "ax.set_xlabel(\"NEU Age\")\n",
    "ax.set_ylabel(\"Pew Age\")"
   ]
  },
  {
   "cell_type": "markdown",
   "metadata": {},
   "source": [
    "### Combined match rates"
   ]
  },
  {
   "cell_type": "code",
   "execution_count": 58,
   "metadata": {},
   "outputs": [],
   "source": [
    "all_match = gender.merge(party).merge(age).merge(race).loc[:, [\"gender_match\", \"party_match\", \"age_match\", \"race_match\"]]"
   ]
  },
  {
   "cell_type": "code",
   "execution_count": 59,
   "metadata": {},
   "outputs": [
    {
     "name": "stdout",
     "output_type": "stream",
     "text": [
      "63\n",
      "66\n"
     ]
    }
   ],
   "source": [
    "all_match_no_na = all_match[pd.notnull(all_match).all(axis=1)]\n",
    "print(len(all_match_no_na))\n",
    "print(len(all_match[pd.notnull(all_match).any(axis=1)]))"
   ]
  },
  {
   "cell_type": "markdown",
   "metadata": {},
   "source": [
    "There are 10 IDs for which there is at least one missing value. (For 7 of these, they're all missing.)"
   ]
  },
  {
   "cell_type": "code",
   "execution_count": 60,
   "metadata": {},
   "outputs": [
    {
     "data": {
      "text/plain": [
       "3.00   0.51\n",
       "4.00   0.37\n",
       "2.00   0.11\n",
       "1.00   0.02\n",
       "dtype: float64"
      ]
     },
     "execution_count": 60,
     "metadata": {},
     "output_type": "execute_result"
    }
   ],
   "source": [
    "all_match_no_na.sum(axis=1).value_counts(normalize=True)"
   ]
  },
  {
   "cell_type": "markdown",
   "metadata": {},
   "source": [
    "Mismatches are not concentrated to a few problematic records (aside from the missing ones)."
   ]
  },
  {
   "cell_type": "markdown",
   "metadata": {},
   "source": [
    "## Behavior"
   ]
  },
  {
   "cell_type": "code",
   "execution_count": 61,
   "metadata": {},
   "outputs": [
    {
     "data": {
      "image/png": "[encoded data removed]",
      "text/plain": [
       "<Figure size 1728x576 with 3 Axes>"
      ]
     },
     "metadata": {},
     "output_type": "display_data"
    }
   ],
   "source": [
    "fig, (ax1, ax2, ax3) = plt.subplots(1, 3, figsize=(24, 8), facecolor='w')\n",
    "\n",
    "sns.scatterplot(\"statuses_count\", \"total_tweets\", data=atp_df, ax=ax1)\n",
    "sns.scatterplot(\"followers_count\", \"total_followers\", data=atp_df, ax=ax2)\n",
    "sns.scatterplot(\"friends_count\", \"total_followings\", data=atp_df, ax=ax3)\n",
    "for ax in (ax1, ax2, ax3):\n",
    "    ax.set_xscale(\"log\")\n",
    "    ax.set_yscale(\"log\")\n",
    "    ax.set_xlim(1, 10**6)\n",
    "    ax.set_ylim(1, 10**6)\n",
    "    ax.set_xlabel(\"NEU Metadata\")\n",
    "    ax.set_ylabel(\"\")\n",
    "ax1.set_ylabel(\"Pew Metadata\")\n",
    "ax1.set_title(\"Number of Tweets\")\n",
    "ax2.set_title(\"Number of Followers\")\n",
    "ax3.set_title(\"Number of Followings\")\n",
    "\n",
    "fig.show()"
   ]
  },
  {
   "cell_type": "markdown",
   "metadata": {},
   "source": [
    "As expected, metadata-based behavioral measures agree nearly perfectly."
   ]
  },
  {
   "cell_type": "code",
   "execution_count": null,
   "metadata": {},
   "outputs": [],
   "source": []
  },
  {
   "cell_type": "markdown",
   "metadata": {},
   "source": [
    "# Re-do the whole analysis on Survey 1"
   ]
  },
  {
   "cell_type": "code",
   "execution_count": null,
   "metadata": {},
   "outputs": [],
   "source": []
  },
  {
   "cell_type": "code",
   "execution_count": 62,
   "metadata": {},
   "outputs": [],
   "source": [
    "hashes = pd.read_csv(\"./hash/hashed_neu_twids_v2.txt\", sep=\"\\t\", names=[\"id\", \"hash\"], dtype=\"str\")\n",
    "demog = pd.read_csv(DEMOG_FILE, sep='\\t', names=list(DEMOG_SCHEMA.keys()), dtype=DEMOG_SCHEMA)\n",
    "#pew_demog = pd.read_csv(f\"{EXTERNAL_DATA_DIR}/panel_intersection.csv\", dtype={'id': 'str', 'total_tweets': np.int64})\n",
    "pew_demog = pd.read_csv(f\"{EXTERNAL_DATA_DIR}/kp_matches_tweets.csv\", dtype={'id': 'str', 'total_tweets': np.int64})"
   ]
  },
  {
   "cell_type": "code",
   "execution_count": 63,
   "metadata": {},
   "outputs": [
    {
     "data": {
      "text/html": [
       "<div>\n",
       "<style scoped>\n",
       "    .dataframe tbody tr th:only-of-type {\n",
       "        vertical-align: middle;\n",
       "    }\n",
       "\n",
       "    .dataframe tbody tr th {\n",
       "        vertical-align: top;\n",
       "    }\n",
       "\n",
       "    .dataframe thead th {\n",
       "        text-align: right;\n",
       "    }\n",
       "</style>\n",
       "<table border=\"1\" class=\"dataframe\">\n",
       "  <thead>\n",
       "    <tr style=\"text-align: right;\">\n",
       "      <th></th>\n",
       "      <th>Unnamed: 0</th>\n",
       "      <th>hash</th>\n",
       "      <th>F_SEX</th>\n",
       "      <th>F_PARTY_FINAL</th>\n",
       "      <th>F_AGECAT</th>\n",
       "      <th>F_RACETHN</th>\n",
       "      <th>total_tweets</th>\n",
       "      <th>total_followings</th>\n",
       "      <th>total_followers</th>\n",
       "      <th>n_tweets</th>\n",
       "      <th>...</th>\n",
       "      <th>registration_status</th>\n",
       "      <th>first_tweet</th>\n",
       "      <th>last_tweet</th>\n",
       "      <th>statuses_count</th>\n",
       "      <th>favourites_count</th>\n",
       "      <th>followers_count</th>\n",
       "      <th>friends_count</th>\n",
       "      <th>user_created_at</th>\n",
       "      <th>verified</th>\n",
       "      <th>imputed_race</th>\n",
       "    </tr>\n",
       "  </thead>\n",
       "  <tbody>\n",
       "    <tr>\n",
       "      <th>0</th>\n",
       "      <td>1</td>\n",
       "      <td>fae7a4ad59a4dd39985a4674f621b54d87662b9e1b13c5...</td>\n",
       "      <td>Male</td>\n",
       "      <td>Democrat</td>\n",
       "      <td>30-49</td>\n",
       "      <td>White non-Hispanic</td>\n",
       "      <td>2820</td>\n",
       "      <td>360</td>\n",
       "      <td>100</td>\n",
       "      <td>0</td>\n",
       "      <td>...</td>\n",
       "      <td>1.00</td>\n",
       "      <td>1236224959</td>\n",
       "      <td>1572621667</td>\n",
       "      <td>2819.00</td>\n",
       "      <td>161.00</td>\n",
       "      <td>98.00</td>\n",
       "      <td>362.00</td>\n",
       "      <td>Thu Mar 05 03:47:36 +0000 2009</td>\n",
       "      <td>False</td>\n",
       "      <td>Asian</td>\n",
       "    </tr>\n",
       "    <tr>\n",
       "      <th>1</th>\n",
       "      <td>2</td>\n",
       "      <td>4b39107eb4277f04f86a0d0d279bb5cbb61fa314ccd9cd...</td>\n",
       "      <td>Female</td>\n",
       "      <td>Republican</td>\n",
       "      <td>30-49</td>\n",
       "      <td>White non-Hispanic</td>\n",
       "      <td>460</td>\n",
       "      <td>0</td>\n",
       "      <td>0</td>\n",
       "      <td>0</td>\n",
       "      <td>...</td>\n",
       "      <td>0.00</td>\n",
       "      <td>1238799570</td>\n",
       "      <td>1545697366</td>\n",
       "      <td>470.00</td>\n",
       "      <td>74.00</td>\n",
       "      <td>2.00</td>\n",
       "      <td>9.00</td>\n",
       "      <td>Fri Apr 03 22:46:22 +0000 2009</td>\n",
       "      <td>False</td>\n",
       "      <td>NaN</td>\n",
       "    </tr>\n",
       "    <tr>\n",
       "      <th>2</th>\n",
       "      <td>3</td>\n",
       "      <td>f0cafcbc6b1d55bc767fa59f76e62244842dc655fb640e...</td>\n",
       "      <td>Male</td>\n",
       "      <td>Something else</td>\n",
       "      <td>18-29</td>\n",
       "      <td>White non-Hispanic</td>\n",
       "      <td>100</td>\n",
       "      <td>80</td>\n",
       "      <td>40</td>\n",
       "      <td>0</td>\n",
       "      <td>...</td>\n",
       "      <td>1.00</td>\n",
       "      <td>1381927408</td>\n",
       "      <td>1571145062</td>\n",
       "      <td>96.00</td>\n",
       "      <td>37.00</td>\n",
       "      <td>40.00</td>\n",
       "      <td>77.00</td>\n",
       "      <td>Wed Oct 16 04:55:09 +0000 2013</td>\n",
       "      <td>False</td>\n",
       "      <td>Caucasian</td>\n",
       "    </tr>\n",
       "    <tr>\n",
       "      <th>3</th>\n",
       "      <td>4</td>\n",
       "      <td>9633b3a5cebd1513b5ec598dd2a181b63c20109477ff8c...</td>\n",
       "      <td>Female</td>\n",
       "      <td>Democrat</td>\n",
       "      <td>30-49</td>\n",
       "      <td>White non-Hispanic</td>\n",
       "      <td>320</td>\n",
       "      <td>560</td>\n",
       "      <td>40</td>\n",
       "      <td>0</td>\n",
       "      <td>...</td>\n",
       "      <td>1.00</td>\n",
       "      <td>1293750095</td>\n",
       "      <td>1572853048</td>\n",
       "      <td>329.00</td>\n",
       "      <td>21.00</td>\n",
       "      <td>45.00</td>\n",
       "      <td>559.00</td>\n",
       "      <td>Thu Sep 03 22:18:45 +0000 2009</td>\n",
       "      <td>False</td>\n",
       "      <td>Caucasian</td>\n",
       "    </tr>\n",
       "    <tr>\n",
       "      <th>4</th>\n",
       "      <td>5</td>\n",
       "      <td>c653972c72dbc0d9f2a2aa8425a13ae006a9b06e4fd43c...</td>\n",
       "      <td>Female</td>\n",
       "      <td>Democrat</td>\n",
       "      <td>30-49</td>\n",
       "      <td>White non-Hispanic</td>\n",
       "      <td>1040</td>\n",
       "      <td>160</td>\n",
       "      <td>80</td>\n",
       "      <td>0</td>\n",
       "      <td>...</td>\n",
       "      <td>1.00</td>\n",
       "      <td>1316652322</td>\n",
       "      <td>1572048467</td>\n",
       "      <td>1038.00</td>\n",
       "      <td>293.00</td>\n",
       "      <td>84.00</td>\n",
       "      <td>153.00</td>\n",
       "      <td>Sat Jun 06 01:41:57 +0000 2009</td>\n",
       "      <td>False</td>\n",
       "      <td>Caucasian</td>\n",
       "    </tr>\n",
       "  </tbody>\n",
       "</table>\n",
       "<p>5 rows × 31 columns</p>\n",
       "</div>"
      ],
      "text/plain": [
       "   Unnamed: 0                                               hash   F_SEX  \\\n",
       "0           1  fae7a4ad59a4dd39985a4674f621b54d87662b9e1b13c5...    Male   \n",
       "1           2  4b39107eb4277f04f86a0d0d279bb5cbb61fa314ccd9cd...  Female   \n",
       "2           3  f0cafcbc6b1d55bc767fa59f76e62244842dc655fb640e...    Male   \n",
       "3           4  9633b3a5cebd1513b5ec598dd2a181b63c20109477ff8c...  Female   \n",
       "4           5  c653972c72dbc0d9f2a2aa8425a13ae006a9b06e4fd43c...  Female   \n",
       "\n",
       "    F_PARTY_FINAL F_AGECAT           F_RACETHN  total_tweets  \\\n",
       "0        Democrat    30-49  White non-Hispanic          2820   \n",
       "1      Republican    30-49  White non-Hispanic           460   \n",
       "2  Something else    18-29  White non-Hispanic           100   \n",
       "3        Democrat    30-49  White non-Hispanic           320   \n",
       "4        Democrat    30-49  White non-Hispanic          1040   \n",
       "\n",
       "   total_followings  total_followers  n_tweets  ...  registration_status  \\\n",
       "0               360              100         0  ...                 1.00   \n",
       "1                 0                0         0  ...                 0.00   \n",
       "2                80               40         0  ...                 1.00   \n",
       "3               560               40         0  ...                 1.00   \n",
       "4               160               80         0  ...                 1.00   \n",
       "\n",
       "   first_tweet  last_tweet statuses_count favourites_count followers_count  \\\n",
       "0   1236224959  1572621667        2819.00           161.00           98.00   \n",
       "1   1238799570  1545697366         470.00            74.00            2.00   \n",
       "2   1381927408  1571145062          96.00            37.00           40.00   \n",
       "3   1293750095  1572853048         329.00            21.00           45.00   \n",
       "4   1316652322  1572048467        1038.00           293.00           84.00   \n",
       "\n",
       "  friends_count                 user_created_at verified imputed_race  \n",
       "0        362.00  Thu Mar 05 03:47:36 +0000 2009    False        Asian  \n",
       "1          9.00  Fri Apr 03 22:46:22 +0000 2009    False          NaN  \n",
       "2         77.00  Wed Oct 16 04:55:09 +0000 2013    False    Caucasian  \n",
       "3        559.00  Thu Sep 03 22:18:45 +0000 2009    False    Caucasian  \n",
       "4        153.00  Sat Jun 06 01:41:57 +0000 2009    False    Caucasian  \n",
       "\n",
       "[5 rows x 31 columns]"
      ]
     },
     "execution_count": 63,
     "metadata": {},
     "output_type": "execute_result"
    }
   ],
   "source": [
    "pew_demog = pew_demog.merge(hashes, \"left\", \"hash\")\n",
    "kp_df = pew_demog.merge(demog, \"left\", \"id\")\n",
    "\n",
    "# bring in WRU here before dropping ID\n",
    "kp_df.race.fillna(\"Uncoded\", inplace=True)\n",
    "wru = pd.read_csv(WRU_IMPUTATIONS_FILE,\n",
    "                  sep='\\t',\n",
    "                  dtype={'id_str': 'str'}).rename({'id_str': 'id'}, axis=1)\n",
    "wru['imputed_race'] = wru['imputed_race']\n",
    "\n",
    "kp_df = kp_df.merge(wru, how='left', on='id').drop(['pred.whi', 'pred.bla', 'pred.his', 'pred.asi', 'pred.oth'], axis=1)\n",
    "\n",
    "# def combine_race(ts, wru):\n",
    "#     if ts == \"Uncoded\": # NOTE/TODO: could be ['Uncoded', 'Other']\n",
    "#         return wru\n",
    "#     else:\n",
    "#         return ts\n",
    "\n",
    "# kp_df['combined_race'] = kp_df.apply(lambda x: combine_race(x['race'], x['imputed_race']), axis=1)\n",
    "\n",
    "kp_df = kp_df.drop(\"id\", axis=1)\n",
    "kp_df.head()"
   ]
  },
  {
   "cell_type": "markdown",
   "metadata": {},
   "source": [
    "### Gender"
   ]
  },
  {
   "cell_type": "code",
   "execution_count": 64,
   "metadata": {},
   "outputs": [],
   "source": [
    "gender = kp_df.loc[:, [\"hash\", \"F_SEX\", \"gender\"]]\n",
    "gender[gender['gender'] == \"Unknown\"] = np.nan"
   ]
  },
  {
   "cell_type": "code",
   "execution_count": 65,
   "metadata": {},
   "outputs": [
    {
     "data": {
      "text/plain": [
       "1.00    98\n",
       "nan      7\n",
       "0.00     3\n",
       "Name: gender_match, dtype: int64"
      ]
     },
     "execution_count": 65,
     "metadata": {},
     "output_type": "execute_result"
    }
   ],
   "source": [
    "gender['gender_match'] = gender['F_SEX'] == gender[\"gender\"]\n",
    "gender.loc[pd.isnull(gender['gender']), 'gender_match'] = np.nan\n",
    "gender['gender_match'].value_counts(dropna=False)"
   ]
  },
  {
   "cell_type": "markdown",
   "metadata": {},
   "source": [
    "(That is, 64 matches agree on sex, 2 do not, and there's missing data on the NEU side for 7 people.)"
   ]
  },
  {
   "cell_type": "code",
   "execution_count": 66,
   "metadata": {},
   "outputs": [
    {
     "data": {
      "text/plain": [
       "1.00   0.97\n",
       "0.00   0.03\n",
       "Name: gender_match, dtype: float64"
      ]
     },
     "execution_count": 66,
     "metadata": {},
     "output_type": "execute_result"
    }
   ],
   "source": [
    "gender['gender_match'].value_counts(dropna=True, normalize=True)"
   ]
  },
  {
   "cell_type": "code",
   "execution_count": 67,
   "metadata": {},
   "outputs": [
    {
     "data": {
      "text/html": [
       "<div>\n",
       "<style scoped>\n",
       "    .dataframe tbody tr th:only-of-type {\n",
       "        vertical-align: middle;\n",
       "    }\n",
       "\n",
       "    .dataframe tbody tr th {\n",
       "        vertical-align: top;\n",
       "    }\n",
       "\n",
       "    .dataframe thead th {\n",
       "        text-align: right;\n",
       "    }\n",
       "</style>\n",
       "<table border=\"1\" class=\"dataframe\">\n",
       "  <thead>\n",
       "    <tr style=\"text-align: right;\">\n",
       "      <th></th>\n",
       "      <th></th>\n",
       "      <th>gender_match</th>\n",
       "    </tr>\n",
       "    <tr>\n",
       "      <th>F_SEX</th>\n",
       "      <th>gender</th>\n",
       "      <th></th>\n",
       "    </tr>\n",
       "  </thead>\n",
       "  <tbody>\n",
       "    <tr>\n",
       "      <th rowspan=\"2\" valign=\"top\">Female</th>\n",
       "      <th>Female</th>\n",
       "      <td>59</td>\n",
       "    </tr>\n",
       "    <tr>\n",
       "      <th>Male</th>\n",
       "      <td>1</td>\n",
       "    </tr>\n",
       "    <tr>\n",
       "      <th rowspan=\"2\" valign=\"top\">Male</th>\n",
       "      <th>Female</th>\n",
       "      <td>2</td>\n",
       "    </tr>\n",
       "    <tr>\n",
       "      <th>Male</th>\n",
       "      <td>39</td>\n",
       "    </tr>\n",
       "  </tbody>\n",
       "</table>\n",
       "</div>"
      ],
      "text/plain": [
       "               gender_match\n",
       "F_SEX  gender              \n",
       "Female Female            59\n",
       "       Male               1\n",
       "Male   Female             2\n",
       "       Male              39"
      ]
     },
     "execution_count": 67,
     "metadata": {},
     "output_type": "execute_result"
    }
   ],
   "source": [
    "gender.groupby([\"F_SEX\", \"gender\"]).agg({\"gender_match\": \"count\"})"
   ]
  },
  {
   "cell_type": "code",
   "execution_count": 68,
   "metadata": {},
   "outputs": [
    {
     "data": {
      "text/plain": [
       "F_SEX    gender \n",
       "Female   Female     59\n",
       "         Male        1\n",
       "         Unknown     1\n",
       "Male     Male       39\n",
       "         Female      2\n",
       "         Unknown     1\n",
       "Unknown  Unknown     5\n",
       "Name: gender, dtype: int64"
      ]
     },
     "execution_count": 68,
     "metadata": {},
     "output_type": "execute_result"
    }
   ],
   "source": [
    "gender.fillna(\"Unknown\").groupby(\"F_SEX\").gender.value_counts(dropna=False)"
   ]
  },
  {
   "cell_type": "code",
   "execution_count": 69,
   "metadata": {},
   "outputs": [
    {
     "data": {
      "text/html": [
       "<div>\n",
       "<style scoped>\n",
       "    .dataframe tbody tr th:only-of-type {\n",
       "        vertical-align: middle;\n",
       "    }\n",
       "\n",
       "    .dataframe tbody tr th {\n",
       "        vertical-align: top;\n",
       "    }\n",
       "\n",
       "    .dataframe thead th {\n",
       "        text-align: right;\n",
       "    }\n",
       "</style>\n",
       "<table border=\"1\" class=\"dataframe\">\n",
       "  <thead>\n",
       "    <tr style=\"text-align: right;\">\n",
       "      <th>gender</th>\n",
       "      <th>Female</th>\n",
       "      <th>Male</th>\n",
       "    </tr>\n",
       "    <tr>\n",
       "      <th>F_SEX</th>\n",
       "      <th></th>\n",
       "      <th></th>\n",
       "    </tr>\n",
       "  </thead>\n",
       "  <tbody>\n",
       "    <tr>\n",
       "      <th>Female</th>\n",
       "      <td>59</td>\n",
       "      <td>1</td>\n",
       "    </tr>\n",
       "    <tr>\n",
       "      <th>Male</th>\n",
       "      <td>2</td>\n",
       "      <td>39</td>\n",
       "    </tr>\n",
       "  </tbody>\n",
       "</table>\n",
       "</div>"
      ],
      "text/plain": [
       "gender  Female  Male\n",
       "F_SEX               \n",
       "Female      59     1\n",
       "Male         2    39"
      ]
     },
     "execution_count": 69,
     "metadata": {},
     "output_type": "execute_result"
    }
   ],
   "source": [
    "gender_counts = gender.groupby([\"F_SEX\", \"gender\"]).agg({\"gender_match\": \"count\"})\n",
    "gender_counts = gender_counts.reset_index().pivot(\"F_SEX\", \"gender\", \"gender_match\").fillna(0)\n",
    "gender_counts"
   ]
  },
  {
   "cell_type": "code",
   "execution_count": 70,
   "metadata": {},
   "outputs": [],
   "source": [
    "gender_counts = gender_counts.div(gender_counts.sum(axis=1), axis=0)"
   ]
  },
  {
   "cell_type": "code",
   "execution_count": 71,
   "metadata": {},
   "outputs": [
    {
     "data": {
      "text/plain": [
       "Text(0.5, 51.0, 'NEU Sex Reg')"
      ]
     },
     "execution_count": 71,
     "metadata": {},
     "output_type": "execute_result"
    },
    {
     "data": {
      "image/png": "[encoded data removed]",
      "text/plain": [
       "<Figure size 864x576 with 2 Axes>"
      ]
     },
     "metadata": {},
     "output_type": "display_data"
    }
   ],
   "source": [
    "fig, ax = plt.subplots(figsize = (12, 8), facecolor='w')\n",
    "sns.heatmap(gender_counts, cmap=\"bone_r\", vmin=0, vmax=1, ax=ax)\n",
    "ax.set_ylabel(\"Pew Sex ID\")\n",
    "ax.set_xlabel(\"NEU Sex Reg\")"
   ]
  },
  {
   "cell_type": "markdown",
   "metadata": {},
   "source": [
    "Where there's no missingness, sex agrees almost perfectly. The disagreements are self-identified males in the Pew data being recorded as female in the NEU data."
   ]
  },
  {
   "cell_type": "markdown",
   "metadata": {},
   "source": [
    "### Race"
   ]
  },
  {
   "cell_type": "code",
   "execution_count": 72,
   "metadata": {},
   "outputs": [],
   "source": [
    "kp_df['pew_race'] = kp_df.race.replace({\n",
    "    'Caucasian': 'White non-Hispanic',\n",
    "    'Hispanic': 'Hispanic',\n",
    "    'Uncoded': np.nan, # degree of freedom?\n",
    "    'Asian': 'Other', # is this right? it's probably not right\n",
    "    'African-American': 'Black non-Hispanic',\n",
    "    'Native American': 'Other',\n",
    "})"
   ]
  },
  {
   "cell_type": "code",
   "execution_count": 73,
   "metadata": {},
   "outputs": [],
   "source": [
    "race = kp_df.loc[:, ['hash', 'pew_race', 'F_RACETHN']]\n",
    "race['race_match'] = race['pew_race'] == race['F_RACETHN']\n",
    "race.loc[pd.isnull(race['pew_race']), \"race_match\"] = np.nan"
   ]
  },
  {
   "cell_type": "code",
   "execution_count": 74,
   "metadata": {},
   "outputs": [
    {
     "data": {
      "text/plain": [
       "1.00    91\n",
       "0.00    12\n",
       "nan      5\n",
       "Name: race_match, dtype: int64"
      ]
     },
     "execution_count": 74,
     "metadata": {},
     "output_type": "execute_result"
    }
   ],
   "source": [
    "race.race_match.value_counts(dropna=False)"
   ]
  },
  {
   "cell_type": "code",
   "execution_count": 75,
   "metadata": {},
   "outputs": [
    {
     "data": {
      "text/plain": [
       "1.00   0.88\n",
       "0.00   0.12\n",
       "Name: race_match, dtype: float64"
      ]
     },
     "execution_count": 75,
     "metadata": {},
     "output_type": "execute_result"
    }
   ],
   "source": [
    "race.race_match.value_counts(normalize=True, dropna=True)"
   ]
  },
  {
   "cell_type": "code",
   "execution_count": 76,
   "metadata": {},
   "outputs": [
    {
     "data": {
      "text/plain": [
       "F_RACETHN           pew_race          \n",
       "Black non-Hispanic  Black non-Hispanic     3\n",
       "                    White non-Hispanic     3\n",
       "                    Unknown                1\n",
       "Hispanic            Hispanic               4\n",
       "                    White non-Hispanic     3\n",
       "Other               White non-Hispanic     4\n",
       "                    Unknown                2\n",
       "                    Black non-Hispanic     1\n",
       "                    Other                  1\n",
       "White non-Hispanic  White non-Hispanic    83\n",
       "                    Unknown                2\n",
       "                    Black non-Hispanic     1\n",
       "Name: pew_race, dtype: int64"
      ]
     },
     "execution_count": 76,
     "metadata": {},
     "output_type": "execute_result"
    }
   ],
   "source": [
    "race.fillna(\"Unknown\").groupby(\"F_RACETHN\").pew_race.value_counts()"
   ]
  },
  {
   "cell_type": "code",
   "execution_count": null,
   "metadata": {},
   "outputs": [],
   "source": []
  },
  {
   "cell_type": "code",
   "execution_count": 77,
   "metadata": {},
   "outputs": [
    {
     "data": {
      "text/html": [
       "<div>\n",
       "<style scoped>\n",
       "    .dataframe tbody tr th:only-of-type {\n",
       "        vertical-align: middle;\n",
       "    }\n",
       "\n",
       "    .dataframe tbody tr th {\n",
       "        vertical-align: top;\n",
       "    }\n",
       "\n",
       "    .dataframe thead th {\n",
       "        text-align: right;\n",
       "    }\n",
       "</style>\n",
       "<table border=\"1\" class=\"dataframe\">\n",
       "  <thead>\n",
       "    <tr style=\"text-align: right;\">\n",
       "      <th></th>\n",
       "      <th></th>\n",
       "      <th>race_match</th>\n",
       "    </tr>\n",
       "    <tr>\n",
       "      <th>F_RACETHN</th>\n",
       "      <th>pew_race</th>\n",
       "      <th></th>\n",
       "    </tr>\n",
       "  </thead>\n",
       "  <tbody>\n",
       "    <tr>\n",
       "      <th rowspan=\"2\" valign=\"top\">Black non-Hispanic</th>\n",
       "      <th>Black non-Hispanic</th>\n",
       "      <td>3</td>\n",
       "    </tr>\n",
       "    <tr>\n",
       "      <th>White non-Hispanic</th>\n",
       "      <td>3</td>\n",
       "    </tr>\n",
       "    <tr>\n",
       "      <th rowspan=\"2\" valign=\"top\">Hispanic</th>\n",
       "      <th>Hispanic</th>\n",
       "      <td>4</td>\n",
       "    </tr>\n",
       "    <tr>\n",
       "      <th>White non-Hispanic</th>\n",
       "      <td>3</td>\n",
       "    </tr>\n",
       "    <tr>\n",
       "      <th rowspan=\"3\" valign=\"top\">Other</th>\n",
       "      <th>Black non-Hispanic</th>\n",
       "      <td>1</td>\n",
       "    </tr>\n",
       "    <tr>\n",
       "      <th>Other</th>\n",
       "      <td>1</td>\n",
       "    </tr>\n",
       "    <tr>\n",
       "      <th>White non-Hispanic</th>\n",
       "      <td>4</td>\n",
       "    </tr>\n",
       "    <tr>\n",
       "      <th rowspan=\"2\" valign=\"top\">White non-Hispanic</th>\n",
       "      <th>Black non-Hispanic</th>\n",
       "      <td>1</td>\n",
       "    </tr>\n",
       "    <tr>\n",
       "      <th>White non-Hispanic</th>\n",
       "      <td>83</td>\n",
       "    </tr>\n",
       "  </tbody>\n",
       "</table>\n",
       "</div>"
      ],
      "text/plain": [
       "                                       race_match\n",
       "F_RACETHN          pew_race                      \n",
       "Black non-Hispanic Black non-Hispanic           3\n",
       "                   White non-Hispanic           3\n",
       "Hispanic           Hispanic                     4\n",
       "                   White non-Hispanic           3\n",
       "Other              Black non-Hispanic           1\n",
       "                   Other                        1\n",
       "                   White non-Hispanic           4\n",
       "White non-Hispanic Black non-Hispanic           1\n",
       "                   White non-Hispanic          83"
      ]
     },
     "execution_count": 77,
     "metadata": {},
     "output_type": "execute_result"
    }
   ],
   "source": [
    "race.groupby([\"F_RACETHN\", \"pew_race\"]).agg({\"race_match\": \"count\"})"
   ]
  },
  {
   "cell_type": "code",
   "execution_count": 78,
   "metadata": {},
   "outputs": [
    {
     "data": {
      "text/html": [
       "<div>\n",
       "<style scoped>\n",
       "    .dataframe tbody tr th:only-of-type {\n",
       "        vertical-align: middle;\n",
       "    }\n",
       "\n",
       "    .dataframe tbody tr th {\n",
       "        vertical-align: top;\n",
       "    }\n",
       "\n",
       "    .dataframe thead th {\n",
       "        text-align: right;\n",
       "    }\n",
       "</style>\n",
       "<table border=\"1\" class=\"dataframe\">\n",
       "  <thead>\n",
       "    <tr style=\"text-align: right;\">\n",
       "      <th>pew_race</th>\n",
       "      <th>Black non-Hispanic</th>\n",
       "      <th>Hispanic</th>\n",
       "      <th>Other</th>\n",
       "      <th>White non-Hispanic</th>\n",
       "    </tr>\n",
       "    <tr>\n",
       "      <th>F_RACETHN</th>\n",
       "      <th></th>\n",
       "      <th></th>\n",
       "      <th></th>\n",
       "      <th></th>\n",
       "    </tr>\n",
       "  </thead>\n",
       "  <tbody>\n",
       "    <tr>\n",
       "      <th>Black non-Hispanic</th>\n",
       "      <td>3.00</td>\n",
       "      <td>0.00</td>\n",
       "      <td>0.00</td>\n",
       "      <td>3.00</td>\n",
       "    </tr>\n",
       "    <tr>\n",
       "      <th>Hispanic</th>\n",
       "      <td>0.00</td>\n",
       "      <td>4.00</td>\n",
       "      <td>0.00</td>\n",
       "      <td>3.00</td>\n",
       "    </tr>\n",
       "    <tr>\n",
       "      <th>Other</th>\n",
       "      <td>1.00</td>\n",
       "      <td>0.00</td>\n",
       "      <td>1.00</td>\n",
       "      <td>4.00</td>\n",
       "    </tr>\n",
       "    <tr>\n",
       "      <th>White non-Hispanic</th>\n",
       "      <td>1.00</td>\n",
       "      <td>0.00</td>\n",
       "      <td>0.00</td>\n",
       "      <td>83.00</td>\n",
       "    </tr>\n",
       "  </tbody>\n",
       "</table>\n",
       "</div>"
      ],
      "text/plain": [
       "pew_race            Black non-Hispanic  Hispanic  Other  White non-Hispanic\n",
       "F_RACETHN                                                                  \n",
       "Black non-Hispanic                3.00      0.00   0.00                3.00\n",
       "Hispanic                          0.00      4.00   0.00                3.00\n",
       "Other                             1.00      0.00   1.00                4.00\n",
       "White non-Hispanic                1.00      0.00   0.00               83.00"
      ]
     },
     "execution_count": 78,
     "metadata": {},
     "output_type": "execute_result"
    }
   ],
   "source": [
    "race_counts = race.groupby([\"F_RACETHN\", \"pew_race\"]).agg({\"race_match\": \"count\"})\n",
    "race_counts = race_counts.reset_index().pivot(\"F_RACETHN\", \"pew_race\", \"race_match\").fillna(0)\n",
    "race_counts"
   ]
  },
  {
   "cell_type": "code",
   "execution_count": 79,
   "metadata": {},
   "outputs": [],
   "source": [
    "race_counts = race_counts.div(race_counts.sum(axis=1), axis=0)"
   ]
  },
  {
   "cell_type": "code",
   "execution_count": 80,
   "metadata": {},
   "outputs": [
    {
     "data": {
      "text/plain": [
       "Text(0.5, 51.0, 'NEU Race Reg')"
      ]
     },
     "execution_count": 80,
     "metadata": {},
     "output_type": "execute_result"
    },
    {
     "data": {
      "image/png": "[encoded data removed]",
      "text/plain": [
       "<Figure size 864x576 with 2 Axes>"
      ]
     },
     "metadata": {},
     "output_type": "display_data"
    }
   ],
   "source": [
    "fig, ax = plt.subplots(figsize = (12, 8), facecolor='w')\n",
    "sns.heatmap(race_counts, cmap=\"bone_r\", vmin=0, vmax=1, ax=ax)\n",
    "ax.set_ylabel(\"Pew Race ID\")\n",
    "ax.set_xlabel(\"NEU Race Reg\")"
   ]
  },
  {
   "cell_type": "markdown",
   "metadata": {},
   "source": [
    "(A note on interpretation: the rows each sum to 1. That is, the first row summarizes the proportion of Pew-coded Black Americans who are recorded as, respectively, Black, Hispanic, Other, White. Where agreement is high, the diagonal will be darker and the off-diagonal will be lighter.)"
   ]
  },
  {
   "cell_type": "markdown",
   "metadata": {},
   "source": [
    "#### WRU"
   ]
  },
  {
   "cell_type": "code",
   "execution_count": 81,
   "metadata": {},
   "outputs": [],
   "source": [
    "kp_df['pew_imputed_race'] = kp_df.imputed_race.replace({\n",
    "    'Caucasian': 'White non-Hispanic',\n",
    "    'Hispanic': 'Hispanic',\n",
    "    'Uncoded': np.nan, # degree of freedom?\n",
    "    'Asian': 'Other', # is this right? it's probably not right\n",
    "    'African-American': 'Black non-Hispanic',\n",
    "    'Native American': 'Other',\n",
    "})"
   ]
  },
  {
   "cell_type": "code",
   "execution_count": 82,
   "metadata": {},
   "outputs": [
    {
     "data": {
      "text/plain": [
       "Caucasian           90\n",
       "Hispanic             5\n",
       "Asian                2\n",
       "African-American     2\n",
       "Other                1\n",
       "Name: imputed_race, dtype: int64"
      ]
     },
     "execution_count": 82,
     "metadata": {},
     "output_type": "execute_result"
    }
   ],
   "source": [
    "kp_df.imputed_race.value_counts()"
   ]
  },
  {
   "cell_type": "code",
   "execution_count": 83,
   "metadata": {},
   "outputs": [],
   "source": [
    "imputed_race = kp_df.loc[:, ['hash', 'pew_imputed_race', 'F_RACETHN']]\n",
    "imputed_race['race_match'] = imputed_race['pew_imputed_race'] == imputed_race['F_RACETHN']\n",
    "imputed_race.loc[pd.isnull(imputed_race['pew_imputed_race']), \"race_match\"] = np.nan"
   ]
  },
  {
   "cell_type": "code",
   "execution_count": 84,
   "metadata": {},
   "outputs": [
    {
     "data": {
      "text/plain": [
       "1.00    84\n",
       "0.00    16\n",
       "nan      8\n",
       "Name: race_match, dtype: int64"
      ]
     },
     "execution_count": 84,
     "metadata": {},
     "output_type": "execute_result"
    }
   ],
   "source": [
    "imputed_race.race_match.value_counts(dropna=False)"
   ]
  },
  {
   "cell_type": "code",
   "execution_count": 85,
   "metadata": {},
   "outputs": [
    {
     "data": {
      "text/plain": [
       "1.00   0.84\n",
       "0.00   0.16\n",
       "Name: race_match, dtype: float64"
      ]
     },
     "execution_count": 85,
     "metadata": {},
     "output_type": "execute_result"
    }
   ],
   "source": [
    "imputed_race.race_match.value_counts(normalize=True, dropna=True)"
   ]
  },
  {
   "cell_type": "code",
   "execution_count": 86,
   "metadata": {},
   "outputs": [
    {
     "data": {
      "text/html": [
       "<div>\n",
       "<style scoped>\n",
       "    .dataframe tbody tr th:only-of-type {\n",
       "        vertical-align: middle;\n",
       "    }\n",
       "\n",
       "    .dataframe tbody tr th {\n",
       "        vertical-align: top;\n",
       "    }\n",
       "\n",
       "    .dataframe thead th {\n",
       "        text-align: right;\n",
       "    }\n",
       "</style>\n",
       "<table border=\"1\" class=\"dataframe\">\n",
       "  <thead>\n",
       "    <tr style=\"text-align: right;\">\n",
       "      <th></th>\n",
       "      <th></th>\n",
       "      <th>race_match</th>\n",
       "    </tr>\n",
       "    <tr>\n",
       "      <th>F_RACETHN</th>\n",
       "      <th>pew_imputed_race</th>\n",
       "      <th></th>\n",
       "    </tr>\n",
       "  </thead>\n",
       "  <tbody>\n",
       "    <tr>\n",
       "      <th rowspan=\"2\" valign=\"top\">Black non-Hispanic</th>\n",
       "      <th>Black non-Hispanic</th>\n",
       "      <td>1</td>\n",
       "    </tr>\n",
       "    <tr>\n",
       "      <th>White non-Hispanic</th>\n",
       "      <td>5</td>\n",
       "    </tr>\n",
       "    <tr>\n",
       "      <th rowspan=\"2\" valign=\"top\">Hispanic</th>\n",
       "      <th>Hispanic</th>\n",
       "      <td>4</td>\n",
       "    </tr>\n",
       "    <tr>\n",
       "      <th>White non-Hispanic</th>\n",
       "      <td>3</td>\n",
       "    </tr>\n",
       "    <tr>\n",
       "      <th rowspan=\"3\" valign=\"top\">Other</th>\n",
       "      <th>Black non-Hispanic</th>\n",
       "      <td>1</td>\n",
       "    </tr>\n",
       "    <tr>\n",
       "      <th>Other</th>\n",
       "      <td>1</td>\n",
       "    </tr>\n",
       "    <tr>\n",
       "      <th>White non-Hispanic</th>\n",
       "      <td>4</td>\n",
       "    </tr>\n",
       "    <tr>\n",
       "      <th rowspan=\"3\" valign=\"top\">White non-Hispanic</th>\n",
       "      <th>Hispanic</th>\n",
       "      <td>1</td>\n",
       "    </tr>\n",
       "    <tr>\n",
       "      <th>Other</th>\n",
       "      <td>2</td>\n",
       "    </tr>\n",
       "    <tr>\n",
       "      <th>White non-Hispanic</th>\n",
       "      <td>78</td>\n",
       "    </tr>\n",
       "  </tbody>\n",
       "</table>\n",
       "</div>"
      ],
      "text/plain": [
       "                                       race_match\n",
       "F_RACETHN          pew_imputed_race              \n",
       "Black non-Hispanic Black non-Hispanic           1\n",
       "                   White non-Hispanic           5\n",
       "Hispanic           Hispanic                     4\n",
       "                   White non-Hispanic           3\n",
       "Other              Black non-Hispanic           1\n",
       "                   Other                        1\n",
       "                   White non-Hispanic           4\n",
       "White non-Hispanic Hispanic                     1\n",
       "                   Other                        2\n",
       "                   White non-Hispanic          78"
      ]
     },
     "execution_count": 86,
     "metadata": {},
     "output_type": "execute_result"
    }
   ],
   "source": [
    "imputed_race.groupby([\"F_RACETHN\", \"pew_imputed_race\"]).agg({\"race_match\": \"count\"})"
   ]
  },
  {
   "cell_type": "code",
   "execution_count": 87,
   "metadata": {},
   "outputs": [
    {
     "data": {
      "text/html": [
       "<div>\n",
       "<style scoped>\n",
       "    .dataframe tbody tr th:only-of-type {\n",
       "        vertical-align: middle;\n",
       "    }\n",
       "\n",
       "    .dataframe tbody tr th {\n",
       "        vertical-align: top;\n",
       "    }\n",
       "\n",
       "    .dataframe thead th {\n",
       "        text-align: right;\n",
       "    }\n",
       "</style>\n",
       "<table border=\"1\" class=\"dataframe\">\n",
       "  <thead>\n",
       "    <tr style=\"text-align: right;\">\n",
       "      <th>pew_imputed_race</th>\n",
       "      <th>Black non-Hispanic</th>\n",
       "      <th>Hispanic</th>\n",
       "      <th>Other</th>\n",
       "      <th>White non-Hispanic</th>\n",
       "    </tr>\n",
       "    <tr>\n",
       "      <th>F_RACETHN</th>\n",
       "      <th></th>\n",
       "      <th></th>\n",
       "      <th></th>\n",
       "      <th></th>\n",
       "    </tr>\n",
       "  </thead>\n",
       "  <tbody>\n",
       "    <tr>\n",
       "      <th>Black non-Hispanic</th>\n",
       "      <td>1.00</td>\n",
       "      <td>0.00</td>\n",
       "      <td>0.00</td>\n",
       "      <td>5.00</td>\n",
       "    </tr>\n",
       "    <tr>\n",
       "      <th>Hispanic</th>\n",
       "      <td>0.00</td>\n",
       "      <td>4.00</td>\n",
       "      <td>0.00</td>\n",
       "      <td>3.00</td>\n",
       "    </tr>\n",
       "    <tr>\n",
       "      <th>Other</th>\n",
       "      <td>1.00</td>\n",
       "      <td>0.00</td>\n",
       "      <td>1.00</td>\n",
       "      <td>4.00</td>\n",
       "    </tr>\n",
       "    <tr>\n",
       "      <th>White non-Hispanic</th>\n",
       "      <td>0.00</td>\n",
       "      <td>1.00</td>\n",
       "      <td>2.00</td>\n",
       "      <td>78.00</td>\n",
       "    </tr>\n",
       "  </tbody>\n",
       "</table>\n",
       "</div>"
      ],
      "text/plain": [
       "pew_imputed_race    Black non-Hispanic  Hispanic  Other  White non-Hispanic\n",
       "F_RACETHN                                                                  \n",
       "Black non-Hispanic                1.00      0.00   0.00                5.00\n",
       "Hispanic                          0.00      4.00   0.00                3.00\n",
       "Other                             1.00      0.00   1.00                4.00\n",
       "White non-Hispanic                0.00      1.00   2.00               78.00"
      ]
     },
     "execution_count": 87,
     "metadata": {},
     "output_type": "execute_result"
    }
   ],
   "source": [
    "imputed_race_counts = imputed_race.groupby([\"F_RACETHN\", \"pew_imputed_race\"]).agg({\"race_match\": \"count\"})\n",
    "imputed_race_counts = imputed_race_counts.reset_index().pivot(\"F_RACETHN\", \"pew_imputed_race\", \"race_match\").fillna(0)\n",
    "imputed_race_counts"
   ]
  },
  {
   "cell_type": "code",
   "execution_count": 88,
   "metadata": {},
   "outputs": [],
   "source": [
    "imputed_race_counts = imputed_race_counts.div(imputed_race_counts.sum(axis=1), axis=0)"
   ]
  },
  {
   "cell_type": "code",
   "execution_count": 89,
   "metadata": {},
   "outputs": [
    {
     "data": {
      "text/plain": [
       "Text(0.5, 51.0, 'NEU Imputed Race')"
      ]
     },
     "execution_count": 89,
     "metadata": {},
     "output_type": "execute_result"
    },
    {
     "data": {
      "image/png": "[encoded data removed]",
      "text/plain": [
       "<Figure size 864x576 with 2 Axes>"
      ]
     },
     "metadata": {},
     "output_type": "display_data"
    }
   ],
   "source": [
    "fig, ax = plt.subplots(figsize = (12, 8), facecolor='w')\n",
    "sns.heatmap(imputed_race_counts, cmap=\"bone_r\", vmin=0, vmax=1, ax=ax)\n",
    "ax.set_ylabel(\"Pew Race ID\")\n",
    "ax.set_xlabel(\"NEU Imputed Race\")"
   ]
  },
  {
   "cell_type": "markdown",
   "metadata": {},
   "source": [
    "### Party"
   ]
  },
  {
   "cell_type": "code",
   "execution_count": 90,
   "metadata": {},
   "outputs": [],
   "source": [
    "kp_df['pew_party'] = kp_df.party.replace({\n",
    "    'Unaffiliated': 'Independent',\n",
    "    'Other': 'Something else',\n",
    "    'Libertarian': 'Something else',\n",
    "    'No Party': 'Independent'\n",
    "})"
   ]
  },
  {
   "cell_type": "code",
   "execution_count": 91,
   "metadata": {},
   "outputs": [],
   "source": [
    "party = kp_df.loc[:, [\"hash\", \"F_PARTY_FINAL\", \"pew_party\"]]\n",
    "party['party_match'] = party['F_PARTY_FINAL'] == party['pew_party']\n",
    "party.loc[pd.isnull(party[\"pew_party\"]), \"party_match\"] = np.nan"
   ]
  },
  {
   "cell_type": "code",
   "execution_count": 92,
   "metadata": {},
   "outputs": [
    {
     "data": {
      "text/plain": [
       "0.00    52\n",
       "1.00    48\n",
       "nan      8\n",
       "Name: party_match, dtype: int64"
      ]
     },
     "execution_count": 92,
     "metadata": {},
     "output_type": "execute_result"
    }
   ],
   "source": [
    "party.party_match.value_counts(dropna=False)"
   ]
  },
  {
   "cell_type": "code",
   "execution_count": 93,
   "metadata": {},
   "outputs": [
    {
     "data": {
      "text/plain": [
       "0.00   0.52\n",
       "1.00   0.48\n",
       "Name: party_match, dtype: float64"
      ]
     },
     "execution_count": 93,
     "metadata": {},
     "output_type": "execute_result"
    }
   ],
   "source": [
    "party.party_match.value_counts(normalize=True, dropna=True)"
   ]
  },
  {
   "cell_type": "code",
   "execution_count": 94,
   "metadata": {},
   "outputs": [
    {
     "data": {
      "text/html": [
       "<div>\n",
       "<style scoped>\n",
       "    .dataframe tbody tr th:only-of-type {\n",
       "        vertical-align: middle;\n",
       "    }\n",
       "\n",
       "    .dataframe tbody tr th {\n",
       "        vertical-align: top;\n",
       "    }\n",
       "\n",
       "    .dataframe thead th {\n",
       "        text-align: right;\n",
       "    }\n",
       "</style>\n",
       "<table border=\"1\" class=\"dataframe\">\n",
       "  <thead>\n",
       "    <tr style=\"text-align: right;\">\n",
       "      <th></th>\n",
       "      <th></th>\n",
       "      <th>party_match</th>\n",
       "    </tr>\n",
       "    <tr>\n",
       "      <th>F_PARTY_FINAL</th>\n",
       "      <th>pew_party</th>\n",
       "      <th></th>\n",
       "    </tr>\n",
       "  </thead>\n",
       "  <tbody>\n",
       "    <tr>\n",
       "      <th rowspan=\"3\" valign=\"top\">Democrat</th>\n",
       "      <th>Democrat</th>\n",
       "      <td>20</td>\n",
       "    </tr>\n",
       "    <tr>\n",
       "      <th>Independent</th>\n",
       "      <td>25</td>\n",
       "    </tr>\n",
       "    <tr>\n",
       "      <th>Republican</th>\n",
       "      <td>1</td>\n",
       "    </tr>\n",
       "    <tr>\n",
       "      <th rowspan=\"4\" valign=\"top\">Independent</th>\n",
       "      <th>Democrat</th>\n",
       "      <td>3</td>\n",
       "    </tr>\n",
       "    <tr>\n",
       "      <th>Independent</th>\n",
       "      <td>18</td>\n",
       "    </tr>\n",
       "    <tr>\n",
       "      <th>Republican</th>\n",
       "      <td>5</td>\n",
       "    </tr>\n",
       "    <tr>\n",
       "      <th>Something else</th>\n",
       "      <td>1</td>\n",
       "    </tr>\n",
       "    <tr>\n",
       "      <th rowspan=\"3\" valign=\"top\">Republican</th>\n",
       "      <th>Democrat</th>\n",
       "      <td>2</td>\n",
       "    </tr>\n",
       "    <tr>\n",
       "      <th>Independent</th>\n",
       "      <td>8</td>\n",
       "    </tr>\n",
       "    <tr>\n",
       "      <th>Republican</th>\n",
       "      <td>10</td>\n",
       "    </tr>\n",
       "    <tr>\n",
       "      <th rowspan=\"2\" valign=\"top\">Something else</th>\n",
       "      <th>Independent</th>\n",
       "      <td>5</td>\n",
       "    </tr>\n",
       "    <tr>\n",
       "      <th>Republican</th>\n",
       "      <td>2</td>\n",
       "    </tr>\n",
       "  </tbody>\n",
       "</table>\n",
       "</div>"
      ],
      "text/plain": [
       "                               party_match\n",
       "F_PARTY_FINAL  pew_party                  \n",
       "Democrat       Democrat                 20\n",
       "               Independent              25\n",
       "               Republican                1\n",
       "Independent    Democrat                  3\n",
       "               Independent              18\n",
       "               Republican                5\n",
       "               Something else            1\n",
       "Republican     Democrat                  2\n",
       "               Independent               8\n",
       "               Republican               10\n",
       "Something else Independent               5\n",
       "               Republican                2"
      ]
     },
     "execution_count": 94,
     "metadata": {},
     "output_type": "execute_result"
    }
   ],
   "source": [
    "party.groupby([\"F_PARTY_FINAL\", \"pew_party\"]).agg({\"party_match\": \"count\"})"
   ]
  },
  {
   "cell_type": "code",
   "execution_count": 95,
   "metadata": {},
   "outputs": [
    {
     "data": {
      "text/plain": [
       "F_PARTY_FINAL   pew_party     \n",
       "Democrat        Independent       25\n",
       "                Democrat          20\n",
       "                Unknown            2\n",
       "                Republican         1\n",
       "Independent     Independent       18\n",
       "                Republican         5\n",
       "                Democrat           3\n",
       "                Something else     1\n",
       "                Unknown            1\n",
       "Republican      Republican        10\n",
       "                Independent        8\n",
       "                Unknown            3\n",
       "                Democrat           2\n",
       "Something else  Independent        5\n",
       "                Republican         2\n",
       "                Unknown            2\n",
       "Name: pew_party, dtype: int64"
      ]
     },
     "execution_count": 95,
     "metadata": {},
     "output_type": "execute_result"
    }
   ],
   "source": [
    "party.fillna(\"Unknown\").groupby(\"F_PARTY_FINAL\").pew_party.value_counts()"
   ]
  },
  {
   "cell_type": "code",
   "execution_count": 96,
   "metadata": {},
   "outputs": [
    {
     "data": {
      "text/html": [
       "<div>\n",
       "<style scoped>\n",
       "    .dataframe tbody tr th:only-of-type {\n",
       "        vertical-align: middle;\n",
       "    }\n",
       "\n",
       "    .dataframe tbody tr th {\n",
       "        vertical-align: top;\n",
       "    }\n",
       "\n",
       "    .dataframe thead th {\n",
       "        text-align: right;\n",
       "    }\n",
       "</style>\n",
       "<table border=\"1\" class=\"dataframe\">\n",
       "  <thead>\n",
       "    <tr style=\"text-align: right;\">\n",
       "      <th>pew_party</th>\n",
       "      <th>Democrat</th>\n",
       "      <th>Independent</th>\n",
       "      <th>Republican</th>\n",
       "      <th>Something else</th>\n",
       "    </tr>\n",
       "    <tr>\n",
       "      <th>F_PARTY_FINAL</th>\n",
       "      <th></th>\n",
       "      <th></th>\n",
       "      <th></th>\n",
       "      <th></th>\n",
       "    </tr>\n",
       "  </thead>\n",
       "  <tbody>\n",
       "    <tr>\n",
       "      <th>Democrat</th>\n",
       "      <td>20.00</td>\n",
       "      <td>25.00</td>\n",
       "      <td>1.00</td>\n",
       "      <td>0.00</td>\n",
       "    </tr>\n",
       "    <tr>\n",
       "      <th>Independent</th>\n",
       "      <td>3.00</td>\n",
       "      <td>18.00</td>\n",
       "      <td>5.00</td>\n",
       "      <td>1.00</td>\n",
       "    </tr>\n",
       "    <tr>\n",
       "      <th>Republican</th>\n",
       "      <td>2.00</td>\n",
       "      <td>8.00</td>\n",
       "      <td>10.00</td>\n",
       "      <td>0.00</td>\n",
       "    </tr>\n",
       "    <tr>\n",
       "      <th>Something else</th>\n",
       "      <td>0.00</td>\n",
       "      <td>5.00</td>\n",
       "      <td>2.00</td>\n",
       "      <td>0.00</td>\n",
       "    </tr>\n",
       "  </tbody>\n",
       "</table>\n",
       "</div>"
      ],
      "text/plain": [
       "pew_party       Democrat  Independent  Republican  Something else\n",
       "F_PARTY_FINAL                                                    \n",
       "Democrat           20.00        25.00        1.00            0.00\n",
       "Independent         3.00        18.00        5.00            1.00\n",
       "Republican          2.00         8.00       10.00            0.00\n",
       "Something else      0.00         5.00        2.00            0.00"
      ]
     },
     "execution_count": 96,
     "metadata": {},
     "output_type": "execute_result"
    }
   ],
   "source": [
    "party_counts = party.groupby([\"F_PARTY_FINAL\", \"pew_party\"]).agg({\"party_match\": \"count\"})\n",
    "party_counts = party_counts.reset_index().pivot(\"F_PARTY_FINAL\", \"pew_party\", \"party_match\").fillna(0)\n",
    "party_counts"
   ]
  },
  {
   "cell_type": "code",
   "execution_count": 97,
   "metadata": {},
   "outputs": [],
   "source": [
    "party_counts = party_counts.div(party_counts.sum(axis=1), axis=0)"
   ]
  },
  {
   "cell_type": "code",
   "execution_count": 98,
   "metadata": {},
   "outputs": [
    {
     "data": {
      "text/plain": [
       "Text(0.5, 51.0, 'NEU Party Reg')"
      ]
     },
     "execution_count": 98,
     "metadata": {},
     "output_type": "execute_result"
    },
    {
     "data": {
      "image/png": "[encoded data removed]",
      "text/plain": [
       "<Figure size 864x576 with 2 Axes>"
      ]
     },
     "metadata": {},
     "output_type": "display_data"
    }
   ],
   "source": [
    "fig, ax = plt.subplots(figsize = (12, 8), facecolor='w')\n",
    "sns.heatmap(party_counts, cmap=\"bone_r\", vmin=0, vmax=1, ax=ax)\n",
    "ax.set_ylabel(\"Pew Party ID\")\n",
    "ax.set_xlabel(\"NEU Party Reg\")"
   ]
  },
  {
   "cell_type": "markdown",
   "metadata": {},
   "source": [
    "#### TSmart Party"
   ]
  },
  {
   "cell_type": "code",
   "execution_count": 99,
   "metadata": {},
   "outputs": [],
   "source": [
    "kp_df['tsmart_party'] = pd.cut(kp_df['partisan_score'].astype(np.float64), [0, 36, 65, 100], labels=[\"Republican\", \"Independent\", \"Democrat\"])"
   ]
  },
  {
   "cell_type": "code",
   "execution_count": 100,
   "metadata": {},
   "outputs": [],
   "source": [
    "kp_df['pew_tsmart_party'] = kp_df.tsmart_party.replace({\n",
    "    'Unaffiliated': 'Independent',\n",
    "    'Other': 'Something else',\n",
    "    'Libertarian': 'Something else',\n",
    "    'No Party': 'Independent'\n",
    "})"
   ]
  },
  {
   "cell_type": "code",
   "execution_count": 101,
   "metadata": {},
   "outputs": [],
   "source": [
    "tsmart_party = kp_df.loc[:, [\"hash\", \"F_PARTY_FINAL\", \"pew_tsmart_party\"]]\n",
    "tsmart_party['tsmart_party_match'] = tsmart_party['F_PARTY_FINAL'] == tsmart_party['pew_tsmart_party']\n",
    "tsmart_party.loc[pd.isnull(tsmart_party[\"pew_tsmart_party\"]), \"tsmart_party_match\"] = np.nan"
   ]
  },
  {
   "cell_type": "code",
   "execution_count": 102,
   "metadata": {},
   "outputs": [
    {
     "data": {
      "text/plain": [
       "1.00    62\n",
       "0.00    44\n",
       "nan      2\n",
       "Name: tsmart_party_match, dtype: int64"
      ]
     },
     "execution_count": 102,
     "metadata": {},
     "output_type": "execute_result"
    }
   ],
   "source": [
    "tsmart_party.tsmart_party_match.value_counts(dropna=False)"
   ]
  },
  {
   "cell_type": "code",
   "execution_count": 103,
   "metadata": {},
   "outputs": [
    {
     "data": {
      "text/plain": [
       "1.00   0.58\n",
       "0.00   0.42\n",
       "Name: tsmart_party_match, dtype: float64"
      ]
     },
     "execution_count": 103,
     "metadata": {},
     "output_type": "execute_result"
    }
   ],
   "source": [
    "tsmart_party.tsmart_party_match.value_counts(normalize=True, dropna=True)"
   ]
  },
  {
   "cell_type": "code",
   "execution_count": 104,
   "metadata": {},
   "outputs": [
    {
     "data": {
      "text/html": [
       "<div>\n",
       "<style scoped>\n",
       "    .dataframe tbody tr th:only-of-type {\n",
       "        vertical-align: middle;\n",
       "    }\n",
       "\n",
       "    .dataframe tbody tr th {\n",
       "        vertical-align: top;\n",
       "    }\n",
       "\n",
       "    .dataframe thead th {\n",
       "        text-align: right;\n",
       "    }\n",
       "</style>\n",
       "<table border=\"1\" class=\"dataframe\">\n",
       "  <thead>\n",
       "    <tr style=\"text-align: right;\">\n",
       "      <th></th>\n",
       "      <th></th>\n",
       "      <th>tsmart_party_match</th>\n",
       "    </tr>\n",
       "    <tr>\n",
       "      <th>F_PARTY_FINAL</th>\n",
       "      <th>pew_tsmart_party</th>\n",
       "      <th></th>\n",
       "    </tr>\n",
       "  </thead>\n",
       "  <tbody>\n",
       "    <tr>\n",
       "      <th rowspan=\"3\" valign=\"top\">Democrat</th>\n",
       "      <th>Republican</th>\n",
       "      <td>4</td>\n",
       "    </tr>\n",
       "    <tr>\n",
       "      <th>Independent</th>\n",
       "      <td>2</td>\n",
       "    </tr>\n",
       "    <tr>\n",
       "      <th>Democrat</th>\n",
       "      <td>42</td>\n",
       "    </tr>\n",
       "    <tr>\n",
       "      <th rowspan=\"3\" valign=\"top\">Independent</th>\n",
       "      <th>Republican</th>\n",
       "      <td>12</td>\n",
       "    </tr>\n",
       "    <tr>\n",
       "      <th>Independent</th>\n",
       "      <td>6</td>\n",
       "    </tr>\n",
       "    <tr>\n",
       "      <th>Democrat</th>\n",
       "      <td>10</td>\n",
       "    </tr>\n",
       "    <tr>\n",
       "      <th rowspan=\"3\" valign=\"top\">Republican</th>\n",
       "      <th>Republican</th>\n",
       "      <td>14</td>\n",
       "    </tr>\n",
       "    <tr>\n",
       "      <th>Independent</th>\n",
       "      <td>3</td>\n",
       "    </tr>\n",
       "    <tr>\n",
       "      <th>Democrat</th>\n",
       "      <td>6</td>\n",
       "    </tr>\n",
       "    <tr>\n",
       "      <th rowspan=\"3\" valign=\"top\">Something else</th>\n",
       "      <th>Republican</th>\n",
       "      <td>5</td>\n",
       "    </tr>\n",
       "    <tr>\n",
       "      <th>Independent</th>\n",
       "      <td>1</td>\n",
       "    </tr>\n",
       "    <tr>\n",
       "      <th>Democrat</th>\n",
       "      <td>1</td>\n",
       "    </tr>\n",
       "  </tbody>\n",
       "</table>\n",
       "</div>"
      ],
      "text/plain": [
       "                                 tsmart_party_match\n",
       "F_PARTY_FINAL  pew_tsmart_party                    \n",
       "Democrat       Republican                         4\n",
       "               Independent                        2\n",
       "               Democrat                          42\n",
       "Independent    Republican                        12\n",
       "               Independent                        6\n",
       "               Democrat                          10\n",
       "Republican     Republican                        14\n",
       "               Independent                        3\n",
       "               Democrat                           6\n",
       "Something else Republican                         5\n",
       "               Independent                        1\n",
       "               Democrat                           1"
      ]
     },
     "execution_count": 104,
     "metadata": {},
     "output_type": "execute_result"
    }
   ],
   "source": [
    "tsmart_party.groupby([\"F_PARTY_FINAL\", \"pew_tsmart_party\"]).agg({\"tsmart_party_match\": \"count\"})"
   ]
  },
  {
   "cell_type": "code",
   "execution_count": 105,
   "metadata": {},
   "outputs": [
    {
     "data": {
      "text/html": [
       "<div>\n",
       "<style scoped>\n",
       "    .dataframe tbody tr th:only-of-type {\n",
       "        vertical-align: middle;\n",
       "    }\n",
       "\n",
       "    .dataframe tbody tr th {\n",
       "        vertical-align: top;\n",
       "    }\n",
       "\n",
       "    .dataframe thead th {\n",
       "        text-align: right;\n",
       "    }\n",
       "</style>\n",
       "<table border=\"1\" class=\"dataframe\">\n",
       "  <thead>\n",
       "    <tr style=\"text-align: right;\">\n",
       "      <th>pew_tsmart_party</th>\n",
       "      <th>Republican</th>\n",
       "      <th>Independent</th>\n",
       "      <th>Democrat</th>\n",
       "      <th>Something else</th>\n",
       "    </tr>\n",
       "    <tr>\n",
       "      <th>F_PARTY_FINAL</th>\n",
       "      <th></th>\n",
       "      <th></th>\n",
       "      <th></th>\n",
       "      <th></th>\n",
       "    </tr>\n",
       "  </thead>\n",
       "  <tbody>\n",
       "    <tr>\n",
       "      <th>Democrat</th>\n",
       "      <td>4</td>\n",
       "      <td>2</td>\n",
       "      <td>42</td>\n",
       "      <td>0</td>\n",
       "    </tr>\n",
       "    <tr>\n",
       "      <th>Independent</th>\n",
       "      <td>12</td>\n",
       "      <td>6</td>\n",
       "      <td>10</td>\n",
       "      <td>0</td>\n",
       "    </tr>\n",
       "    <tr>\n",
       "      <th>Republican</th>\n",
       "      <td>14</td>\n",
       "      <td>3</td>\n",
       "      <td>6</td>\n",
       "      <td>0</td>\n",
       "    </tr>\n",
       "    <tr>\n",
       "      <th>Something else</th>\n",
       "      <td>5</td>\n",
       "      <td>1</td>\n",
       "      <td>1</td>\n",
       "      <td>0</td>\n",
       "    </tr>\n",
       "  </tbody>\n",
       "</table>\n",
       "</div>"
      ],
      "text/plain": [
       "pew_tsmart_party  Republican  Independent  Democrat  Something else\n",
       "F_PARTY_FINAL                                                      \n",
       "Democrat                   4            2        42               0\n",
       "Independent               12            6        10               0\n",
       "Republican                14            3         6               0\n",
       "Something else             5            1         1               0"
      ]
     },
     "execution_count": 105,
     "metadata": {},
     "output_type": "execute_result"
    }
   ],
   "source": [
    "tsmart_party_counts = tsmart_party.groupby([\"F_PARTY_FINAL\", \"pew_tsmart_party\"]).agg({\"tsmart_party_match\": \"count\"})\n",
    "tsmart_party_counts = tsmart_party_counts.reset_index().pivot(\"F_PARTY_FINAL\", \"pew_tsmart_party\", \"tsmart_party_match\").fillna(0)\n",
    "\n",
    "# TSmart partisan score doesn't give a \"Something else\", so all this is just fussing\n",
    "# around with the Index to play nice.\n",
    "tsmart_party_counts.columns = tsmart_party_counts.columns.as_unordered().add_categories(\"Something else\")\n",
    "tsmart_party_counts.loc[:, \"Something else\"] = [0,0,0,0]\n",
    "tsmart_party_counts.index = tsmart_party_counts.index.sort_values()\n",
    "\n",
    "tsmart_party_counts"
   ]
  },
  {
   "cell_type": "code",
   "execution_count": 106,
   "metadata": {},
   "outputs": [],
   "source": [
    "tsmart_party_counts = tsmart_party_counts.div(tsmart_party_counts.sum(axis=1), axis=0)#.reset_index()"
   ]
  },
  {
   "cell_type": "code",
   "execution_count": 107,
   "metadata": {},
   "outputs": [],
   "source": [
    "tsmart_party_counts = tsmart_party_counts.loc[:, [\"Democrat\", \"Independent\", \"Republican\", \"Something else\"]]"
   ]
  },
  {
   "cell_type": "code",
   "execution_count": 108,
   "metadata": {},
   "outputs": [
    {
     "data": {
      "text/plain": [
       "Text(0.5, 51.0, 'NEU Modeled Party')"
      ]
     },
     "execution_count": 108,
     "metadata": {},
     "output_type": "execute_result"
    },
    {
     "data": {
      "image/png": "[encoded data removed]",
      "text/plain": [
       "<Figure size 864x576 with 2 Axes>"
      ]
     },
     "metadata": {},
     "output_type": "display_data"
    }
   ],
   "source": [
    "fig, ax = plt.subplots(figsize = (12, 8), facecolor='w')\n",
    "sns.heatmap(tsmart_party_counts, cmap=\"bone_r\", vmin=0, vmax=1, ax=ax)\n",
    "ax.set_ylabel(\"Pew Party ID\")\n",
    "ax.set_xlabel(\"NEU Modeled Party\")"
   ]
  },
  {
   "cell_type": "markdown",
   "metadata": {},
   "source": [
    "### Age"
   ]
  },
  {
   "cell_type": "code",
   "execution_count": 109,
   "metadata": {},
   "outputs": [
    {
     "data": {
      "text/plain": [
       "30-49    54\n",
       "50-64    33\n",
       "65+      14\n",
       "18-29     7\n",
       "Name: F_AGECAT, dtype: int64"
      ]
     },
     "execution_count": 109,
     "metadata": {},
     "output_type": "execute_result"
    }
   ],
   "source": [
    "kp_df.F_AGECAT.value_counts()"
   ]
  },
  {
   "cell_type": "code",
   "execution_count": 110,
   "metadata": {},
   "outputs": [],
   "source": [
    "kp_df['shifted_age'] = kp_df['age'] + 2\n",
    "kp_df['pew_age'] = pd.cut(kp_df.shifted_age, [0, 17, 29, 49, 64, 130]).astype('str').replace({\n",
    "    \"(49.0, 64.0]\": '50-64',\n",
    "    \"(0.0, 17.0]\": \"<18\",\n",
    "    \"(17.0, 29.0]\": \"18-29\",\n",
    "    \"(64.0, 130.0]\": \"65+\",\n",
    "    \"(29.0, 49.0]\": \"30-49\",\n",
    "    \"nan\": np.nan\n",
    "})"
   ]
  },
  {
   "cell_type": "markdown",
   "metadata": {},
   "source": [
    "(Note that the voter-file age is shifted by two because the Pew surveys were conducted in 2019 and the voter file dates from 2017.)"
   ]
  },
  {
   "cell_type": "code",
   "execution_count": 111,
   "metadata": {},
   "outputs": [],
   "source": [
    "age = kp_df.loc[:, [\"hash\", \"shifted_age\", 'pew_age', 'F_AGECAT']]\n",
    "age['age_match'] = age['pew_age'] == age['F_AGECAT']\n",
    "age.loc[pd.isnull(age[\"pew_age\"]), \"age_match\"] = np.nan"
   ]
  },
  {
   "cell_type": "code",
   "execution_count": 112,
   "metadata": {},
   "outputs": [
    {
     "data": {
      "text/plain": [
       "1.00    92\n",
       "0.00    13\n",
       "nan      3\n",
       "Name: age_match, dtype: int64"
      ]
     },
     "execution_count": 112,
     "metadata": {},
     "output_type": "execute_result"
    }
   ],
   "source": [
    "age.age_match.value_counts(dropna=False)"
   ]
  },
  {
   "cell_type": "code",
   "execution_count": 113,
   "metadata": {},
   "outputs": [
    {
     "data": {
      "text/plain": [
       "1.00   0.88\n",
       "0.00   0.12\n",
       "Name: age_match, dtype: float64"
      ]
     },
     "execution_count": 113,
     "metadata": {},
     "output_type": "execute_result"
    }
   ],
   "source": [
    "age.age_match.value_counts(normalize=True, dropna=True)"
   ]
  },
  {
   "cell_type": "code",
   "execution_count": 114,
   "metadata": {},
   "outputs": [
    {
     "data": {
      "text/html": [
       "<div>\n",
       "<style scoped>\n",
       "    .dataframe tbody tr th:only-of-type {\n",
       "        vertical-align: middle;\n",
       "    }\n",
       "\n",
       "    .dataframe tbody tr th {\n",
       "        vertical-align: top;\n",
       "    }\n",
       "\n",
       "    .dataframe thead th {\n",
       "        text-align: right;\n",
       "    }\n",
       "</style>\n",
       "<table border=\"1\" class=\"dataframe\">\n",
       "  <thead>\n",
       "    <tr style=\"text-align: right;\">\n",
       "      <th></th>\n",
       "      <th></th>\n",
       "      <th>age_match</th>\n",
       "    </tr>\n",
       "    <tr>\n",
       "      <th>F_AGECAT</th>\n",
       "      <th>pew_age</th>\n",
       "      <th></th>\n",
       "    </tr>\n",
       "  </thead>\n",
       "  <tbody>\n",
       "    <tr>\n",
       "      <th rowspan=\"4\" valign=\"top\">18-29</th>\n",
       "      <th>18-29</th>\n",
       "      <td>4</td>\n",
       "    </tr>\n",
       "    <tr>\n",
       "      <th>30-49</th>\n",
       "      <td>1</td>\n",
       "    </tr>\n",
       "    <tr>\n",
       "      <th>50-64</th>\n",
       "      <td>1</td>\n",
       "    </tr>\n",
       "    <tr>\n",
       "      <th>65+</th>\n",
       "      <td>1</td>\n",
       "    </tr>\n",
       "    <tr>\n",
       "      <th rowspan=\"3\" valign=\"top\">30-49</th>\n",
       "      <th>30-49</th>\n",
       "      <td>48</td>\n",
       "    </tr>\n",
       "    <tr>\n",
       "      <th>50-64</th>\n",
       "      <td>1</td>\n",
       "    </tr>\n",
       "    <tr>\n",
       "      <th>65+</th>\n",
       "      <td>2</td>\n",
       "    </tr>\n",
       "    <tr>\n",
       "      <th rowspan=\"3\" valign=\"top\">50-64</th>\n",
       "      <th>30-49</th>\n",
       "      <td>2</td>\n",
       "    </tr>\n",
       "    <tr>\n",
       "      <th>50-64</th>\n",
       "      <td>26</td>\n",
       "    </tr>\n",
       "    <tr>\n",
       "      <th>65+</th>\n",
       "      <td>5</td>\n",
       "    </tr>\n",
       "    <tr>\n",
       "      <th>65+</th>\n",
       "      <th>65+</th>\n",
       "      <td>14</td>\n",
       "    </tr>\n",
       "  </tbody>\n",
       "</table>\n",
       "</div>"
      ],
      "text/plain": [
       "                  age_match\n",
       "F_AGECAT pew_age           \n",
       "18-29    18-29            4\n",
       "         30-49            1\n",
       "         50-64            1\n",
       "         65+              1\n",
       "30-49    30-49           48\n",
       "         50-64            1\n",
       "         65+              2\n",
       "50-64    30-49            2\n",
       "         50-64           26\n",
       "         65+              5\n",
       "65+      65+             14"
      ]
     },
     "execution_count": 114,
     "metadata": {},
     "output_type": "execute_result"
    }
   ],
   "source": [
    "age.groupby([\"F_AGECAT\", \"pew_age\"]).agg({\"age_match\": \"count\"})"
   ]
  },
  {
   "cell_type": "code",
   "execution_count": 115,
   "metadata": {},
   "outputs": [],
   "source": [
    "age['F_AGECAT'] = pd.Categorical(age['F_AGECAT'])"
   ]
  },
  {
   "cell_type": "code",
   "execution_count": 116,
   "metadata": {},
   "outputs": [
    {
     "data": {
      "text/plain": [
       "Text(0, 0.5, 'Pew Age')"
      ]
     },
     "execution_count": 116,
     "metadata": {},
     "output_type": "execute_result"
    },
    {
     "data": {
      "image/png": "[encoded data removed]",
      "text/plain": [
       "<Figure size 864x576 with 1 Axes>"
      ]
     },
     "metadata": {},
     "output_type": "display_data"
    }
   ],
   "source": [
    "fig, ax = plt.subplots(figsize=(12, 8), facecolor='w')\n",
    "sns.swarmplot('shifted_age', 'F_AGECAT', data=age, ax=ax)\n",
    "for boundary in [18, 30, 50, 65]:\n",
    "    ax.axvline(boundary, linestyle='--', color=\"black\", alpha=0.3)\n",
    "ax.set_xlabel(\"NEU Age\")\n",
    "ax.set_ylabel(\"Pew Age\")"
   ]
  },
  {
   "cell_type": "markdown",
   "metadata": {},
   "source": [
    "### Combined match rates"
   ]
  },
  {
   "cell_type": "code",
   "execution_count": 117,
   "metadata": {},
   "outputs": [],
   "source": [
    "all_match = gender.merge(party).merge(age).merge(race).loc[:, [\"gender_match\", \"party_match\", \"age_match\", \"race_match\"]]"
   ]
  },
  {
   "cell_type": "code",
   "execution_count": 118,
   "metadata": {},
   "outputs": [
    {
     "name": "stdout",
     "output_type": "stream",
     "text": [
      "97\n",
      "101\n"
     ]
    }
   ],
   "source": [
    "all_match_no_na = all_match[pd.notnull(all_match).all(axis=1)]\n",
    "print(len(all_match_no_na))\n",
    "print(len(all_match[pd.notnull(all_match).any(axis=1)]))"
   ]
  },
  {
   "cell_type": "markdown",
   "metadata": {},
   "source": [
    "There are 10 IDs for which there is at least one missing value. (For 7 of these, they're all missing.)"
   ]
  },
  {
   "cell_type": "code",
   "execution_count": 119,
   "metadata": {},
   "outputs": [
    {
     "data": {
      "text/plain": [
       "3.00   0.46\n",
       "4.00   0.39\n",
       "2.00   0.13\n",
       "0.00   0.01\n",
       "dtype: float64"
      ]
     },
     "execution_count": 119,
     "metadata": {},
     "output_type": "execute_result"
    }
   ],
   "source": [
    "all_match_no_na.sum(axis=1).value_counts(normalize=True)"
   ]
  },
  {
   "cell_type": "markdown",
   "metadata": {},
   "source": [
    "Mismatches are not concentrated to a few problematic records (aside from the missing ones)."
   ]
  },
  {
   "cell_type": "markdown",
   "metadata": {},
   "source": [
    "## Behavior"
   ]
  },
  {
   "cell_type": "code",
   "execution_count": 120,
   "metadata": {},
   "outputs": [
    {
     "data": {
      "image/png": "[encoded data removed]",
      "text/plain": [
       "<Figure size 1728x576 with 3 Axes>"
      ]
     },
     "metadata": {},
     "output_type": "display_data"
    }
   ],
   "source": [
    "fig, (ax1, ax2, ax3) = plt.subplots(1, 3, figsize=(24, 8), facecolor='w')\n",
    "\n",
    "sns.scatterplot(\"statuses_count\", \"total_tweets\", data=kp_df, ax=ax1)\n",
    "sns.scatterplot(\"followers_count\", \"total_followers\", data=kp_df, ax=ax2)\n",
    "sns.scatterplot(\"friends_count\", \"total_followings\", data=kp_df, ax=ax3)\n",
    "for ax in (ax1, ax2, ax3):\n",
    "    ax.set_xscale(\"log\")\n",
    "    ax.set_yscale(\"log\")\n",
    "    ax.set_xlim(1, 10**6)\n",
    "    ax.set_ylim(1, 10**6)\n",
    "    ax.set_xlabel(\"NEU Metadata\")\n",
    "    ax.set_ylabel(\"\")\n",
    "ax1.set_ylabel(\"Pew Metadata\")\n",
    "ax1.set_title(\"Number of Tweets\")\n",
    "ax2.set_title(\"Number of Followers\")\n",
    "ax3.set_title(\"Number of Followings\")\n",
    "\n",
    "fig.show()"
   ]
  },
  {
   "cell_type": "markdown",
   "metadata": {},
   "source": [
    "# Round 2"
   ]
  },
  {
   "cell_type": "code",
   "execution_count": null,
   "metadata": {},
   "outputs": [],
   "source": []
  },
  {
   "cell_type": "code",
   "execution_count": 121,
   "metadata": {},
   "outputs": [],
   "source": [
    "hashes = pd.read_csv(\"./hash/hashed_neu_twids_v2.txt\", sep=\"\\t\", names=[\"id\", \"hash\"], dtype=\"str\")\n",
    "demog = pd.read_csv(DEMOG_FILE, sep='\\t', names=list(DEMOG_SCHEMA.keys()), dtype=DEMOG_SCHEMA)\n",
    "#pew_demog = pd.read_csv(f\"{EXTERNAL_DATA_DIR}/panel_intersection.csv\", dtype={'id': 'str', 'total_tweets': np.int64})"
   ]
  },
  {
   "cell_type": "code",
   "execution_count": 122,
   "metadata": {},
   "outputs": [],
   "source": [
    "pew_demog = pd.read_csv(f\"{EXTERNAL_DATA_DIR}/atp_overlap.csv\", dtype={'id': 'str', 'total_tweets': np.int64})"
   ]
  },
  {
   "cell_type": "code",
   "execution_count": 123,
   "metadata": {},
   "outputs": [
    {
     "data": {
      "text/plain": [
       "You are ABSOLUTELY CERTAIN that you are registered to vote at your current address   0.82\n",
       "You are PROBABLY registered, but there is a chance your registration has lapsed      0.08\n",
       "NaN                                                                                  0.07\n",
       "You are NOT registered to vote at your current address                               0.03\n",
       "Name: F_REG, dtype: float64"
      ]
     },
     "execution_count": 123,
     "metadata": {},
     "output_type": "execute_result"
    }
   ],
   "source": [
    "pew_demog.F_REG.value_counts(dropna=False,normalize=True)"
   ]
  },
  {
   "cell_type": "code",
   "execution_count": 124,
   "metadata": {},
   "outputs": [],
   "source": [
    "pew_demog = pew_demog.merge(hashes, \"left\", \"hash\")\n",
    "merged_df = pew_demog.merge(demog, \"left\", \"id\")\n",
    "\n",
    "# bring in WRU here before dropping ID\n",
    "merged_df.race.fillna(\"Uncoded\", inplace=True)\n",
    "wru = pd.read_csv(WRU_IMPUTATIONS_FILE,\n",
    "                  sep='\\t',\n",
    "                  dtype={'id_str': 'str'}).rename({'id_str': 'id'}, axis=1)\n",
    "wru['imputed_race'] = wru['imputed_race']\n",
    "\n",
    "merged_df = merged_df.merge(wru, how='left', on='id').drop(['pred.whi', 'pred.bla', 'pred.his', 'pred.asi', 'pred.oth'], axis=1)\n",
    "\n",
    "# def combine_race(ts, wru):\n",
    "#     if ts == \"Uncoded\": # NOTE/TODO: could be ['Uncoded', 'Other']\n",
    "#         return wru\n",
    "#     else:\n",
    "#         return ts\n",
    "\n",
    "# merged_df['combined_race'] = merged_df.apply(lambda x: combine_race(x['race'], x['imputed_race']), axis=1)"
   ]
  },
  {
   "cell_type": "code",
   "execution_count": 125,
   "metadata": {},
   "outputs": [
    {
     "data": {
      "text/html": [
       "<div>\n",
       "<style scoped>\n",
       "    .dataframe tbody tr th:only-of-type {\n",
       "        vertical-align: middle;\n",
       "    }\n",
       "\n",
       "    .dataframe tbody tr th {\n",
       "        vertical-align: top;\n",
       "    }\n",
       "\n",
       "    .dataframe thead th {\n",
       "        text-align: right;\n",
       "    }\n",
       "</style>\n",
       "<table border=\"1\" class=\"dataframe\">\n",
       "  <thead>\n",
       "    <tr style=\"text-align: right;\">\n",
       "      <th></th>\n",
       "      <th>Unnamed: 0</th>\n",
       "      <th>F_PARTY_FINAL</th>\n",
       "      <th>F_RACETHN</th>\n",
       "      <th>F_AGECAT</th>\n",
       "      <th>F_SEX</th>\n",
       "      <th>F_REG</th>\n",
       "      <th>F_CREGION</th>\n",
       "      <th>F_METRO</th>\n",
       "      <th>num_tweets</th>\n",
       "      <th>age</th>\n",
       "      <th>gender</th>\n",
       "      <th>race</th>\n",
       "      <th>party</th>\n",
       "      <th>cd</th>\n",
       "      <th>zip</th>\n",
       "      <th>county_fips</th>\n",
       "      <th>partisan_score</th>\n",
       "      <th>registration_status</th>\n",
       "      <th>verified</th>\n",
       "      <th>imputed_race</th>\n",
       "    </tr>\n",
       "  </thead>\n",
       "  <tbody>\n",
       "    <tr>\n",
       "      <th>0</th>\n",
       "      <td>1</td>\n",
       "      <td>Independent</td>\n",
       "      <td>White non-Hispanic</td>\n",
       "      <td>50-64</td>\n",
       "      <td>Male</td>\n",
       "      <td>You are ABSOLUTELY CERTAIN that you are regist...</td>\n",
       "      <td>South</td>\n",
       "      <td>Metropolitan</td>\n",
       "      <td>501</td>\n",
       "      <td>82.00</td>\n",
       "      <td>Female</td>\n",
       "      <td>Caucasian</td>\n",
       "      <td>Democrat</td>\n",
       "      <td>2.00</td>\n",
       "      <td>85710</td>\n",
       "      <td>19</td>\n",
       "      <td>98.80</td>\n",
       "      <td>1.00</td>\n",
       "      <td>False</td>\n",
       "      <td>Caucasian</td>\n",
       "    </tr>\n",
       "    <tr>\n",
       "      <th>1</th>\n",
       "      <td>2</td>\n",
       "      <td>Republican</td>\n",
       "      <td>White non-Hispanic</td>\n",
       "      <td>65+</td>\n",
       "      <td>Male</td>\n",
       "      <td>You are ABSOLUTELY CERTAIN that you are regist...</td>\n",
       "      <td>South</td>\n",
       "      <td>Metropolitan</td>\n",
       "      <td>214</td>\n",
       "      <td>29.00</td>\n",
       "      <td>Female</td>\n",
       "      <td>Caucasian</td>\n",
       "      <td>Democrat</td>\n",
       "      <td>21.00</td>\n",
       "      <td>33462</td>\n",
       "      <td>99</td>\n",
       "      <td>95.10</td>\n",
       "      <td>1.00</td>\n",
       "      <td>False</td>\n",
       "      <td>Caucasian</td>\n",
       "    </tr>\n",
       "    <tr>\n",
       "      <th>2</th>\n",
       "      <td>3</td>\n",
       "      <td>Independent</td>\n",
       "      <td>Other</td>\n",
       "      <td>30-49</td>\n",
       "      <td>Female</td>\n",
       "      <td>You are ABSOLUTELY CERTAIN that you are regist...</td>\n",
       "      <td>South</td>\n",
       "      <td>Metropolitan</td>\n",
       "      <td>230</td>\n",
       "      <td>47.00</td>\n",
       "      <td>Female</td>\n",
       "      <td>Native American</td>\n",
       "      <td>Democrat</td>\n",
       "      <td>1.00</td>\n",
       "      <td>74063</td>\n",
       "      <td>143</td>\n",
       "      <td>96.40</td>\n",
       "      <td>1.00</td>\n",
       "      <td>False</td>\n",
       "      <td>Other</td>\n",
       "    </tr>\n",
       "    <tr>\n",
       "      <th>3</th>\n",
       "      <td>4</td>\n",
       "      <td>Independent</td>\n",
       "      <td>Hispanic</td>\n",
       "      <td>30-49</td>\n",
       "      <td>Female</td>\n",
       "      <td>You are ABSOLUTELY CERTAIN that you are regist...</td>\n",
       "      <td>Northeast</td>\n",
       "      <td>Metropolitan</td>\n",
       "      <td>90</td>\n",
       "      <td>38.00</td>\n",
       "      <td>Female</td>\n",
       "      <td>Caucasian</td>\n",
       "      <td>Unaffiliated</td>\n",
       "      <td>3.00</td>\n",
       "      <td>75093</td>\n",
       "      <td>85</td>\n",
       "      <td>48.20</td>\n",
       "      <td>1.00</td>\n",
       "      <td>False</td>\n",
       "      <td>Caucasian</td>\n",
       "    </tr>\n",
       "    <tr>\n",
       "      <th>4</th>\n",
       "      <td>5</td>\n",
       "      <td>Democrat</td>\n",
       "      <td>White non-Hispanic</td>\n",
       "      <td>30-49</td>\n",
       "      <td>Female</td>\n",
       "      <td>You are ABSOLUTELY CERTAIN that you are regist...</td>\n",
       "      <td>Northeast</td>\n",
       "      <td>Metropolitan</td>\n",
       "      <td>812</td>\n",
       "      <td>48.00</td>\n",
       "      <td>Female</td>\n",
       "      <td>Caucasian</td>\n",
       "      <td>Unaffiliated</td>\n",
       "      <td>8.00</td>\n",
       "      <td>77861</td>\n",
       "      <td>185</td>\n",
       "      <td>20.30</td>\n",
       "      <td>1.00</td>\n",
       "      <td>False</td>\n",
       "      <td>Caucasian</td>\n",
       "    </tr>\n",
       "  </tbody>\n",
       "</table>\n",
       "</div>"
      ],
      "text/plain": [
       "   Unnamed: 0 F_PARTY_FINAL           F_RACETHN F_AGECAT   F_SEX  \\\n",
       "0           1   Independent  White non-Hispanic    50-64    Male   \n",
       "1           2    Republican  White non-Hispanic      65+    Male   \n",
       "2           3   Independent               Other    30-49  Female   \n",
       "3           4   Independent            Hispanic    30-49  Female   \n",
       "4           5      Democrat  White non-Hispanic    30-49  Female   \n",
       "\n",
       "                                               F_REG  F_CREGION       F_METRO  \\\n",
       "0  You are ABSOLUTELY CERTAIN that you are regist...      South  Metropolitan   \n",
       "1  You are ABSOLUTELY CERTAIN that you are regist...      South  Metropolitan   \n",
       "2  You are ABSOLUTELY CERTAIN that you are regist...      South  Metropolitan   \n",
       "3  You are ABSOLUTELY CERTAIN that you are regist...  Northeast  Metropolitan   \n",
       "4  You are ABSOLUTELY CERTAIN that you are regist...  Northeast  Metropolitan   \n",
       "\n",
       "   num_tweets   age  gender             race         party    cd    zip  \\\n",
       "0         501 82.00  Female        Caucasian      Democrat  2.00  85710   \n",
       "1         214 29.00  Female        Caucasian      Democrat 21.00  33462   \n",
       "2         230 47.00  Female  Native American      Democrat  1.00  74063   \n",
       "3          90 38.00  Female        Caucasian  Unaffiliated  3.00  75093   \n",
       "4         812 48.00  Female        Caucasian  Unaffiliated  8.00  77861   \n",
       "\n",
       "  county_fips  partisan_score  registration_status  verified imputed_race  \n",
       "0          19           98.80                 1.00     False    Caucasian  \n",
       "1          99           95.10                 1.00     False    Caucasian  \n",
       "2         143           96.40                 1.00     False        Other  \n",
       "3          85           48.20                 1.00     False    Caucasian  \n",
       "4         185           20.30                 1.00     False    Caucasian  "
      ]
     },
     "execution_count": 125,
     "metadata": {},
     "output_type": "execute_result"
    }
   ],
   "source": [
    "merged_df = merged_df.drop(\"id\", axis=1)\n",
    "merged_df.drop(columns=['hash', 'first_tweet', 'last_tweet', 'user_created_at', 'state', 'statuses_count', 'favourites_count', 'followers_count', 'friends_count']).head()"
   ]
  },
  {
   "cell_type": "code",
   "execution_count": 126,
   "metadata": {},
   "outputs": [
    {
     "data": {
      "text/plain": [
       "0.4794520547945205"
      ]
     },
     "execution_count": 126,
     "metadata": {},
     "output_type": "execute_result"
    }
   ],
   "source": [
    "(merged_df[\"F_SEX\"] == merged_df[\"gender\"]).mean()"
   ]
  },
  {
   "cell_type": "code",
   "execution_count": null,
   "metadata": {},
   "outputs": [],
   "source": []
  },
  {
   "cell_type": "code",
   "execution_count": null,
   "metadata": {},
   "outputs": [],
   "source": []
  },
  {
   "cell_type": "code",
   "execution_count": 127,
   "metadata": {},
   "outputs": [],
   "source": [
    "all_df = pd.concat([kp_df, atp_df], ignore_index=True)"
   ]
  },
  {
   "cell_type": "code",
   "execution_count": 128,
   "metadata": {},
   "outputs": [],
   "source": [
    "vra_df = all_df[all_df.state.isin([\"AL\", \"GA\", \"LA\", \"MS\", \"SC\", \"VA\", \"AK\", \"AZ\", \"TX\"])]"
   ]
  },
  {
   "cell_type": "code",
   "execution_count": 129,
   "metadata": {},
   "outputs": [
    {
     "data": {
      "text/plain": [
       "F_RACETHN           pew_race          \n",
       "Black non-Hispanic  Black non-Hispanic     1\n",
       "                    White non-Hispanic     1\n",
       "Hispanic            Hispanic               1\n",
       "White non-Hispanic  White non-Hispanic    19\n",
       "Name: pew_race, dtype: int64"
      ]
     },
     "execution_count": 129,
     "metadata": {},
     "output_type": "execute_result"
    }
   ],
   "source": [
    "race = vra_df.loc[:, ['hash', 'pew_race', 'F_RACETHN']]\n",
    "race['race_match'] = race['pew_race'] == race['F_RACETHN']\n",
    "race.loc[pd.isnull(race['pew_race']), \"race_match\"] = np.nan\n",
    "race.fillna(\"Unknown\").groupby(\"F_RACETHN\").pew_race.value_counts()"
   ]
  },
  {
   "cell_type": "code",
   "execution_count": 130,
   "metadata": {},
   "outputs": [
    {
     "data": {
      "text/html": [
       "<div>\n",
       "<style scoped>\n",
       "    .dataframe tbody tr th:only-of-type {\n",
       "        vertical-align: middle;\n",
       "    }\n",
       "\n",
       "    .dataframe tbody tr th {\n",
       "        vertical-align: top;\n",
       "    }\n",
       "\n",
       "    .dataframe thead th {\n",
       "        text-align: right;\n",
       "    }\n",
       "</style>\n",
       "<table border=\"1\" class=\"dataframe\">\n",
       "  <thead>\n",
       "    <tr style=\"text-align: right;\">\n",
       "      <th></th>\n",
       "      <th>Unnamed: 0</th>\n",
       "      <th>F_SEX</th>\n",
       "      <th>F_PARTY_FINAL</th>\n",
       "      <th>F_AGECAT</th>\n",
       "      <th>F_RACETHN</th>\n",
       "      <th>total_followers</th>\n",
       "      <th>one_impeach</th>\n",
       "      <th>num_tweets</th>\n",
       "      <th>age</th>\n",
       "      <th>gender</th>\n",
       "      <th>...</th>\n",
       "      <th>registration_status</th>\n",
       "      <th>verified</th>\n",
       "      <th>imputed_race</th>\n",
       "      <th>pew_race</th>\n",
       "      <th>pew_imputed_race</th>\n",
       "      <th>pew_party</th>\n",
       "      <th>tsmart_party</th>\n",
       "      <th>pew_tsmart_party</th>\n",
       "      <th>shifted_age</th>\n",
       "      <th>pew_age</th>\n",
       "    </tr>\n",
       "  </thead>\n",
       "  <tbody>\n",
       "    <tr>\n",
       "      <th>16</th>\n",
       "      <td>17</td>\n",
       "      <td>Male</td>\n",
       "      <td>Democrat</td>\n",
       "      <td>30-49</td>\n",
       "      <td>Black non-Hispanic</td>\n",
       "      <td>1040</td>\n",
       "      <td>1</td>\n",
       "      <td>18039</td>\n",
       "      <td>45.00</td>\n",
       "      <td>Male</td>\n",
       "      <td>...</td>\n",
       "      <td>1.00</td>\n",
       "      <td>False</td>\n",
       "      <td>Caucasian</td>\n",
       "      <td>Black non-Hispanic</td>\n",
       "      <td>White non-Hispanic</td>\n",
       "      <td>Independent</td>\n",
       "      <td>Independent</td>\n",
       "      <td>Independent</td>\n",
       "      <td>47.00</td>\n",
       "      <td>30-49</td>\n",
       "    </tr>\n",
       "    <tr>\n",
       "      <th>18</th>\n",
       "      <td>19</td>\n",
       "      <td>Male</td>\n",
       "      <td>Independent</td>\n",
       "      <td>65+</td>\n",
       "      <td>White non-Hispanic</td>\n",
       "      <td>1860</td>\n",
       "      <td>0</td>\n",
       "      <td>7872</td>\n",
       "      <td>65.00</td>\n",
       "      <td>Male</td>\n",
       "      <td>...</td>\n",
       "      <td>1.00</td>\n",
       "      <td>False</td>\n",
       "      <td>NaN</td>\n",
       "      <td>White non-Hispanic</td>\n",
       "      <td>NaN</td>\n",
       "      <td>Independent</td>\n",
       "      <td>Republican</td>\n",
       "      <td>Republican</td>\n",
       "      <td>67.00</td>\n",
       "      <td>65+</td>\n",
       "    </tr>\n",
       "    <tr>\n",
       "      <th>21</th>\n",
       "      <td>22</td>\n",
       "      <td>Female</td>\n",
       "      <td>Independent</td>\n",
       "      <td>18-29</td>\n",
       "      <td>Black non-Hispanic</td>\n",
       "      <td>580</td>\n",
       "      <td>0</td>\n",
       "      <td>8233</td>\n",
       "      <td>27.00</td>\n",
       "      <td>Female</td>\n",
       "      <td>...</td>\n",
       "      <td>1.00</td>\n",
       "      <td>False</td>\n",
       "      <td>African-American</td>\n",
       "      <td>White non-Hispanic</td>\n",
       "      <td>Black non-Hispanic</td>\n",
       "      <td>Independent</td>\n",
       "      <td>Democrat</td>\n",
       "      <td>Democrat</td>\n",
       "      <td>29.00</td>\n",
       "      <td>18-29</td>\n",
       "    </tr>\n",
       "    <tr>\n",
       "      <th>26</th>\n",
       "      <td>27</td>\n",
       "      <td>Female</td>\n",
       "      <td>Republican</td>\n",
       "      <td>50-64</td>\n",
       "      <td>White non-Hispanic</td>\n",
       "      <td>200</td>\n",
       "      <td>0</td>\n",
       "      <td>141</td>\n",
       "      <td>60.00</td>\n",
       "      <td>Female</td>\n",
       "      <td>...</td>\n",
       "      <td>1.00</td>\n",
       "      <td>False</td>\n",
       "      <td>Caucasian</td>\n",
       "      <td>White non-Hispanic</td>\n",
       "      <td>White non-Hispanic</td>\n",
       "      <td>Republican</td>\n",
       "      <td>Republican</td>\n",
       "      <td>Republican</td>\n",
       "      <td>62.00</td>\n",
       "      <td>50-64</td>\n",
       "    </tr>\n",
       "    <tr>\n",
       "      <th>27</th>\n",
       "      <td>28</td>\n",
       "      <td>Female</td>\n",
       "      <td>Democrat</td>\n",
       "      <td>30-49</td>\n",
       "      <td>White non-Hispanic</td>\n",
       "      <td>200</td>\n",
       "      <td>0</td>\n",
       "      <td>90</td>\n",
       "      <td>38.00</td>\n",
       "      <td>Female</td>\n",
       "      <td>...</td>\n",
       "      <td>1.00</td>\n",
       "      <td>False</td>\n",
       "      <td>Caucasian</td>\n",
       "      <td>White non-Hispanic</td>\n",
       "      <td>White non-Hispanic</td>\n",
       "      <td>Independent</td>\n",
       "      <td>Independent</td>\n",
       "      <td>Independent</td>\n",
       "      <td>40.00</td>\n",
       "      <td>30-49</td>\n",
       "    </tr>\n",
       "    <tr>\n",
       "      <th>32</th>\n",
       "      <td>33</td>\n",
       "      <td>Female</td>\n",
       "      <td>Independent</td>\n",
       "      <td>30-49</td>\n",
       "      <td>White non-Hispanic</td>\n",
       "      <td>200</td>\n",
       "      <td>0</td>\n",
       "      <td>5277</td>\n",
       "      <td>47.00</td>\n",
       "      <td>Female</td>\n",
       "      <td>...</td>\n",
       "      <td>1.00</td>\n",
       "      <td>False</td>\n",
       "      <td>Hispanic</td>\n",
       "      <td>White non-Hispanic</td>\n",
       "      <td>Hispanic</td>\n",
       "      <td>Democrat</td>\n",
       "      <td>Democrat</td>\n",
       "      <td>Democrat</td>\n",
       "      <td>49.00</td>\n",
       "      <td>30-49</td>\n",
       "    </tr>\n",
       "    <tr>\n",
       "      <th>34</th>\n",
       "      <td>35</td>\n",
       "      <td>Female</td>\n",
       "      <td>Republican</td>\n",
       "      <td>50-64</td>\n",
       "      <td>White non-Hispanic</td>\n",
       "      <td>260</td>\n",
       "      <td>0</td>\n",
       "      <td>812</td>\n",
       "      <td>48.00</td>\n",
       "      <td>Female</td>\n",
       "      <td>...</td>\n",
       "      <td>1.00</td>\n",
       "      <td>False</td>\n",
       "      <td>Caucasian</td>\n",
       "      <td>White non-Hispanic</td>\n",
       "      <td>White non-Hispanic</td>\n",
       "      <td>Independent</td>\n",
       "      <td>Republican</td>\n",
       "      <td>Republican</td>\n",
       "      <td>50.00</td>\n",
       "      <td>50-64</td>\n",
       "    </tr>\n",
       "    <tr>\n",
       "      <th>39</th>\n",
       "      <td>40</td>\n",
       "      <td>Female</td>\n",
       "      <td>Republican</td>\n",
       "      <td>30-49</td>\n",
       "      <td>White non-Hispanic</td>\n",
       "      <td>40</td>\n",
       "      <td>0</td>\n",
       "      <td>669</td>\n",
       "      <td>42.00</td>\n",
       "      <td>Female</td>\n",
       "      <td>...</td>\n",
       "      <td>1.00</td>\n",
       "      <td>False</td>\n",
       "      <td>Caucasian</td>\n",
       "      <td>White non-Hispanic</td>\n",
       "      <td>White non-Hispanic</td>\n",
       "      <td>Independent</td>\n",
       "      <td>Republican</td>\n",
       "      <td>Republican</td>\n",
       "      <td>44.00</td>\n",
       "      <td>30-49</td>\n",
       "    </tr>\n",
       "    <tr>\n",
       "      <th>52</th>\n",
       "      <td>53</td>\n",
       "      <td>Female</td>\n",
       "      <td>Democrat</td>\n",
       "      <td>50-64</td>\n",
       "      <td>White non-Hispanic</td>\n",
       "      <td>280</td>\n",
       "      <td>1</td>\n",
       "      <td>3049</td>\n",
       "      <td>51.00</td>\n",
       "      <td>Female</td>\n",
       "      <td>...</td>\n",
       "      <td>1.00</td>\n",
       "      <td>False</td>\n",
       "      <td>Caucasian</td>\n",
       "      <td>White non-Hispanic</td>\n",
       "      <td>White non-Hispanic</td>\n",
       "      <td>Independent</td>\n",
       "      <td>Democrat</td>\n",
       "      <td>Democrat</td>\n",
       "      <td>53.00</td>\n",
       "      <td>50-64</td>\n",
       "    </tr>\n",
       "    <tr>\n",
       "      <th>54</th>\n",
       "      <td>55</td>\n",
       "      <td>Male</td>\n",
       "      <td>Republican</td>\n",
       "      <td>30-49</td>\n",
       "      <td>White non-Hispanic</td>\n",
       "      <td>900</td>\n",
       "      <td>0</td>\n",
       "      <td>195</td>\n",
       "      <td>37.00</td>\n",
       "      <td>Male</td>\n",
       "      <td>...</td>\n",
       "      <td>1.00</td>\n",
       "      <td>False</td>\n",
       "      <td>Caucasian</td>\n",
       "      <td>White non-Hispanic</td>\n",
       "      <td>White non-Hispanic</td>\n",
       "      <td>Republican</td>\n",
       "      <td>Republican</td>\n",
       "      <td>Republican</td>\n",
       "      <td>39.00</td>\n",
       "      <td>30-49</td>\n",
       "    </tr>\n",
       "    <tr>\n",
       "      <th>55</th>\n",
       "      <td>56</td>\n",
       "      <td>Female</td>\n",
       "      <td>Democrat</td>\n",
       "      <td>65+</td>\n",
       "      <td>White non-Hispanic</td>\n",
       "      <td>160</td>\n",
       "      <td>1</td>\n",
       "      <td>501</td>\n",
       "      <td>82.00</td>\n",
       "      <td>Female</td>\n",
       "      <td>...</td>\n",
       "      <td>1.00</td>\n",
       "      <td>False</td>\n",
       "      <td>Caucasian</td>\n",
       "      <td>White non-Hispanic</td>\n",
       "      <td>White non-Hispanic</td>\n",
       "      <td>Democrat</td>\n",
       "      <td>Democrat</td>\n",
       "      <td>Democrat</td>\n",
       "      <td>84.00</td>\n",
       "      <td>65+</td>\n",
       "    </tr>\n",
       "    <tr>\n",
       "      <th>63</th>\n",
       "      <td>64</td>\n",
       "      <td>Male</td>\n",
       "      <td>Something else</td>\n",
       "      <td>30-49</td>\n",
       "      <td>White non-Hispanic</td>\n",
       "      <td>60</td>\n",
       "      <td>0</td>\n",
       "      <td>591</td>\n",
       "      <td>30.00</td>\n",
       "      <td>Male</td>\n",
       "      <td>...</td>\n",
       "      <td>1.00</td>\n",
       "      <td>False</td>\n",
       "      <td>Caucasian</td>\n",
       "      <td>White non-Hispanic</td>\n",
       "      <td>White non-Hispanic</td>\n",
       "      <td>Independent</td>\n",
       "      <td>Democrat</td>\n",
       "      <td>Democrat</td>\n",
       "      <td>32.00</td>\n",
       "      <td>30-49</td>\n",
       "    </tr>\n",
       "    <tr>\n",
       "      <th>66</th>\n",
       "      <td>67</td>\n",
       "      <td>Female</td>\n",
       "      <td>Independent</td>\n",
       "      <td>30-49</td>\n",
       "      <td>White non-Hispanic</td>\n",
       "      <td>180</td>\n",
       "      <td>0</td>\n",
       "      <td>1357</td>\n",
       "      <td>34.00</td>\n",
       "      <td>Female</td>\n",
       "      <td>...</td>\n",
       "      <td>1.00</td>\n",
       "      <td>False</td>\n",
       "      <td>Caucasian</td>\n",
       "      <td>White non-Hispanic</td>\n",
       "      <td>White non-Hispanic</td>\n",
       "      <td>Independent</td>\n",
       "      <td>Republican</td>\n",
       "      <td>Republican</td>\n",
       "      <td>36.00</td>\n",
       "      <td>30-49</td>\n",
       "    </tr>\n",
       "  </tbody>\n",
       "</table>\n",
       "<p>13 rows × 26 columns</p>\n",
       "</div>"
      ],
      "text/plain": [
       "    Unnamed: 0   F_SEX   F_PARTY_FINAL F_AGECAT           F_RACETHN  \\\n",
       "16          17    Male        Democrat    30-49  Black non-Hispanic   \n",
       "18          19    Male     Independent      65+  White non-Hispanic   \n",
       "21          22  Female     Independent    18-29  Black non-Hispanic   \n",
       "26          27  Female      Republican    50-64  White non-Hispanic   \n",
       "27          28  Female        Democrat    30-49  White non-Hispanic   \n",
       "32          33  Female     Independent    30-49  White non-Hispanic   \n",
       "34          35  Female      Republican    50-64  White non-Hispanic   \n",
       "39          40  Female      Republican    30-49  White non-Hispanic   \n",
       "52          53  Female        Democrat    50-64  White non-Hispanic   \n",
       "54          55    Male      Republican    30-49  White non-Hispanic   \n",
       "55          56  Female        Democrat      65+  White non-Hispanic   \n",
       "63          64    Male  Something else    30-49  White non-Hispanic   \n",
       "66          67  Female     Independent    30-49  White non-Hispanic   \n",
       "\n",
       "    total_followers  one_impeach  num_tweets   age  gender  ...  \\\n",
       "16             1040            1       18039 45.00    Male  ...   \n",
       "18             1860            0        7872 65.00    Male  ...   \n",
       "21              580            0        8233 27.00  Female  ...   \n",
       "26              200            0         141 60.00  Female  ...   \n",
       "27              200            0          90 38.00  Female  ...   \n",
       "32              200            0        5277 47.00  Female  ...   \n",
       "34              260            0         812 48.00  Female  ...   \n",
       "39               40            0         669 42.00  Female  ...   \n",
       "52              280            1        3049 51.00  Female  ...   \n",
       "54              900            0         195 37.00    Male  ...   \n",
       "55              160            1         501 82.00  Female  ...   \n",
       "63               60            0         591 30.00    Male  ...   \n",
       "66              180            0        1357 34.00  Female  ...   \n",
       "\n",
       "   registration_status verified      imputed_race            pew_race  \\\n",
       "16                1.00    False         Caucasian  Black non-Hispanic   \n",
       "18                1.00    False               NaN  White non-Hispanic   \n",
       "21                1.00    False  African-American  White non-Hispanic   \n",
       "26                1.00    False         Caucasian  White non-Hispanic   \n",
       "27                1.00    False         Caucasian  White non-Hispanic   \n",
       "32                1.00    False          Hispanic  White non-Hispanic   \n",
       "34                1.00    False         Caucasian  White non-Hispanic   \n",
       "39                1.00    False         Caucasian  White non-Hispanic   \n",
       "52                1.00    False         Caucasian  White non-Hispanic   \n",
       "54                1.00    False         Caucasian  White non-Hispanic   \n",
       "55                1.00    False         Caucasian  White non-Hispanic   \n",
       "63                1.00    False         Caucasian  White non-Hispanic   \n",
       "66                1.00    False         Caucasian  White non-Hispanic   \n",
       "\n",
       "      pew_imputed_race    pew_party  tsmart_party  pew_tsmart_party  \\\n",
       "16  White non-Hispanic  Independent   Independent       Independent   \n",
       "18                 NaN  Independent    Republican        Republican   \n",
       "21  Black non-Hispanic  Independent      Democrat          Democrat   \n",
       "26  White non-Hispanic   Republican    Republican        Republican   \n",
       "27  White non-Hispanic  Independent   Independent       Independent   \n",
       "32            Hispanic     Democrat      Democrat          Democrat   \n",
       "34  White non-Hispanic  Independent    Republican        Republican   \n",
       "39  White non-Hispanic  Independent    Republican        Republican   \n",
       "52  White non-Hispanic  Independent      Democrat          Democrat   \n",
       "54  White non-Hispanic   Republican    Republican        Republican   \n",
       "55  White non-Hispanic     Democrat      Democrat          Democrat   \n",
       "63  White non-Hispanic  Independent      Democrat          Democrat   \n",
       "66  White non-Hispanic  Independent    Republican        Republican   \n",
       "\n",
       "   shifted_age pew_age  \n",
       "16       47.00   30-49  \n",
       "18       67.00     65+  \n",
       "21       29.00   18-29  \n",
       "26       62.00   50-64  \n",
       "27       40.00   30-49  \n",
       "32       49.00   30-49  \n",
       "34       50.00   50-64  \n",
       "39       44.00   30-49  \n",
       "52       53.00   50-64  \n",
       "54       39.00   30-49  \n",
       "55       84.00     65+  \n",
       "63       32.00   30-49  \n",
       "66       36.00   30-49  \n",
       "\n",
       "[13 rows x 26 columns]"
      ]
     },
     "execution_count": 130,
     "metadata": {},
     "output_type": "execute_result"
    }
   ],
   "source": [
    "atp_df[atp_df.state.isin([\"AL\", \"GA\", \"LA\", \"MS\", \"SC\", \"VA\", \"AK\", \"AZ\", \"TX\"])].drop(columns=['hash', 'total_tweets', 'total_followings', 'n_tweets', 'first_tweet', 'last_tweet', 'user_created_at', 'state', 'statuses_count', 'favourites_count', 'followers_count', 'friends_count'])"
   ]
  },
  {
   "cell_type": "code",
   "execution_count": null,
   "metadata": {},
   "outputs": [],
   "source": []
  }
 ],
 "metadata": {
  "kernelspec": {
   "display_name": "Python 3",
   "language": "python",
   "name": "python3"
  },
  "language_info": {
   "codemirror_mode": {
    "name": "ipython",
    "version": 3
   },
   "file_extension": ".py",
   "mimetype": "text/x-python",
   "name": "python",
   "nbconvert_exporter": "python",
   "pygments_lexer": "ipython3",
   "version": "3.8.5"
  }
 },
 "nbformat": 4,
 "nbformat_minor": 4
}
