{
 "cells": [
  {
   "cell_type": "markdown",
   "metadata": {},
   "source": [
    "# Demographic summaries of NEU Twitter Panel"
   ]
  },
  {
   "cell_type": "code",
   "execution_count": 1,
   "metadata": {},
   "outputs": [],
   "source": [
    "import pandas as pd\n",
    "import matplotlib.pyplot as plt\n",
    "import numpy as np\n",
    "from IPython.display import display\n",
    "%matplotlib inline\n",
    "\n",
    "from definitions import DEMOG_FILE, DEMOG_SCHEMA, WEIGHTS_FILE, WEIGHTS_SCHEMA, \\\n",
    "                        WRU_IMPUTATIONS_FILE, URBAN_CODES_FILE, ZILLOW_FILE, \\\n",
    "                        PARTY_CODINGS, FIPS_MAPPING_FILE\n",
    "\n",
    "pd.set_option('display.float_format', '{:.3f}'.format)\n",
    "\n",
    "REGISTERED_VOTERS_ONLY = True"
   ]
  },
  {
   "cell_type": "markdown",
   "metadata": {},
   "source": [
    "This notebook provides an overview of the demographics for the users comprising the Twitter panel. It mostly analyzes a file of user demographics I generated [here](https://github.com/sdmccabe/twitter-panel-summaries/demog/extract_demographics.py). This file is **sensitive** and should not be shared widely.\n",
    "\n",
    "Note: all paths are on the assumption the notebook is started in the `notebooks/` folder of the repository."
   ]
  },
  {
   "cell_type": "code",
   "execution_count": 2,
   "metadata": {},
   "outputs": [],
   "source": [
    "df = pd.read_csv(DEMOG_FILE,\n",
    "                 header=None,\n",
    "                 sep='\\t', \n",
    "                 names=list(DEMOG_SCHEMA.keys()),\n",
    "                 dtype=DEMOG_SCHEMA,\n",
    "                )\n"
   ]
  },
  {
   "cell_type": "code",
   "execution_count": 3,
   "metadata": {},
   "outputs": [
    {
     "data": {
      "text/html": [
       "<div>\n",
       "<style scoped>\n",
       "    .dataframe tbody tr th:only-of-type {\n",
       "        vertical-align: middle;\n",
       "    }\n",
       "\n",
       "    .dataframe tbody tr th {\n",
       "        vertical-align: top;\n",
       "    }\n",
       "\n",
       "    .dataframe thead th {\n",
       "        text-align: right;\n",
       "    }\n",
       "</style>\n",
       "<table border=\"1\" class=\"dataframe\">\n",
       "  <thead>\n",
       "    <tr style=\"text-align: right;\">\n",
       "      <th></th>\n",
       "      <th>num_tweets</th>\n",
       "      <th>age</th>\n",
       "      <th>gender</th>\n",
       "      <th>race</th>\n",
       "      <th>party</th>\n",
       "      <th>cd</th>\n",
       "      <th>zip</th>\n",
       "      <th>county_fips</th>\n",
       "      <th>partisan_score</th>\n",
       "      <th>registration_status</th>\n",
       "      <th>statuses_count</th>\n",
       "      <th>favourites_count</th>\n",
       "      <th>followers_count</th>\n",
       "      <th>friends_count</th>\n",
       "      <th>verified</th>\n",
       "      <th>weight</th>\n",
       "    </tr>\n",
       "  </thead>\n",
       "  <tbody>\n",
       "    <tr>\n",
       "      <th>0</th>\n",
       "      <td>19</td>\n",
       "      <td>46.000</td>\n",
       "      <td>Male</td>\n",
       "      <td>Native American</td>\n",
       "      <td>Democrat</td>\n",
       "      <td>1.000</td>\n",
       "      <td>57642</td>\n",
       "      <td>31</td>\n",
       "      <td>90.700</td>\n",
       "      <td>1.000</td>\n",
       "      <td>19.000</td>\n",
       "      <td>0.000</td>\n",
       "      <td>1.000</td>\n",
       "      <td>75.000</td>\n",
       "      <td>False</td>\n",
       "      <td>1.445</td>\n",
       "    </tr>\n",
       "    <tr>\n",
       "      <th>1</th>\n",
       "      <td>4</td>\n",
       "      <td>27.000</td>\n",
       "      <td>Male</td>\n",
       "      <td>Caucasian</td>\n",
       "      <td>Unaffiliated</td>\n",
       "      <td>4.000</td>\n",
       "      <td>48642</td>\n",
       "      <td>111</td>\n",
       "      <td>46.900</td>\n",
       "      <td>1.000</td>\n",
       "      <td>4.000</td>\n",
       "      <td>0.000</td>\n",
       "      <td>2.000</td>\n",
       "      <td>7.000</td>\n",
       "      <td>False</td>\n",
       "      <td>0.499</td>\n",
       "    </tr>\n",
       "    <tr>\n",
       "      <th>2</th>\n",
       "      <td>430</td>\n",
       "      <td>45.000</td>\n",
       "      <td>Male</td>\n",
       "      <td>Caucasian</td>\n",
       "      <td>Unaffiliated</td>\n",
       "      <td>1.000</td>\n",
       "      <td>75605</td>\n",
       "      <td>203</td>\n",
       "      <td>5.700</td>\n",
       "      <td>1.000</td>\n",
       "      <td>430.000</td>\n",
       "      <td>1.000</td>\n",
       "      <td>80.000</td>\n",
       "      <td>50.000</td>\n",
       "      <td>False</td>\n",
       "      <td>0.509</td>\n",
       "    </tr>\n",
       "    <tr>\n",
       "      <th>4</th>\n",
       "      <td>623</td>\n",
       "      <td>25.000</td>\n",
       "      <td>Female</td>\n",
       "      <td>African-American</td>\n",
       "      <td>Unaffiliated</td>\n",
       "      <td>5.000</td>\n",
       "      <td>35611</td>\n",
       "      <td>83</td>\n",
       "      <td>92.800</td>\n",
       "      <td>1.000</td>\n",
       "      <td>628.000</td>\n",
       "      <td>3.000</td>\n",
       "      <td>403.000</td>\n",
       "      <td>927.000</td>\n",
       "      <td>False</td>\n",
       "      <td>1.266</td>\n",
       "    </tr>\n",
       "    <tr>\n",
       "      <th>5</th>\n",
       "      <td>3129</td>\n",
       "      <td>26.000</td>\n",
       "      <td>Female</td>\n",
       "      <td>Caucasian</td>\n",
       "      <td>Republican</td>\n",
       "      <td>16.000</td>\n",
       "      <td>17603</td>\n",
       "      <td>71</td>\n",
       "      <td>17.800</td>\n",
       "      <td>1.000</td>\n",
       "      <td>5672.000</td>\n",
       "      <td>54.000</td>\n",
       "      <td>134.000</td>\n",
       "      <td>160.000</td>\n",
       "      <td>False</td>\n",
       "      <td>0.449</td>\n",
       "    </tr>\n",
       "  </tbody>\n",
       "</table>\n",
       "</div>"
      ],
      "text/plain": [
       "   num_tweets    age  gender              race         party     cd    zip  \\\n",
       "0          19 46.000    Male   Native American      Democrat  1.000  57642   \n",
       "1           4 27.000    Male         Caucasian  Unaffiliated  4.000  48642   \n",
       "2         430 45.000    Male         Caucasian  Unaffiliated  1.000  75605   \n",
       "4         623 25.000  Female  African-American  Unaffiliated  5.000  35611   \n",
       "5        3129 26.000  Female         Caucasian    Republican 16.000  17603   \n",
       "\n",
       "  county_fips  partisan_score  registration_status  statuses_count  \\\n",
       "0          31          90.700                1.000          19.000   \n",
       "1         111          46.900                1.000           4.000   \n",
       "2         203           5.700                1.000         430.000   \n",
       "4          83          92.800                1.000         628.000   \n",
       "5          71          17.800                1.000        5672.000   \n",
       "\n",
       "   favourites_count  followers_count  friends_count  verified  weight  \n",
       "0             0.000            1.000         75.000     False   1.445  \n",
       "1             0.000            2.000          7.000     False   0.499  \n",
       "2             1.000           80.000         50.000     False   0.509  \n",
       "4             3.000          403.000        927.000     False   1.266  \n",
       "5            54.000          134.000        160.000     False   0.449  "
      ]
     },
     "execution_count": 3,
     "metadata": {},
     "output_type": "execute_result"
    }
   ],
   "source": [
    "weights = pd.read_csv(WEIGHTS_FILE,\n",
    "                      sep=\",\",\n",
    "                      names=list(WEIGHTS_SCHEMA.keys()),\n",
    "                      dtype=WEIGHTS_SCHEMA,\n",
    "                      quotechar='\"',\n",
    "                      header=0)\n",
    "df = df.merge(weights, how='left', on='id')\n",
    "df = df[pd.notnull(df['weight'])]\n",
    "df.drop(columns=['id', 'state', 'first_tweet', 'last_tweet', 'user_created_at']).head()"
   ]
  },
  {
   "cell_type": "code",
   "execution_count": 4,
   "metadata": {},
   "outputs": [
    {
     "name": "stdout",
     "output_type": "stream",
     "text": [
      "(1496433, 21)\n"
     ]
    }
   ],
   "source": [
    "if REGISTERED_VOTERS_ONLY:\n",
    "    df = df[df['registration_status'] == 1.]\n",
    "print(df.shape)"
   ]
  },
  {
   "cell_type": "code",
   "execution_count": 5,
   "metadata": {},
   "outputs": [],
   "source": [
    "# \"active\" corresponds to having a tweet after 2019-09-01\n",
    "df['active'] = df['last_tweet'] > 1567296000"
   ]
  },
  {
   "cell_type": "code",
   "execution_count": 6,
   "metadata": {},
   "outputs": [],
   "source": [
    "# TODO: handle the NAs in age\n",
    "#df.age.fillna(-1, inplace=True)"
   ]
  },
  {
   "cell_type": "code",
   "execution_count": 7,
   "metadata": {},
   "outputs": [],
   "source": [
    "def weighted_histogram(df, var, weight_var=\"weight\", normalize=True):\n",
    "    df = df[(pd.notnull(df[var])) & (pd.notnull(df[weight_var]))]\n",
    "    hist = (df.groupby(var)\n",
    "                    .agg({'id': 'count', weight_var: 'sum'})\n",
    "                    .rename({'id': 'unweighted', weight_var: 'weighted'}, axis=1)\n",
    "                    .reset_index())\n",
    "    if normalize:\n",
    "        hist['unweighted'] /= df.shape[0]\n",
    "        hist['weighted'] /= df[weight_var].sum()\n",
    "    return hist"
   ]
  },
  {
   "cell_type": "code",
   "execution_count": 8,
   "metadata": {},
   "outputs": [],
   "source": [
    "# https://stackoverflow.com/questions/26102867/python-weighted-median-algorithm-with-pandas\n",
    "  \n",
    "def weighted_quantile(df, val, weight, quantile):\n",
    "    df_sorted = df.sort_values(val)\n",
    "    cumsum = df_sorted[weight].cumsum()\n",
    "    cutoff = df_sorted[weight].sum() * quantile\n",
    "    df = df_sorted[cumsum >= cutoff]\n",
    "    return df[val].iloc[0]\n",
    "\n",
    "def weighted_median(df, val, weight='weight'):\n",
    "    return weighted_quantile(df, val, weight, 0.5)"
   ]
  },
  {
   "cell_type": "markdown",
   "metadata": {},
   "source": [
    "## Voter Registration"
   ]
  },
  {
   "cell_type": "code",
   "execution_count": 9,
   "metadata": {},
   "outputs": [
    {
     "data": {
      "text/plain": [
       "1.000   1.000\n",
       "Name: registration_status, dtype: float64"
      ]
     },
     "execution_count": 9,
     "metadata": {},
     "output_type": "execute_result"
    }
   ],
   "source": [
    "df['registration_status'].value_counts(normalize=True)"
   ]
  },
  {
   "cell_type": "markdown",
   "metadata": {},
   "source": [
    "## Age"
   ]
  },
  {
   "cell_type": "markdown",
   "metadata": {},
   "source": [
    "Throughout this notebook, there are two ways to consider the demographic composition of the panel. This first is to simply examine the number of panel members of category X:"
   ]
  },
  {
   "cell_type": "code",
   "execution_count": 10,
   "metadata": {},
   "outputs": [
    {
     "data": {
      "text/plain": [
       "20.000    53411\n",
       "21.000    52553\n",
       "22.000    49974\n",
       "Name: age, dtype: int64"
      ]
     },
     "execution_count": 10,
     "metadata": {},
     "output_type": "execute_result"
    }
   ],
   "source": [
    "df['age'].value_counts().head(3)"
   ]
  },
  {
   "cell_type": "code",
   "execution_count": 11,
   "metadata": {},
   "outputs": [
    {
     "data": {
      "text/html": [
       "<div>\n",
       "<style scoped>\n",
       "    .dataframe tbody tr th:only-of-type {\n",
       "        vertical-align: middle;\n",
       "    }\n",
       "\n",
       "    .dataframe tbody tr th {\n",
       "        vertical-align: top;\n",
       "    }\n",
       "\n",
       "    .dataframe thead th {\n",
       "        text-align: right;\n",
       "    }\n",
       "</style>\n",
       "<table border=\"1\" class=\"dataframe\">\n",
       "  <thead>\n",
       "    <tr style=\"text-align: right;\">\n",
       "      <th></th>\n",
       "      <th>age</th>\n",
       "      <th>unweighted</th>\n",
       "      <th>weighted</th>\n",
       "    </tr>\n",
       "  </thead>\n",
       "  <tbody>\n",
       "    <tr>\n",
       "      <th>0</th>\n",
       "      <td>16.000</td>\n",
       "      <td>15</td>\n",
       "      <td>6.319</td>\n",
       "    </tr>\n",
       "    <tr>\n",
       "      <th>1</th>\n",
       "      <td>17.000</td>\n",
       "      <td>582</td>\n",
       "      <td>229.914</td>\n",
       "    </tr>\n",
       "    <tr>\n",
       "      <th>2</th>\n",
       "      <td>18.000</td>\n",
       "      <td>12638</td>\n",
       "      <td>5465.467</td>\n",
       "    </tr>\n",
       "    <tr>\n",
       "      <th>3</th>\n",
       "      <td>19.000</td>\n",
       "      <td>48921</td>\n",
       "      <td>20350.942</td>\n",
       "    </tr>\n",
       "    <tr>\n",
       "      <th>4</th>\n",
       "      <td>20.000</td>\n",
       "      <td>53411</td>\n",
       "      <td>22198.883</td>\n",
       "    </tr>\n",
       "    <tr>\n",
       "      <th>5</th>\n",
       "      <td>21.000</td>\n",
       "      <td>52553</td>\n",
       "      <td>22135.136</td>\n",
       "    </tr>\n",
       "    <tr>\n",
       "      <th>6</th>\n",
       "      <td>22.000</td>\n",
       "      <td>49974</td>\n",
       "      <td>21319.822</td>\n",
       "    </tr>\n",
       "    <tr>\n",
       "      <th>7</th>\n",
       "      <td>23.000</td>\n",
       "      <td>49338</td>\n",
       "      <td>29087.344</td>\n",
       "    </tr>\n",
       "  </tbody>\n",
       "</table>\n",
       "</div>"
      ],
      "text/plain": [
       "     age  unweighted  weighted\n",
       "0 16.000          15     6.319\n",
       "1 17.000         582   229.914\n",
       "2 18.000       12638  5465.467\n",
       "3 19.000       48921 20350.942\n",
       "4 20.000       53411 22198.883\n",
       "5 21.000       52553 22135.136\n",
       "6 22.000       49974 21319.822\n",
       "7 23.000       49338 29087.344"
      ]
     },
     "execution_count": 11,
     "metadata": {},
     "output_type": "execute_result"
    }
   ],
   "source": [
    "age_histogram = weighted_histogram(df, 'age', normalize=False)\n",
    "age_histogram.head(8)"
   ]
  },
  {
   "cell_type": "code",
   "execution_count": 12,
   "metadata": {},
   "outputs": [
    {
     "name": "stdout",
     "output_type": "stream",
     "text": [
      "36.0\n",
      "49.0\n"
     ]
    }
   ],
   "source": [
    "print(np.median(df[pd.notnull(df.age)].age))\n",
    "print(weighted_median(df, 'age', 'weight'))"
   ]
  },
  {
   "cell_type": "code",
   "execution_count": null,
   "metadata": {},
   "outputs": [],
   "source": []
  },
  {
   "cell_type": "markdown",
   "metadata": {},
   "source": [
    "In this case, the two measures do disagree slightly. This is more apparent when visualizing the data."
   ]
  },
  {
   "cell_type": "code",
   "execution_count": 13,
   "metadata": {},
   "outputs": [
    {
     "data": {
      "text/plain": [
       "Text(0, 0.5, 'Thousands of users')"
      ]
     },
     "execution_count": 13,
     "metadata": {},
     "output_type": "execute_result"
    },
    {
     "data": {
      "image/png": "[encoded data removed]",
      "text/plain": [
       "<Figure size 1152x576 with 2 Axes>"
      ]
     },
     "metadata": {
      "needs_background": "light"
     },
     "output_type": "display_data"
    }
   ],
   "source": [
    "fig, (ax1, ax2) = plt.subplots(figsize=(16, 8), ncols=2, gridspec_kw={'width_ratios':[0.9, 0.9]})\n",
    "\n",
    "#ax1.hist(df['age'], bins = list(range(115)), color = 'black')\n",
    "ax1.bar(age_histogram['age'], age_histogram['unweighted'], width=1, color='black')\n",
    "ax1.set_xlim(10, 110)\n",
    "\n",
    "ax1.set_yticks([0, 10000, 20000, 30000, 40000, 50000])\n",
    "ax1.set_yticklabels([\"0\", \"10\", \"20\", \"30\", \"40\", \"50\"])\n",
    "ax1.set_ylabel(\"Thousands of users\")\n",
    "\n",
    "ax1.set_xlabel(\"Age\")\n",
    "ax1.set_xticks([20, 40, 60, 80, 100])\n",
    "ax1.set_title(\"Distribution of ages of panel members\")\n",
    "\n",
    "ax2.bar(age_histogram['age'], age_histogram['weighted'], width=1, color='black')\n",
    "ax2.set_xlim(10, 110)\n",
    "ax2.set_xlabel(\"Age\")\n",
    "ax2.set_xticks([20, 40, 60, 80, 100])\n",
    "ax2.set_title(\"Age (weighted)\")\n",
    "ax2.set_yticklabels([\"0\", \"10\", \"20\", \"30\", \"40\", \"50\", \"60\", \"70\"])\n",
    "ax2.set_ylabel(\"Thousands of users\")\n",
    "\n",
    "#fig.savefig(\"../figs/age.pdf\", bbox_inches='tight')\n",
    "#fig.savefig(\"../figs/age.png\", bbox_inches='tight')"
   ]
  },
  {
   "cell_type": "markdown",
   "metadata": {},
   "source": [
    "Finally, note that there is some missingness in age, representing around 6-7% of both members and total tweets."
   ]
  },
  {
   "cell_type": "code",
   "execution_count": 14,
   "metadata": {},
   "outputs": [
    {
     "name": "stdout",
     "output_type": "stream",
     "text": [
      "0.8573053387622432\n",
      "num_tweets   0.949\n",
      "Name: -1.0, dtype: float64\n"
     ]
    }
   ],
   "source": [
    "print(100 * df.age.isna().sum()/len(df.age))\n",
    "print(100 * df.fillna(-1).groupby('age').agg({\"num_tweets\": 'sum'}).iloc[0]/df.num_tweets.sum())"
   ]
  },
  {
   "cell_type": "markdown",
   "metadata": {},
   "source": [
    "### Binned ages"
   ]
  },
  {
   "cell_type": "code",
   "execution_count": null,
   "metadata": {},
   "outputs": [],
   "source": []
  },
  {
   "cell_type": "code",
   "execution_count": 15,
   "metadata": {},
   "outputs": [
    {
     "data": {
      "text/html": [
       "<div>\n",
       "<style scoped>\n",
       "    .dataframe tbody tr th:only-of-type {\n",
       "        vertical-align: middle;\n",
       "    }\n",
       "\n",
       "    .dataframe tbody tr th {\n",
       "        vertical-align: top;\n",
       "    }\n",
       "\n",
       "    .dataframe thead th {\n",
       "        text-align: right;\n",
       "    }\n",
       "</style>\n",
       "<table border=\"1\" class=\"dataframe\">\n",
       "  <thead>\n",
       "    <tr style=\"text-align: right;\">\n",
       "      <th></th>\n",
       "      <th>age_bin</th>\n",
       "      <th>unweighted</th>\n",
       "      <th>weighted</th>\n",
       "    </tr>\n",
       "  </thead>\n",
       "  <tbody>\n",
       "    <tr>\n",
       "      <th>0</th>\n",
       "      <td>&lt;18</td>\n",
       "      <td>0.000</td>\n",
       "      <td>0.000</td>\n",
       "    </tr>\n",
       "    <tr>\n",
       "      <th>1</th>\n",
       "      <td>18-29</td>\n",
       "      <td>0.357</td>\n",
       "      <td>0.184</td>\n",
       "    </tr>\n",
       "    <tr>\n",
       "      <th>2</th>\n",
       "      <td>30-50</td>\n",
       "      <td>0.418</td>\n",
       "      <td>0.336</td>\n",
       "    </tr>\n",
       "    <tr>\n",
       "      <th>3</th>\n",
       "      <td>50-65</td>\n",
       "      <td>0.172</td>\n",
       "      <td>0.269</td>\n",
       "    </tr>\n",
       "    <tr>\n",
       "      <th>4</th>\n",
       "      <td>65+</td>\n",
       "      <td>0.054</td>\n",
       "      <td>0.211</td>\n",
       "    </tr>\n",
       "  </tbody>\n",
       "</table>\n",
       "</div>"
      ],
      "text/plain": [
       "  age_bin  unweighted  weighted\n",
       "0     <18       0.000     0.000\n",
       "1   18-29       0.357     0.184\n",
       "2   30-50       0.418     0.336\n",
       "3   50-65       0.172     0.269\n",
       "4     65+       0.054     0.211"
      ]
     },
     "execution_count": 15,
     "metadata": {},
     "output_type": "execute_result"
    }
   ],
   "source": [
    "# NOTE/TODO: pandas's 'Int64' dtype is behaving very oddly (read: producing bizarre bins) with `pd.cut`, so I coerce to float here.\n",
    "# see <https://github.com/pandas-dev/pandas/issues/30787> for more information\n",
    "df['age_bin'] = pd.cut(df.age.astype(np.float64),\n",
    "                       [0, 17, 29, 49, 64, np.inf],\n",
    "                       labels=[\"<18\", \"18-29\", \"30-50\", \"50-65\", \"65+\"],\n",
    "                       right=True)\n",
    "age_bins = weighted_histogram(df, 'age_bin')\n",
    "age_bins.head()"
   ]
  },
  {
   "cell_type": "code",
   "execution_count": 16,
   "metadata": {},
   "outputs": [
    {
     "data": {
      "text/plain": [
       "Text(0.5, 1.0, 'Weighted')"
      ]
     },
     "execution_count": 16,
     "metadata": {},
     "output_type": "execute_result"
    },
    {
     "data": {
      "image/png": "[encoded data removed]",
      "text/plain": [
       "<Figure size 1152x576 with 2 Axes>"
      ]
     },
     "metadata": {
      "needs_background": "light"
     },
     "output_type": "display_data"
    }
   ],
   "source": [
    "fig, (ax1, ax2) = plt.subplots(figsize=(16, 8), ncols=2, gridspec_kw={'width_ratios':[0.9, 0.9]})\n",
    "ax1.bar(age_bins['age_bin'], age_bins['unweighted'], color='black')\n",
    "ax2.bar(age_bins['age_bin'], age_bins['weighted'], color='black')\n",
    "ax1.set_yticks([0, 0.1, 0.2, 0.3, 0.4])\n",
    "ax1.set_yticklabels([\"0%\", \"10%\", \"20%\", \"30%\", \"40%\"])\n",
    "ax2.set_yticks([0, 0.1, 0.2, 0.3, 0.4])\n",
    "ax2.set_yticklabels([\"0%\", \"10%\", \"20%\", \"30%\", \"40%\"])\n",
    "ax1.set_xlabel(\"Age\")\n",
    "ax2.set_xlabel(\"Age\")\n",
    "ax1.set_ylabel(\"Proportion\")\n",
    "ax2.set_ylabel(\"Proportion\")\n",
    "ax1.set_title(\"Unweighted\")\n",
    "ax2.set_title(\"Weighted\")\n",
    "\n",
    "#fig.savefig(\"../figs/age_bin.pdf\", bbox_inches='tight')\n",
    "#fig.savefig(\"../figs/age_bin.png\", bbox_inches='tight')"
   ]
  },
  {
   "cell_type": "markdown",
   "metadata": {},
   "source": [
    "## Sex"
   ]
  },
  {
   "cell_type": "markdown",
   "metadata": {},
   "source": [
    "For the more qualitative categories, there is considerably more missingness, and typically a few missing categories. Because we aren't doing means and standard deviations here, it's a little easier to incorporate the missingness directly."
   ]
  },
  {
   "cell_type": "code",
   "execution_count": 17,
   "metadata": {},
   "outputs": [
    {
     "data": {
      "text/html": [
       "<div>\n",
       "<style scoped>\n",
       "    .dataframe tbody tr th:only-of-type {\n",
       "        vertical-align: middle;\n",
       "    }\n",
       "\n",
       "    .dataframe tbody tr th {\n",
       "        vertical-align: top;\n",
       "    }\n",
       "\n",
       "    .dataframe thead th {\n",
       "        text-align: right;\n",
       "    }\n",
       "</style>\n",
       "<table border=\"1\" class=\"dataframe\">\n",
       "  <thead>\n",
       "    <tr style=\"text-align: right;\">\n",
       "      <th></th>\n",
       "      <th>gender</th>\n",
       "      <th>unweighted</th>\n",
       "      <th>weighted</th>\n",
       "    </tr>\n",
       "  </thead>\n",
       "  <tbody>\n",
       "    <tr>\n",
       "      <th>0</th>\n",
       "      <td>Female</td>\n",
       "      <td>0.559</td>\n",
       "      <td>0.534</td>\n",
       "    </tr>\n",
       "    <tr>\n",
       "      <th>1</th>\n",
       "      <td>Male</td>\n",
       "      <td>0.441</td>\n",
       "      <td>0.466</td>\n",
       "    </tr>\n",
       "  </tbody>\n",
       "</table>\n",
       "</div>"
      ],
      "text/plain": [
       "   gender  unweighted  weighted\n",
       "0  Female       0.559     0.534\n",
       "1    Male       0.441     0.466"
      ]
     },
     "execution_count": 17,
     "metadata": {},
     "output_type": "execute_result"
    }
   ],
   "source": [
    "df.loc[df['gender']==\"Unknown\", 'gender'] = np.nan\n",
    "#df.gender.fillna(\"Unknown\", inplace=True)\n",
    "gender_histogram = weighted_histogram(df, 'gender')\n",
    "gender_histogram.head()\n"
   ]
  },
  {
   "cell_type": "code",
   "execution_count": 18,
   "metadata": {},
   "outputs": [
    {
     "data": {
      "text/plain": [
       "Female    808073\n",
       "Male      637763\n",
       "Name: gender, dtype: int64"
      ]
     },
     "execution_count": 18,
     "metadata": {},
     "output_type": "execute_result"
    }
   ],
   "source": [
    "df.gender.value_counts()"
   ]
  },
  {
   "cell_type": "markdown",
   "metadata": {},
   "source": [
    "In both cases, males represent around 50% of the panel, females around 41%, and missing values around 9%."
   ]
  },
  {
   "cell_type": "code",
   "execution_count": 19,
   "metadata": {},
   "outputs": [
    {
     "data": {
      "text/plain": [
       "Text(0.5, 1.0, 'Weighted')"
      ]
     },
     "execution_count": 19,
     "metadata": {},
     "output_type": "execute_result"
    },
    {
     "data": {
      "image/png": "[encoded data removed]",
      "text/plain": [
       "<Figure size 1152x576 with 2 Axes>"
      ]
     },
     "metadata": {
      "needs_background": "light"
     },
     "output_type": "display_data"
    }
   ],
   "source": [
    "fig, (ax1, ax2) = plt.subplots(figsize=(16, 8), ncols=2)\n",
    "ax1.bar(gender_histogram['gender'], gender_histogram['unweighted'], color=\"black\")\n",
    "ax1.set_xlabel(\"Sex\")\n",
    "ax1.set_ylabel(\"Proportion\")\n",
    "ax1.set_yticks([0, 0.2, 0.4, 0.6])\n",
    "ax1.set_yticklabels([\"0%\", \"20%\", \"40%\", \"60%\"])\n",
    "ax1.set_title(\"Unweighted\")\n",
    "\n",
    "ax2.bar(gender_histogram['gender'], gender_histogram['weighted'], color=\"black\")\n",
    "ax2.set_xlabel(\"Sex\")\n",
    "ax2.set_ylabel(\"Proportion\")\n",
    "ax2.set_yticks([0, 0.2, 0.4, 0.6])\n",
    "ax2.set_yticklabels([\"0%\", \"20%\", \"40%\", \"60%\"])\n",
    "ax2.set_title(\"Weighted\")\n",
    "\n",
    "#fig.savefig(\"../figs/sex.pdf\", bbox_inches='tight')\n",
    "#fig.savefig(\"../figs/sex.png\", bbox_inches='tight')"
   ]
  },
  {
   "cell_type": "markdown",
   "metadata": {},
   "source": [
    "## Race"
   ]
  },
  {
   "cell_type": "code",
   "execution_count": 20,
   "metadata": {},
   "outputs": [],
   "source": [
    "df.race.fillna(\"Uncoded\", inplace=True)\n",
    "wru = pd.read_csv(WRU_IMPUTATIONS_FILE,\n",
    "                  sep='\\t',\n",
    "                  dtype={'id_str': 'str'}).rename({'id_str': 'id'}, axis=1)\n",
    "wru['imputed_race'] = wru['imputed_race'].fillna('Other') # NOTE/TODO: could be \"Uncoded\"\n",
    "\n",
    "df = df.merge(wru, how='left', on='id').drop(['pred.whi', 'pred.bla', 'pred.his', 'pred.asi', 'pred.oth'], axis=1)\n",
    "\n",
    "def combine_race(ts, wru):\n",
    "    if ts == \"Uncoded\": # NOTE/TODO: could be ['Uncoded', 'Other']\n",
    "        return wru\n",
    "    else:\n",
    "        return ts\n",
    "\n",
    "df['combined_race'] = df.apply(lambda x: combine_race(x['race'], x['imputed_race']), axis=1)"
   ]
  },
  {
   "cell_type": "code",
   "execution_count": null,
   "metadata": {},
   "outputs": [],
   "source": []
  },
  {
   "cell_type": "markdown",
   "metadata": {},
   "source": [
    "Without the imputations:"
   ]
  },
  {
   "cell_type": "code",
   "execution_count": 21,
   "metadata": {},
   "outputs": [
    {
     "data": {
      "text/html": [
       "<div>\n",
       "<style scoped>\n",
       "    .dataframe tbody tr th:only-of-type {\n",
       "        vertical-align: middle;\n",
       "    }\n",
       "\n",
       "    .dataframe tbody tr th {\n",
       "        vertical-align: top;\n",
       "    }\n",
       "\n",
       "    .dataframe thead th {\n",
       "        text-align: right;\n",
       "    }\n",
       "</style>\n",
       "<table border=\"1\" class=\"dataframe\">\n",
       "  <thead>\n",
       "    <tr style=\"text-align: right;\">\n",
       "      <th></th>\n",
       "      <th>race</th>\n",
       "      <th>unweighted</th>\n",
       "      <th>weighted</th>\n",
       "    </tr>\n",
       "  </thead>\n",
       "  <tbody>\n",
       "    <tr>\n",
       "      <th>0</th>\n",
       "      <td>African-American</td>\n",
       "      <td>0.076</td>\n",
       "      <td>0.120</td>\n",
       "    </tr>\n",
       "    <tr>\n",
       "      <th>1</th>\n",
       "      <td>Asian</td>\n",
       "      <td>0.020</td>\n",
       "      <td>0.019</td>\n",
       "    </tr>\n",
       "    <tr>\n",
       "      <th>2</th>\n",
       "      <td>Caucasian</td>\n",
       "      <td>0.851</td>\n",
       "      <td>0.796</td>\n",
       "    </tr>\n",
       "    <tr>\n",
       "      <th>3</th>\n",
       "      <td>Hispanic</td>\n",
       "      <td>0.047</td>\n",
       "      <td>0.059</td>\n",
       "    </tr>\n",
       "    <tr>\n",
       "      <th>4</th>\n",
       "      <td>Native American</td>\n",
       "      <td>0.002</td>\n",
       "      <td>0.002</td>\n",
       "    </tr>\n",
       "    <tr>\n",
       "      <th>5</th>\n",
       "      <td>Other</td>\n",
       "      <td>0.004</td>\n",
       "      <td>0.003</td>\n",
       "    </tr>\n",
       "  </tbody>\n",
       "</table>\n",
       "</div>"
      ],
      "text/plain": [
       "               race  unweighted  weighted\n",
       "0  African-American       0.076     0.120\n",
       "1             Asian       0.020     0.019\n",
       "2         Caucasian       0.851     0.796\n",
       "3          Hispanic       0.047     0.059\n",
       "4   Native American       0.002     0.002\n",
       "5             Other       0.004     0.003"
      ]
     },
     "execution_count": 21,
     "metadata": {},
     "output_type": "execute_result"
    }
   ],
   "source": [
    "race_histogram = weighted_histogram(df[df.race!=\"Uncoded\"], 'race')\n",
    "race_histogram"
   ]
  },
  {
   "cell_type": "code",
   "execution_count": 22,
   "metadata": {},
   "outputs": [
    {
     "data": {
      "text/plain": [
       "Caucasian           1242776\n",
       "African-American     111495\n",
       "Hispanic              67890\n",
       "Asian                 28674\n",
       "Other                  5339\n",
       "Native American        3354\n",
       "Name: race, dtype: int64"
      ]
     },
     "execution_count": 22,
     "metadata": {},
     "output_type": "execute_result"
    }
   ],
   "source": [
    "df[df.race!=\"Uncoded\"].race.value_counts()"
   ]
  },
  {
   "cell_type": "markdown",
   "metadata": {},
   "source": [
    "Pure-`wru` (no TargetSmart) race:"
   ]
  },
  {
   "cell_type": "code",
   "execution_count": 23,
   "metadata": {},
   "outputs": [
    {
     "data": {
      "text/html": [
       "<div>\n",
       "<style scoped>\n",
       "    .dataframe tbody tr th:only-of-type {\n",
       "        vertical-align: middle;\n",
       "    }\n",
       "\n",
       "    .dataframe tbody tr th {\n",
       "        vertical-align: top;\n",
       "    }\n",
       "\n",
       "    .dataframe thead th {\n",
       "        text-align: right;\n",
       "    }\n",
       "</style>\n",
       "<table border=\"1\" class=\"dataframe\">\n",
       "  <thead>\n",
       "    <tr style=\"text-align: right;\">\n",
       "      <th></th>\n",
       "      <th>imputed_race</th>\n",
       "      <th>unweighted</th>\n",
       "      <th>weighted</th>\n",
       "    </tr>\n",
       "  </thead>\n",
       "  <tbody>\n",
       "    <tr>\n",
       "      <th>0</th>\n",
       "      <td>African-American</td>\n",
       "      <td>0.070</td>\n",
       "      <td>0.092</td>\n",
       "    </tr>\n",
       "    <tr>\n",
       "      <th>1</th>\n",
       "      <td>Asian</td>\n",
       "      <td>0.027</td>\n",
       "      <td>0.025</td>\n",
       "    </tr>\n",
       "    <tr>\n",
       "      <th>2</th>\n",
       "      <td>Caucasian</td>\n",
       "      <td>0.837</td>\n",
       "      <td>0.811</td>\n",
       "    </tr>\n",
       "    <tr>\n",
       "      <th>3</th>\n",
       "      <td>Hispanic</td>\n",
       "      <td>0.062</td>\n",
       "      <td>0.069</td>\n",
       "    </tr>\n",
       "    <tr>\n",
       "      <th>4</th>\n",
       "      <td>Other</td>\n",
       "      <td>0.004</td>\n",
       "      <td>0.003</td>\n",
       "    </tr>\n",
       "  </tbody>\n",
       "</table>\n",
       "</div>"
      ],
      "text/plain": [
       "       imputed_race  unweighted  weighted\n",
       "0  African-American       0.070     0.092\n",
       "1             Asian       0.027     0.025\n",
       "2         Caucasian       0.837     0.811\n",
       "3          Hispanic       0.062     0.069\n",
       "4             Other       0.004     0.003"
      ]
     },
     "execution_count": 23,
     "metadata": {},
     "output_type": "execute_result"
    }
   ],
   "source": [
    "race_histogram = weighted_histogram(df, 'imputed_race')\n",
    "race_histogram"
   ]
  },
  {
   "cell_type": "markdown",
   "metadata": {},
   "source": [
    "Combining TargetSmart and `wru`:"
   ]
  },
  {
   "cell_type": "code",
   "execution_count": 24,
   "metadata": {},
   "outputs": [
    {
     "data": {
      "text/html": [
       "<div>\n",
       "<style scoped>\n",
       "    .dataframe tbody tr th:only-of-type {\n",
       "        vertical-align: middle;\n",
       "    }\n",
       "\n",
       "    .dataframe tbody tr th {\n",
       "        vertical-align: top;\n",
       "    }\n",
       "\n",
       "    .dataframe thead th {\n",
       "        text-align: right;\n",
       "    }\n",
       "</style>\n",
       "<table border=\"1\" class=\"dataframe\">\n",
       "  <thead>\n",
       "    <tr style=\"text-align: right;\">\n",
       "      <th></th>\n",
       "      <th>combined_race</th>\n",
       "      <th>unweighted</th>\n",
       "      <th>weighted</th>\n",
       "    </tr>\n",
       "  </thead>\n",
       "  <tbody>\n",
       "    <tr>\n",
       "      <th>0</th>\n",
       "      <td>African-American</td>\n",
       "      <td>0.076</td>\n",
       "      <td>0.118</td>\n",
       "    </tr>\n",
       "    <tr>\n",
       "      <th>1</th>\n",
       "      <td>Asian</td>\n",
       "      <td>0.025</td>\n",
       "      <td>0.025</td>\n",
       "    </tr>\n",
       "    <tr>\n",
       "      <th>2</th>\n",
       "      <td>Caucasian</td>\n",
       "      <td>0.839</td>\n",
       "      <td>0.785</td>\n",
       "    </tr>\n",
       "    <tr>\n",
       "      <th>3</th>\n",
       "      <td>Hispanic</td>\n",
       "      <td>0.054</td>\n",
       "      <td>0.067</td>\n",
       "    </tr>\n",
       "    <tr>\n",
       "      <th>4</th>\n",
       "      <td>Native American</td>\n",
       "      <td>0.002</td>\n",
       "      <td>0.002</td>\n",
       "    </tr>\n",
       "    <tr>\n",
       "      <th>5</th>\n",
       "      <td>Other</td>\n",
       "      <td>0.004</td>\n",
       "      <td>0.004</td>\n",
       "    </tr>\n",
       "  </tbody>\n",
       "</table>\n",
       "</div>"
      ],
      "text/plain": [
       "      combined_race  unweighted  weighted\n",
       "0  African-American       0.076     0.118\n",
       "1             Asian       0.025     0.025\n",
       "2         Caucasian       0.839     0.785\n",
       "3          Hispanic       0.054     0.067\n",
       "4   Native American       0.002     0.002\n",
       "5             Other       0.004     0.004"
      ]
     },
     "execution_count": 24,
     "metadata": {},
     "output_type": "execute_result"
    }
   ],
   "source": [
    "race_histogram = weighted_histogram(df, 'combined_race')\n",
    "race_histogram"
   ]
  },
  {
   "cell_type": "markdown",
   "metadata": {},
   "source": [
    "Whites make up the vast majority (~80%) of the panel, with Hispanics, African-Americans, and \"Uncoded\" making up most of the rest. "
   ]
  },
  {
   "cell_type": "code",
   "execution_count": 25,
   "metadata": {},
   "outputs": [
    {
     "data": {
      "image/png": "[encoded data removed]",
      "text/plain": [
       "<Figure size 1152x576 with 2 Axes>"
      ]
     },
     "metadata": {
      "needs_background": "light"
     },
     "output_type": "display_data"
    }
   ],
   "source": [
    "fig, (ax1, ax2) = plt.subplots(figsize=(16, 8), ncols=2)\n",
    "\n",
    "ax1.bar(race_histogram['combined_race'], race_histogram['unweighted'], color=\"black\")\n",
    "ax1.set_xlabel(\"Race\")\n",
    "ax1.set_ylabel(\"Proportion\")\n",
    "ax1.set_yticks([0, 0.2, 0.4, 0.6, 0.8, 1.0])\n",
    "ax1.set_yticklabels([\"0\", \"20%\", \"40%\", \"60%\", \"80%\", \"100%\"])\n",
    "ax1.set_title(\"Unweighted\")\n",
    "\n",
    "ax2.bar(race_histogram['combined_race'], race_histogram['weighted'], color=\"black\")\n",
    "ax2.set_xlabel(\"Race\")\n",
    "ax2.set_ylabel(\"Proportion\")\n",
    "ax2.set_yticks([0, 0.2, 0.4, 0.6, 0.8, 1.0])\n",
    "ax2.set_yticklabels([\"0\", \"20%\", \"40%\", \"60%\", \"80%\", \"100%\"])\n",
    "ax2.set_title(\"Weighted\")\n",
    "\n",
    "for label in ax1.get_xticklabels():\n",
    "    label.set_ha(\"right\")\n",
    "    label.set_rotation(45)\n",
    "for label in ax2.get_xticklabels():\n",
    "    label.set_ha(\"right\")\n",
    "    label.set_rotation(45)\n",
    "    \n",
    "#fig.savefig(\"../figs/race.pdf\", bbox_inches='tight')\n",
    "#fig.savefig(\"../figs/race.png\", bbox_inches='tight')"
   ]
  },
  {
   "cell_type": "markdown",
   "metadata": {},
   "source": [
    "## Party"
   ]
  },
  {
   "cell_type": "code",
   "execution_count": 26,
   "metadata": {},
   "outputs": [
    {
     "data": {
      "text/html": [
       "<div>\n",
       "<style scoped>\n",
       "    .dataframe tbody tr th:only-of-type {\n",
       "        vertical-align: middle;\n",
       "    }\n",
       "\n",
       "    .dataframe tbody tr th {\n",
       "        vertical-align: top;\n",
       "    }\n",
       "\n",
       "    .dataframe thead th {\n",
       "        text-align: right;\n",
       "    }\n",
       "</style>\n",
       "<table border=\"1\" class=\"dataframe\">\n",
       "  <thead>\n",
       "    <tr style=\"text-align: right;\">\n",
       "      <th></th>\n",
       "      <th>short_party</th>\n",
       "      <th>unweighted</th>\n",
       "      <th>weighted</th>\n",
       "    </tr>\n",
       "  </thead>\n",
       "  <tbody>\n",
       "    <tr>\n",
       "      <th>0</th>\n",
       "      <td>Democrat</td>\n",
       "      <td>0.249</td>\n",
       "      <td>0.237</td>\n",
       "    </tr>\n",
       "    <tr>\n",
       "      <th>1</th>\n",
       "      <td>Independent</td>\n",
       "      <td>0.600</td>\n",
       "      <td>0.612</td>\n",
       "    </tr>\n",
       "    <tr>\n",
       "      <th>2</th>\n",
       "      <td>Republican</td>\n",
       "      <td>0.151</td>\n",
       "      <td>0.151</td>\n",
       "    </tr>\n",
       "  </tbody>\n",
       "</table>\n",
       "</div>"
      ],
      "text/plain": [
       "   short_party  unweighted  weighted\n",
       "0     Democrat       0.249     0.237\n",
       "1  Independent       0.600     0.612\n",
       "2   Republican       0.151     0.151"
      ]
     },
     "execution_count": 26,
     "metadata": {},
     "output_type": "execute_result"
    }
   ],
   "source": [
    "df['short_party'] = df.party.replace(PARTY_CODINGS)\n",
    "party_histogram = weighted_histogram(df[df.short_party!=\"Unknown/Other\"], 'short_party')\n",
    "party_histogram.head()"
   ]
  },
  {
   "cell_type": "code",
   "execution_count": 27,
   "metadata": {},
   "outputs": [
    {
     "data": {
      "text/plain": [
       "Text(0.5, 1.0, 'Weighted')"
      ]
     },
     "execution_count": 27,
     "metadata": {},
     "output_type": "execute_result"
    },
    {
     "data": {
      "image/png": "[encoded data removed]",
      "text/plain": [
       "<Figure size 1152x576 with 2 Axes>"
      ]
     },
     "metadata": {
      "needs_background": "light"
     },
     "output_type": "display_data"
    }
   ],
   "source": [
    "fig, (ax1, ax2) = plt.subplots(figsize=(16, 8), ncols=2)\n",
    "ax1.bar(party_histogram['short_party'], party_histogram['unweighted'], color=\"black\")\n",
    "ax1.set_xlabel(\"Party\")\n",
    "ax1.set_ylabel(\"Proportion\")\n",
    "ax1.set_yticks([0, 0.2, 0.4, 0.6])\n",
    "ax1.set_yticklabels([\"0%\", \"20%\", \"40%\", \"60%\"])\n",
    "ax1.set_title(\"Unweighted\")\n",
    "\n",
    "ax2.bar(party_histogram['short_party'], party_histogram['weighted'], color=\"black\")\n",
    "ax2.set_xlabel(\"Party\")\n",
    "ax2.set_ylabel(\"Proportion\")\n",
    "ax2.set_yticks([0, 0.2, 0.4, 0.6])\n",
    "ax2.set_yticklabels([\"0%\", \"20%\", \"40%\", \"60%\"])\n",
    "ax2.set_title(\"Weighted\")\n",
    "\n",
    "#fig.savefig(\"../figs/party.pdf\", bbox_inches='tight')\n",
    "#fig.savefig(\"../figs/party.png\", bbox_inches='tight')"
   ]
  },
  {
   "cell_type": "code",
   "execution_count": 28,
   "metadata": {},
   "outputs": [
    {
     "data": {
      "text/html": [
       "<div>\n",
       "<style scoped>\n",
       "    .dataframe tbody tr th:only-of-type {\n",
       "        vertical-align: middle;\n",
       "    }\n",
       "\n",
       "    .dataframe tbody tr th {\n",
       "        vertical-align: top;\n",
       "    }\n",
       "\n",
       "    .dataframe thead th {\n",
       "        text-align: right;\n",
       "    }\n",
       "</style>\n",
       "<table border=\"1\" class=\"dataframe\">\n",
       "  <thead>\n",
       "    <tr style=\"text-align: right;\">\n",
       "      <th></th>\n",
       "      <th>tsmart_party</th>\n",
       "      <th>unweighted</th>\n",
       "      <th>weighted</th>\n",
       "    </tr>\n",
       "  </thead>\n",
       "  <tbody>\n",
       "    <tr>\n",
       "      <th>0</th>\n",
       "      <td>Republican</td>\n",
       "      <td>0.343</td>\n",
       "      <td>0.357</td>\n",
       "    </tr>\n",
       "    <tr>\n",
       "      <th>1</th>\n",
       "      <td>Independent</td>\n",
       "      <td>0.129</td>\n",
       "      <td>0.112</td>\n",
       "    </tr>\n",
       "    <tr>\n",
       "      <th>2</th>\n",
       "      <td>Democrat</td>\n",
       "      <td>0.528</td>\n",
       "      <td>0.531</td>\n",
       "    </tr>\n",
       "  </tbody>\n",
       "</table>\n",
       "</div>"
      ],
      "text/plain": [
       "  tsmart_party  unweighted  weighted\n",
       "0   Republican       0.343     0.357\n",
       "1  Independent       0.129     0.112\n",
       "2     Democrat       0.528     0.531"
      ]
     },
     "execution_count": 28,
     "metadata": {},
     "output_type": "execute_result"
    }
   ],
   "source": [
    "df['tsmart_party'] = pd.cut(df['partisan_score'].astype(np.float64), [0, 36, 65, 100], labels=[\"Republican\", \"Independent\", \"Democrat\"])\n",
    "party_histogram = weighted_histogram(df, 'tsmart_party')\n",
    "party_histogram.head()"
   ]
  },
  {
   "cell_type": "code",
   "execution_count": 29,
   "metadata": {},
   "outputs": [
    {
     "data": {
      "text/plain": [
       "Text(0.5, 1.0, 'Weighted')"
      ]
     },
     "execution_count": 29,
     "metadata": {},
     "output_type": "execute_result"
    },
    {
     "data": {
      "image/png": "[encoded data removed]",
      "text/plain": [
       "<Figure size 1152x576 with 2 Axes>"
      ]
     },
     "metadata": {
      "needs_background": "light"
     },
     "output_type": "display_data"
    }
   ],
   "source": [
    "fig, (ax1, ax2) = plt.subplots(figsize=(16, 8), ncols=2)\n",
    "ax1.bar(party_histogram['tsmart_party'], party_histogram['unweighted'], color=\"black\")\n",
    "ax1.set_xlabel(\"Party\")\n",
    "ax1.set_ylabel(\"Proportion\")\n",
    "ax1.set_yticks([0, 0.2, 0.4, 0.6])\n",
    "ax1.set_yticklabels([\"0%\", \"20%\", \"40%\", \"60%\"])\n",
    "ax1.set_title(\"Unweighted\")\n",
    "\n",
    "ax2.bar(party_histogram['tsmart_party'], party_histogram['weighted'], color=\"black\")\n",
    "ax2.set_xlabel(\"Party\")\n",
    "ax2.set_ylabel(\"Proportion\")\n",
    "ax2.set_yticks([0, 0.2, 0.4, 0.6])\n",
    "ax2.set_yticklabels([\"0%\", \"20%\", \"40%\", \"60%\"])\n",
    "ax2.set_title(\"Weighted\")\n",
    "\n",
    "#fig.savefig(\"../figs/tsmart_party.pdf\", bbox_inches='tight')\n",
    "#fig.savefig(\"../figs/tsmart_party.png\", bbox_inches='tight')"
   ]
  },
  {
   "cell_type": "markdown",
   "metadata": {},
   "source": [
    "# Urbanicity\n",
    "\n",
    "<!--\n",
    "For urbanicity, I'm going off the USDA's [Rural-Urban Continuum Codes](https://www.ers.usda.gov/data-products/rural-urban-continuum-codes.aspx) becuase they're relatively granular and should be easier to aggregate upward. These are at the county level.\n",
    "\n",
    "| Code     | Description                                                                        |\n",
    "|----------|------------------------------------------------------------------------------------|\n",
    "| Metro    |                                                                                    |\n",
    "| 1        | Counties in metro areas of 1 million population or more                            |\n",
    "| 2        | Counties in metro areas of 250,000 to 1 million population                         |\n",
    "| 3        | Counties in metro areas of fewer than 250,000 population                           |\n",
    "| Nonmetro |                                                                                    |\n",
    "| 4        | Urban population of 20,000 or more, adjacent to a metro area                       |\n",
    "| 5        | Urban population of 20,000 or more, not adjacent to a metro area                   |\n",
    "| 6        | Urban population of 2,500 to 19,999, adjacent to a metro area                      |\n",
    "| 7        | Urban population of 2,500 to 19,999, not adjacent to a metro area                  |\n",
    "| 8        | Completely rural or less than 2,500 urban population, adjacent to a metro area     |\n",
    "| 9        | Completely rural or less than 2,500 urban population, not adjacent to a metro area |\n",
    "-->\n",
    "For urbanicity, we're using the OMB measure, not the USDA one we had before. TODO: document this."
   ]
  },
  {
   "cell_type": "code",
   "execution_count": 30,
   "metadata": {},
   "outputs": [],
   "source": [
    "# These are the USDA codes, we're now using  \n",
    "#ru_codes = pd.read_csv(\"rural_urban_codes_2013.tsv\", sep='\\t', dtype='str')\n",
    "#ru_codes = ru_codes[['FIPS', 'Population_2010', 'RUCC_2013']].rename({'Population_2010': 'county_pop', 'RUCC_2013': 'urbanicity'}, axis=1)"
   ]
  },
  {
   "cell_type": "code",
   "execution_count": 31,
   "metadata": {},
   "outputs": [
    {
     "data": {
      "text/html": [
       "<div>\n",
       "<style scoped>\n",
       "    .dataframe tbody tr th:only-of-type {\n",
       "        vertical-align: middle;\n",
       "    }\n",
       "\n",
       "    .dataframe tbody tr th {\n",
       "        vertical-align: top;\n",
       "    }\n",
       "\n",
       "    .dataframe thead th {\n",
       "        text-align: right;\n",
       "    }\n",
       "</style>\n",
       "<table border=\"1\" class=\"dataframe\">\n",
       "  <thead>\n",
       "    <tr style=\"text-align: right;\">\n",
       "      <th></th>\n",
       "      <th>FIPS code</th>\n",
       "      <th>State Abr.</th>\n",
       "      <th>County name</th>\n",
       "      <th>CBSA title</th>\n",
       "      <th>CBSA 2012 pop</th>\n",
       "      <th>County 2012 pop</th>\n",
       "      <th>2013 code</th>\n",
       "      <th>2006 code</th>\n",
       "      <th>1990-based code</th>\n",
       "    </tr>\n",
       "  </thead>\n",
       "  <tbody>\n",
       "    <tr>\n",
       "      <th>0</th>\n",
       "      <td>1001</td>\n",
       "      <td>AL</td>\n",
       "      <td>Autauga County</td>\n",
       "      <td>Montgomery, AL</td>\n",
       "      <td>377149</td>\n",
       "      <td>55514</td>\n",
       "      <td>3</td>\n",
       "      <td>3</td>\n",
       "      <td>3</td>\n",
       "    </tr>\n",
       "    <tr>\n",
       "      <th>1</th>\n",
       "      <td>1003</td>\n",
       "      <td>AL</td>\n",
       "      <td>Baldwin County</td>\n",
       "      <td>Daphne-Fairhope-Foley, AL</td>\n",
       "      <td>190790</td>\n",
       "      <td>190790</td>\n",
       "      <td>4</td>\n",
       "      <td>5</td>\n",
       "      <td>3</td>\n",
       "    </tr>\n",
       "    <tr>\n",
       "      <th>2</th>\n",
       "      <td>1005</td>\n",
       "      <td>AL</td>\n",
       "      <td>Barbour County</td>\n",
       "      <td>NaN</td>\n",
       "      <td>.</td>\n",
       "      <td>27201</td>\n",
       "      <td>6</td>\n",
       "      <td>5</td>\n",
       "      <td>5</td>\n",
       "    </tr>\n",
       "    <tr>\n",
       "      <th>3</th>\n",
       "      <td>1007</td>\n",
       "      <td>AL</td>\n",
       "      <td>Bibb County</td>\n",
       "      <td>Birmingham-Hoover, AL</td>\n",
       "      <td>1136650</td>\n",
       "      <td>22597</td>\n",
       "      <td>2</td>\n",
       "      <td>2</td>\n",
       "      <td>6</td>\n",
       "    </tr>\n",
       "    <tr>\n",
       "      <th>4</th>\n",
       "      <td>1009</td>\n",
       "      <td>AL</td>\n",
       "      <td>Blount County</td>\n",
       "      <td>Birmingham-Hoover, AL</td>\n",
       "      <td>1136650</td>\n",
       "      <td>57826</td>\n",
       "      <td>2</td>\n",
       "      <td>2</td>\n",
       "      <td>3</td>\n",
       "    </tr>\n",
       "  </tbody>\n",
       "</table>\n",
       "</div>"
      ],
      "text/plain": [
       "  FIPS code State Abr.     County name                 CBSA title  \\\n",
       "0      1001         AL  Autauga County             Montgomery, AL   \n",
       "1      1003         AL  Baldwin County  Daphne-Fairhope-Foley, AL   \n",
       "2      1005         AL  Barbour County                        NaN   \n",
       "3      1007         AL     Bibb County      Birmingham-Hoover, AL   \n",
       "4      1009         AL   Blount County      Birmingham-Hoover, AL   \n",
       "\n",
       "  CBSA 2012 pop County 2012 pop 2013 code 2006 code 1990-based code  \n",
       "0        377149           55514         3         3               3  \n",
       "1        190790          190790         4         5               3  \n",
       "2             .           27201         6         5               5  \n",
       "3       1136650           22597         2         2               6  \n",
       "4       1136650           57826         2         2               3  "
      ]
     },
     "execution_count": 31,
     "metadata": {},
     "output_type": "execute_result"
    }
   ],
   "source": [
    "ru_codes = pd.read_csv(URBAN_CODES_FILE, sep=\"\\t\", dtype='str')\n",
    "ru_codes.head()"
   ]
  },
  {
   "cell_type": "code",
   "execution_count": 32,
   "metadata": {},
   "outputs": [],
   "source": [
    "ru_codes = ru_codes[['FIPS code', '2013 code']].rename({'FIPS code': 'FIPS', '2013 code': 'urbanicity'}, axis=1)\n",
    "ru_codes['FIPS'] = ru_codes['FIPS'].str.pad(5, 'left', '0')"
   ]
  },
  {
   "cell_type": "code",
   "execution_count": 33,
   "metadata": {},
   "outputs": [],
   "source": [
    "# TODO: this line is indefensible for something so conceptually straightforward\n",
    "mapper = pd.read_csv(FIPS_MAPPING_FILE, sep='\\t', dtype='str')\n",
    "mapper = mapper.set_index('postal')['fips'].to_dict()\n",
    "mapper = {k.strip(): v for k, v in mapper.items()}\n",
    "\n",
    "df['sfip'] = df.state.map(mapper)\n",
    "df['FIPS'] = df.sfip + df.county_fips.str.pad(3, 'left', '0')"
   ]
  },
  {
   "cell_type": "code",
   "execution_count": 34,
   "metadata": {},
   "outputs": [],
   "source": [
    "df = df.merge(ru_codes, how='left', on='FIPS')\n",
    "\n",
    "# NOTE: for USDA, cut_point is 4, for OMB it's 5\n",
    "def binarize(x, cut_point = 5):\n",
    "    if pd.isna(x):\n",
    "        return np.nan\n",
    "    else:\n",
    "        if float(x) < cut_point:\n",
    "            return 0.\n",
    "        else:\n",
    "            return 1.\n",
    "        \n",
    "df['urban'] = df['urbanicity'].map(binarize)"
   ]
  },
  {
   "cell_type": "code",
   "execution_count": 35,
   "metadata": {},
   "outputs": [
    {
     "data": {
      "text/html": [
       "<div>\n",
       "<style scoped>\n",
       "    .dataframe tbody tr th:only-of-type {\n",
       "        vertical-align: middle;\n",
       "    }\n",
       "\n",
       "    .dataframe tbody tr th {\n",
       "        vertical-align: top;\n",
       "    }\n",
       "\n",
       "    .dataframe thead th {\n",
       "        text-align: right;\n",
       "    }\n",
       "</style>\n",
       "<table border=\"1\" class=\"dataframe\">\n",
       "  <thead>\n",
       "    <tr style=\"text-align: right;\">\n",
       "      <th></th>\n",
       "      <th>urbanicity</th>\n",
       "      <th>unweighted</th>\n",
       "      <th>weighted</th>\n",
       "    </tr>\n",
       "  </thead>\n",
       "  <tbody>\n",
       "    <tr>\n",
       "      <th>0</th>\n",
       "      <td>1</td>\n",
       "      <td>0.356</td>\n",
       "      <td>0.291</td>\n",
       "    </tr>\n",
       "    <tr>\n",
       "      <th>1</th>\n",
       "      <td>2</td>\n",
       "      <td>0.254</td>\n",
       "      <td>0.272</td>\n",
       "    </tr>\n",
       "    <tr>\n",
       "      <th>2</th>\n",
       "      <td>3</td>\n",
       "      <td>0.196</td>\n",
       "      <td>0.215</td>\n",
       "    </tr>\n",
       "    <tr>\n",
       "      <th>3</th>\n",
       "      <td>4</td>\n",
       "      <td>0.085</td>\n",
       "      <td>0.096</td>\n",
       "    </tr>\n",
       "    <tr>\n",
       "      <th>4</th>\n",
       "      <td>5</td>\n",
       "      <td>0.068</td>\n",
       "      <td>0.077</td>\n",
       "    </tr>\n",
       "    <tr>\n",
       "      <th>5</th>\n",
       "      <td>6</td>\n",
       "      <td>0.041</td>\n",
       "      <td>0.048</td>\n",
       "    </tr>\n",
       "  </tbody>\n",
       "</table>\n",
       "</div>"
      ],
      "text/plain": [
       "  urbanicity  unweighted  weighted\n",
       "0          1       0.356     0.291\n",
       "1          2       0.254     0.272\n",
       "2          3       0.196     0.215\n",
       "3          4       0.085     0.096\n",
       "4          5       0.068     0.077\n",
       "5          6       0.041     0.048"
      ]
     },
     "execution_count": 35,
     "metadata": {},
     "output_type": "execute_result"
    }
   ],
   "source": [
    "urbanicity_histogram = weighted_histogram(df, 'urbanicity')\n",
    "urbanicity_histogram"
   ]
  },
  {
   "cell_type": "code",
   "execution_count": 36,
   "metadata": {},
   "outputs": [
    {
     "data": {
      "text/html": [
       "<div>\n",
       "<style scoped>\n",
       "    .dataframe tbody tr th:only-of-type {\n",
       "        vertical-align: middle;\n",
       "    }\n",
       "\n",
       "    .dataframe tbody tr th {\n",
       "        vertical-align: top;\n",
       "    }\n",
       "\n",
       "    .dataframe thead th {\n",
       "        text-align: right;\n",
       "    }\n",
       "</style>\n",
       "<table border=\"1\" class=\"dataframe\">\n",
       "  <thead>\n",
       "    <tr style=\"text-align: right;\">\n",
       "      <th></th>\n",
       "      <th>urban</th>\n",
       "      <th>unweighted</th>\n",
       "      <th>weighted</th>\n",
       "    </tr>\n",
       "  </thead>\n",
       "  <tbody>\n",
       "    <tr>\n",
       "      <th>0</th>\n",
       "      <td>0.000</td>\n",
       "      <td>0.891</td>\n",
       "      <td>0.875</td>\n",
       "    </tr>\n",
       "    <tr>\n",
       "      <th>1</th>\n",
       "      <td>1.000</td>\n",
       "      <td>0.109</td>\n",
       "      <td>0.125</td>\n",
       "    </tr>\n",
       "  </tbody>\n",
       "</table>\n",
       "</div>"
      ],
      "text/plain": [
       "   urban  unweighted  weighted\n",
       "0  0.000       0.891     0.875\n",
       "1  1.000       0.109     0.125"
      ]
     },
     "execution_count": 36,
     "metadata": {},
     "output_type": "execute_result"
    }
   ],
   "source": [
    "urban = weighted_histogram(df, 'urban')\n",
    "urban"
   ]
  },
  {
   "cell_type": "code",
   "execution_count": 37,
   "metadata": {},
   "outputs": [
    {
     "data": {
      "image/png": "[encoded data removed]",
      "text/plain": [
       "<Figure size 1152x576 with 2 Axes>"
      ]
     },
     "metadata": {
      "needs_background": "light"
     },
     "output_type": "display_data"
    }
   ],
   "source": [
    "fig, (ax1, ax2) = plt.subplots(figsize=(16, 8), ncols=2)\n",
    "ax1.bar(urbanicity_histogram['urbanicity'], urbanicity_histogram['unweighted'], color=\"black\")\n",
    "ax1.set_xlabel(\"Urbanicity\")\n",
    "ax1.set_ylabel(\"Proportion\")\n",
    "ax1.set_yticks([0, 0.1, 0.2, 0.3, 0.4])\n",
    "ax1.set_yticklabels([\"0%\", \"10%\", \"20%\", \"30%\", \"40%\"])\n",
    "ax1.set_xticklabels([\"Large\\ncentral metro\", \"Large\\nfringe metro\", \"Medium metro\", \"Small metro\", \"Micropolitan\", \"Non-core\"])\n",
    "ax1.set_title(\"Unweighted\")\n",
    "\n",
    "ax2.bar(urbanicity_histogram['urbanicity'], urbanicity_histogram['weighted'], color=\"black\")\n",
    "ax2.set_xlabel(\"Urbanicity\")\n",
    "ax2.set_ylabel(\"Proportion\")\n",
    "ax2.set_yticks([0, 0.1, 0.2, 0.3, 0.4])\n",
    "ax2.set_yticklabels([\"0%\", \"10%\", \"20%\", \"30%\", \"40%\"])\n",
    "ax2.set_title(\"Weighted\")\n",
    "ax2.set_xticklabels([\"Large\\ncentral metro\", \"Large\\nfringe metro\", \"Medium metro\", \"Small metro\", \"Micropolitan\", \"Non-core\"])\n",
    "\n",
    "for label in ax1.get_xticklabels():\n",
    "    label.set_ha(\"right\")\n",
    "    label.set_rotation(45)\n",
    "for label in ax2.get_xticklabels():\n",
    "    label.set_ha(\"right\")\n",
    "    label.set_rotation(45)\n",
    "    \n",
    "#fig.savefig(\"../figs/urbanicity.pdf\", bbox_inches='tight')\n",
    "#fig.savefig(\"../figs/urbanicity.png\", bbox_inches='tight')"
   ]
  },
  {
   "cell_type": "markdown",
   "metadata": {},
   "source": [
    "# Housing Prices"
   ]
  },
  {
   "cell_type": "code",
   "execution_count": 38,
   "metadata": {},
   "outputs": [
    {
     "data": {
      "text/html": [
       "<div>\n",
       "<style scoped>\n",
       "    .dataframe tbody tr th:only-of-type {\n",
       "        vertical-align: middle;\n",
       "    }\n",
       "\n",
       "    .dataframe tbody tr th {\n",
       "        vertical-align: top;\n",
       "    }\n",
       "\n",
       "    .dataframe thead th {\n",
       "        text-align: right;\n",
       "    }\n",
       "</style>\n",
       "<table border=\"1\" class=\"dataframe\">\n",
       "  <thead>\n",
       "    <tr style=\"text-align: right;\">\n",
       "      <th></th>\n",
       "      <th>RegionID</th>\n",
       "      <th>RegionName</th>\n",
       "      <th>City</th>\n",
       "      <th>State</th>\n",
       "      <th>Metro</th>\n",
       "      <th>CountyName</th>\n",
       "      <th>SizeRank</th>\n",
       "      <th>1996-04</th>\n",
       "      <th>1996-05</th>\n",
       "      <th>1996-06</th>\n",
       "      <th>...</th>\n",
       "      <th>2019-01</th>\n",
       "      <th>2019-02</th>\n",
       "      <th>2019-03</th>\n",
       "      <th>2019-04</th>\n",
       "      <th>2019-05</th>\n",
       "      <th>2019-06</th>\n",
       "      <th>2019-07</th>\n",
       "      <th>2019-08</th>\n",
       "      <th>2019-09</th>\n",
       "      <th>2019-10</th>\n",
       "    </tr>\n",
       "  </thead>\n",
       "  <tbody>\n",
       "    <tr>\n",
       "      <th>0</th>\n",
       "      <td>61639</td>\n",
       "      <td>10025</td>\n",
       "      <td>New York</td>\n",
       "      <td>NY</td>\n",
       "      <td>New York-Newark-Jersey City</td>\n",
       "      <td>New York County</td>\n",
       "      <td>1</td>\n",
       "      <td>200.000</td>\n",
       "      <td>200.000</td>\n",
       "      <td>201.000</td>\n",
       "      <td>...</td>\n",
       "      <td>1292</td>\n",
       "      <td>1291</td>\n",
       "      <td>1291</td>\n",
       "      <td>1279</td>\n",
       "      <td>1266</td>\n",
       "      <td>1261</td>\n",
       "      <td>1254</td>\n",
       "      <td>1242</td>\n",
       "      <td>1236</td>\n",
       "      <td>1238</td>\n",
       "    </tr>\n",
       "    <tr>\n",
       "      <th>1</th>\n",
       "      <td>84654</td>\n",
       "      <td>60657</td>\n",
       "      <td>Chicago</td>\n",
       "      <td>IL</td>\n",
       "      <td>Chicago-Naperville-Elgin</td>\n",
       "      <td>Cook County</td>\n",
       "      <td>2</td>\n",
       "      <td>156.000</td>\n",
       "      <td>157.000</td>\n",
       "      <td>157.000</td>\n",
       "      <td>...</td>\n",
       "      <td>482</td>\n",
       "      <td>484</td>\n",
       "      <td>489</td>\n",
       "      <td>495</td>\n",
       "      <td>496</td>\n",
       "      <td>490</td>\n",
       "      <td>483</td>\n",
       "      <td>479</td>\n",
       "      <td>475</td>\n",
       "      <td>472</td>\n",
       "    </tr>\n",
       "    <tr>\n",
       "      <th>2</th>\n",
       "      <td>61637</td>\n",
       "      <td>10023</td>\n",
       "      <td>New York</td>\n",
       "      <td>NY</td>\n",
       "      <td>New York-Newark-Jersey City</td>\n",
       "      <td>New York County</td>\n",
       "      <td>3</td>\n",
       "      <td>359.000</td>\n",
       "      <td>359.000</td>\n",
       "      <td>359.000</td>\n",
       "      <td>...</td>\n",
       "      <td>1558</td>\n",
       "      <td>1543</td>\n",
       "      <td>1525</td>\n",
       "      <td>1504</td>\n",
       "      <td>1493</td>\n",
       "      <td>1493</td>\n",
       "      <td>1485</td>\n",
       "      <td>1474</td>\n",
       "      <td>1469</td>\n",
       "      <td>1468</td>\n",
       "    </tr>\n",
       "    <tr>\n",
       "      <th>3</th>\n",
       "      <td>91982</td>\n",
       "      <td>77494</td>\n",
       "      <td>Katy</td>\n",
       "      <td>TX</td>\n",
       "      <td>Houston-The Woodlands-Sugar Land</td>\n",
       "      <td>Harris County</td>\n",
       "      <td>4</td>\n",
       "      <td>67.000</td>\n",
       "      <td>68.000</td>\n",
       "      <td>68.000</td>\n",
       "      <td>...</td>\n",
       "      <td>114</td>\n",
       "      <td>114</td>\n",
       "      <td>114</td>\n",
       "      <td>114</td>\n",
       "      <td>114</td>\n",
       "      <td>114</td>\n",
       "      <td>113</td>\n",
       "      <td>112</td>\n",
       "      <td>113</td>\n",
       "      <td>113</td>\n",
       "    </tr>\n",
       "    <tr>\n",
       "      <th>4</th>\n",
       "      <td>84616</td>\n",
       "      <td>60614</td>\n",
       "      <td>Chicago</td>\n",
       "      <td>IL</td>\n",
       "      <td>Chicago-Naperville-Elgin</td>\n",
       "      <td>Cook County</td>\n",
       "      <td>5</td>\n",
       "      <td>199.000</td>\n",
       "      <td>200.000</td>\n",
       "      <td>201.000</td>\n",
       "      <td>...</td>\n",
       "      <td>529</td>\n",
       "      <td>532</td>\n",
       "      <td>535</td>\n",
       "      <td>537</td>\n",
       "      <td>534</td>\n",
       "      <td>526</td>\n",
       "      <td>518</td>\n",
       "      <td>512</td>\n",
       "      <td>508</td>\n",
       "      <td>506</td>\n",
       "    </tr>\n",
       "  </tbody>\n",
       "</table>\n",
       "<p>5 rows × 290 columns</p>\n",
       "</div>"
      ],
      "text/plain": [
       "   RegionID  RegionName      City State                             Metro  \\\n",
       "0     61639       10025  New York    NY       New York-Newark-Jersey City   \n",
       "1     84654       60657   Chicago    IL          Chicago-Naperville-Elgin   \n",
       "2     61637       10023  New York    NY       New York-Newark-Jersey City   \n",
       "3     91982       77494      Katy    TX  Houston-The Woodlands-Sugar Land   \n",
       "4     84616       60614   Chicago    IL          Chicago-Naperville-Elgin   \n",
       "\n",
       "        CountyName  SizeRank  1996-04  1996-05  1996-06  ...  2019-01  \\\n",
       "0  New York County         1  200.000  200.000  201.000  ...     1292   \n",
       "1      Cook County         2  156.000  157.000  157.000  ...      482   \n",
       "2  New York County         3  359.000  359.000  359.000  ...     1558   \n",
       "3    Harris County         4   67.000   68.000   68.000  ...      114   \n",
       "4      Cook County         5  199.000  200.000  201.000  ...      529   \n",
       "\n",
       "   2019-02  2019-03  2019-04  2019-05  2019-06  2019-07  2019-08  2019-09  \\\n",
       "0     1291     1291     1279     1266     1261     1254     1242     1236   \n",
       "1      484      489      495      496      490      483      479      475   \n",
       "2     1543     1525     1504     1493     1493     1485     1474     1469   \n",
       "3      114      114      114      114      114      113      112      113   \n",
       "4      532      535      537      534      526      518      512      508   \n",
       "\n",
       "   2019-10  \n",
       "0     1238  \n",
       "1      472  \n",
       "2     1468  \n",
       "3      113  \n",
       "4      506  \n",
       "\n",
       "[5 rows x 290 columns]"
      ]
     },
     "execution_count": 38,
     "metadata": {},
     "output_type": "execute_result"
    }
   ],
   "source": [
    "zillow = pd.read_csv(ZILLOW_FILE, encoding='latin-1')\n",
    "zillow.head()"
   ]
  },
  {
   "cell_type": "code",
   "execution_count": 39,
   "metadata": {},
   "outputs": [],
   "source": [
    "zillow['zip'] = zillow.RegionName.astype(str).str.pad(5, 'left', '0')\n",
    "df['zip'] = df['zip'].str.pad(5, 'left', '0')\n",
    "zillow = zillow.loc[:, [\"zip\", \"2019-10\"]].rename({\"2019-10\": \"sqft_price\"}, axis=1)\n",
    "df = df.merge(zillow, how='left', on='zip')"
   ]
  },
  {
   "cell_type": "code",
   "execution_count": 40,
   "metadata": {},
   "outputs": [
    {
     "data": {
      "text/html": [
       "<div>\n",
       "<style scoped>\n",
       "    .dataframe tbody tr th:only-of-type {\n",
       "        vertical-align: middle;\n",
       "    }\n",
       "\n",
       "    .dataframe tbody tr th {\n",
       "        vertical-align: top;\n",
       "    }\n",
       "\n",
       "    .dataframe thead th {\n",
       "        text-align: right;\n",
       "    }\n",
       "</style>\n",
       "<table border=\"1\" class=\"dataframe\">\n",
       "  <thead>\n",
       "    <tr style=\"text-align: right;\">\n",
       "      <th></th>\n",
       "      <th>zip</th>\n",
       "      <th>sqft_price</th>\n",
       "    </tr>\n",
       "  </thead>\n",
       "  <tbody>\n",
       "    <tr>\n",
       "      <th>0</th>\n",
       "      <td>57642</td>\n",
       "      <td>nan</td>\n",
       "    </tr>\n",
       "    <tr>\n",
       "      <th>1</th>\n",
       "      <td>48642</td>\n",
       "      <td>96.000</td>\n",
       "    </tr>\n",
       "    <tr>\n",
       "      <th>2</th>\n",
       "      <td>75605</td>\n",
       "      <td>nan</td>\n",
       "    </tr>\n",
       "    <tr>\n",
       "      <th>3</th>\n",
       "      <td>35611</td>\n",
       "      <td>77.000</td>\n",
       "    </tr>\n",
       "    <tr>\n",
       "      <th>4</th>\n",
       "      <td>17603</td>\n",
       "      <td>123.000</td>\n",
       "    </tr>\n",
       "    <tr>\n",
       "      <th>...</th>\n",
       "      <td>...</td>\n",
       "      <td>...</td>\n",
       "    </tr>\n",
       "    <tr>\n",
       "      <th>1496428</th>\n",
       "      <td>40509</td>\n",
       "      <td>124.000</td>\n",
       "    </tr>\n",
       "    <tr>\n",
       "      <th>1496429</th>\n",
       "      <td>54806</td>\n",
       "      <td>nan</td>\n",
       "    </tr>\n",
       "    <tr>\n",
       "      <th>1496430</th>\n",
       "      <td>95020</td>\n",
       "      <td>391.000</td>\n",
       "    </tr>\n",
       "    <tr>\n",
       "      <th>1496431</th>\n",
       "      <td>15963</td>\n",
       "      <td>50.000</td>\n",
       "    </tr>\n",
       "    <tr>\n",
       "      <th>1496432</th>\n",
       "      <td>01240</td>\n",
       "      <td>185.000</td>\n",
       "    </tr>\n",
       "  </tbody>\n",
       "</table>\n",
       "<p>1496433 rows × 2 columns</p>\n",
       "</div>"
      ],
      "text/plain": [
       "           zip  sqft_price\n",
       "0        57642         nan\n",
       "1        48642      96.000\n",
       "2        75605         nan\n",
       "3        35611      77.000\n",
       "4        17603     123.000\n",
       "...        ...         ...\n",
       "1496428  40509     124.000\n",
       "1496429  54806         nan\n",
       "1496430  95020     391.000\n",
       "1496431  15963      50.000\n",
       "1496432  01240     185.000\n",
       "\n",
       "[1496433 rows x 2 columns]"
      ]
     },
     "execution_count": 40,
     "metadata": {},
     "output_type": "execute_result"
    }
   ],
   "source": [
    "df.loc[:, ['zip', 'sqft_price']]"
   ]
  },
  {
   "cell_type": "code",
   "execution_count": null,
   "metadata": {},
   "outputs": [],
   "source": []
  },
  {
   "cell_type": "markdown",
   "metadata": {},
   "source": [
    "# Things I've taken out"
   ]
  },
  {
   "cell_type": "markdown",
   "metadata": {},
   "source": [
    "### Tweet-weighted measures: come back to this some time later\n"
   ]
  },
  {
   "cell_type": "code",
   "execution_count": 41,
   "metadata": {},
   "outputs": [],
   "source": [
    "from statsmodels.stats.weightstats import DescrStatsW\n",
    "def weighted_describe(hist):\n",
    "    \"\"\"\n",
    "    A somewhat lazy workaround for generating similar output to describe() for tweet-weighted demographics.\n",
    "    \n",
    "    `hist` is a Pandas DataFrame with two columns. The first is the relevant (numeric) values and the second is the \n",
    "    number of observations of each value. That is, the input to this function is the output of calling `value_counts()` \n",
    "    on a numeric Pandas Series.\n",
    "    \n",
    "    It returns a Series that is formatted like the normal output of `describe()`.\n",
    "    \"\"\"\n",
    "    \n",
    "    ws = DescrStatsW(hist.iloc[:, 0], weights=hist.iloc[:, 1], ddof=0)    \n",
    "    n = hist.iloc[:, 1].sum()    \n",
    "    return pd.Series([n, ws.mean, ws.std, ws.quantile(0), ws.quantile(0.25), ws.quantile(0.5), ws.quantile(0.75), ws.quantile(1)], \n",
    "                     index=['count', 'mean', 'std', 'min', '25%', '50%', '75%', 'max'], \n",
    "                     dtype=np.float64)"
   ]
  },
  {
   "cell_type": "markdown",
   "metadata": {},
   "source": [
    "The second is to ask what percentage of panel members' tweets come from members of category X:"
   ]
  },
  {
   "cell_type": "code",
   "execution_count": 42,
   "metadata": {},
   "outputs": [
    {
     "data": {
      "text/html": [
       "<div>\n",
       "<style scoped>\n",
       "    .dataframe tbody tr th:only-of-type {\n",
       "        vertical-align: middle;\n",
       "    }\n",
       "\n",
       "    .dataframe tbody tr th {\n",
       "        vertical-align: top;\n",
       "    }\n",
       "\n",
       "    .dataframe thead th {\n",
       "        text-align: right;\n",
       "    }\n",
       "</style>\n",
       "<table border=\"1\" class=\"dataframe\">\n",
       "  <thead>\n",
       "    <tr style=\"text-align: right;\">\n",
       "      <th></th>\n",
       "      <th>age</th>\n",
       "      <th>num_tweets</th>\n",
       "    </tr>\n",
       "  </thead>\n",
       "  <tbody>\n",
       "    <tr>\n",
       "      <th>4</th>\n",
       "      <td>20.000</td>\n",
       "      <td>114772126</td>\n",
       "    </tr>\n",
       "    <tr>\n",
       "      <th>5</th>\n",
       "      <td>21.000</td>\n",
       "      <td>111199380</td>\n",
       "    </tr>\n",
       "    <tr>\n",
       "      <th>6</th>\n",
       "      <td>22.000</td>\n",
       "      <td>101418959</td>\n",
       "    </tr>\n",
       "  </tbody>\n",
       "</table>\n",
       "</div>"
      ],
      "text/plain": [
       "     age  num_tweets\n",
       "4 20.000   114772126\n",
       "5 21.000   111199380\n",
       "6 22.000   101418959"
      ]
     },
     "execution_count": 42,
     "metadata": {},
     "output_type": "execute_result"
    }
   ],
   "source": [
    "tweets_per_age = df.groupby('age').agg({\"num_tweets\": 'sum'}).reset_index()\n",
    "tweets_per_age.sort_values('num_tweets', ascending=False).head(3)"
   ]
  },
  {
   "cell_type": "code",
   "execution_count": 43,
   "metadata": {},
   "outputs": [
    {
     "data": {
      "text/html": [
       "<div>\n",
       "<style scoped>\n",
       "    .dataframe tbody tr th:only-of-type {\n",
       "        vertical-align: middle;\n",
       "    }\n",
       "\n",
       "    .dataframe tbody tr th {\n",
       "        vertical-align: top;\n",
       "    }\n",
       "\n",
       "    .dataframe thead th {\n",
       "        text-align: right;\n",
       "    }\n",
       "</style>\n",
       "<table border=\"1\" class=\"dataframe\">\n",
       "  <thead>\n",
       "    <tr style=\"text-align: right;\">\n",
       "      <th></th>\n",
       "      <th>Members</th>\n",
       "      <th>Tweets</th>\n",
       "    </tr>\n",
       "  </thead>\n",
       "  <tbody>\n",
       "    <tr>\n",
       "      <th>count</th>\n",
       "      <td>1483604.000</td>\n",
       "      <td>2149617465.000</td>\n",
       "    </tr>\n",
       "    <tr>\n",
       "      <th>mean</th>\n",
       "      <td>38.099</td>\n",
       "      <td>36.494</td>\n",
       "    </tr>\n",
       "    <tr>\n",
       "      <th>std</th>\n",
       "      <td>14.582</td>\n",
       "      <td>15.099</td>\n",
       "    </tr>\n",
       "    <tr>\n",
       "      <th>min</th>\n",
       "      <td>16.000</td>\n",
       "      <td>16.000</td>\n",
       "    </tr>\n",
       "    <tr>\n",
       "      <th>25%</th>\n",
       "      <td>26.000</td>\n",
       "      <td>23.000</td>\n",
       "    </tr>\n",
       "    <tr>\n",
       "      <th>50%</th>\n",
       "      <td>36.000</td>\n",
       "      <td>32.000</td>\n",
       "    </tr>\n",
       "    <tr>\n",
       "      <th>75%</th>\n",
       "      <td>48.000</td>\n",
       "      <td>47.000</td>\n",
       "    </tr>\n",
       "    <tr>\n",
       "      <th>max</th>\n",
       "      <td>113.000</td>\n",
       "      <td>113.000</td>\n",
       "    </tr>\n",
       "  </tbody>\n",
       "</table>\n",
       "</div>"
      ],
      "text/plain": [
       "          Members         Tweets\n",
       "count 1483604.000 2149617465.000\n",
       "mean       38.099         36.494\n",
       "std        14.582         15.099\n",
       "min        16.000         16.000\n",
       "25%        26.000         23.000\n",
       "50%        36.000         32.000\n",
       "75%        48.000         47.000\n",
       "max       113.000        113.000"
      ]
     },
     "execution_count": 43,
     "metadata": {},
     "output_type": "execute_result"
    }
   ],
   "source": [
    "pd.concat([df['age'].describe().rename(\"Members\"), weighted_describe(tweets_per_age).rename(\"Tweets\")], axis=1)"
   ]
  },
  {
   "cell_type": "code",
   "execution_count": null,
   "metadata": {},
   "outputs": [],
   "source": []
  },
  {
   "cell_type": "markdown",
   "metadata": {},
   "source": [
    "### Comparison to voter file"
   ]
  },
  {
   "cell_type": "code",
   "execution_count": 44,
   "metadata": {},
   "outputs": [
    {
     "data": {
      "text/html": [
       "<div>\n",
       "<style scoped>\n",
       "    .dataframe tbody tr th:only-of-type {\n",
       "        vertical-align: middle;\n",
       "    }\n",
       "\n",
       "    .dataframe tbody tr th {\n",
       "        vertical-align: top;\n",
       "    }\n",
       "\n",
       "    .dataframe thead th {\n",
       "        text-align: right;\n",
       "    }\n",
       "</style>\n",
       "<table border=\"1\" class=\"dataframe\">\n",
       "  <thead>\n",
       "    <tr style=\"text-align: right;\">\n",
       "      <th></th>\n",
       "      <th>Age</th>\n",
       "      <th>Num</th>\n",
       "      <th>Proportion</th>\n",
       "    </tr>\n",
       "  </thead>\n",
       "  <tbody>\n",
       "    <tr>\n",
       "      <th>0</th>\n",
       "      <td>-1</td>\n",
       "      <td>17685496</td>\n",
       "      <td>0.069</td>\n",
       "    </tr>\n",
       "    <tr>\n",
       "      <th>1</th>\n",
       "      <td>15</td>\n",
       "      <td>6</td>\n",
       "      <td>0.000</td>\n",
       "    </tr>\n",
       "    <tr>\n",
       "      <th>2</th>\n",
       "      <td>16</td>\n",
       "      <td>2412</td>\n",
       "      <td>0.000</td>\n",
       "    </tr>\n",
       "    <tr>\n",
       "      <th>3</th>\n",
       "      <td>17</td>\n",
       "      <td>38174</td>\n",
       "      <td>0.000</td>\n",
       "    </tr>\n",
       "    <tr>\n",
       "      <th>4</th>\n",
       "      <td>18</td>\n",
       "      <td>661273</td>\n",
       "      <td>0.003</td>\n",
       "    </tr>\n",
       "    <tr>\n",
       "      <th>...</th>\n",
       "      <td>...</td>\n",
       "      <td>...</td>\n",
       "      <td>...</td>\n",
       "    </tr>\n",
       "    <tr>\n",
       "      <th>97</th>\n",
       "      <td>111</td>\n",
       "      <td>5824</td>\n",
       "      <td>0.000</td>\n",
       "    </tr>\n",
       "    <tr>\n",
       "      <th>98</th>\n",
       "      <td>112</td>\n",
       "      <td>4457</td>\n",
       "      <td>0.000</td>\n",
       "    </tr>\n",
       "    <tr>\n",
       "      <th>99</th>\n",
       "      <td>113</td>\n",
       "      <td>3967</td>\n",
       "      <td>0.000</td>\n",
       "    </tr>\n",
       "    <tr>\n",
       "      <th>100</th>\n",
       "      <td>114</td>\n",
       "      <td>2600</td>\n",
       "      <td>0.000</td>\n",
       "    </tr>\n",
       "    <tr>\n",
       "      <th>101</th>\n",
       "      <td>115</td>\n",
       "      <td>2630</td>\n",
       "      <td>0.000</td>\n",
       "    </tr>\n",
       "  </tbody>\n",
       "</table>\n",
       "<p>102 rows × 3 columns</p>\n",
       "</div>"
      ],
      "text/plain": [
       "     Age       Num  Proportion\n",
       "0     -1  17685496       0.069\n",
       "1     15         6       0.000\n",
       "2     16      2412       0.000\n",
       "3     17     38174       0.000\n",
       "4     18    661273       0.003\n",
       "..   ...       ...         ...\n",
       "97   111      5824       0.000\n",
       "98   112      4457       0.000\n",
       "99   113      3967       0.000\n",
       "100  114      2600       0.000\n",
       "101  115      2630       0.000\n",
       "\n",
       "[102 rows x 3 columns]"
      ]
     },
     "execution_count": 44,
     "metadata": {},
     "output_type": "execute_result"
    }
   ],
   "source": [
    "age_vf = pd.DataFrame(\n",
    "    {-1: [17685496], 15: [6], 16: [2412], 17: [38174], 18: [661273], 19: [2418374], 20: [2666509], 21: [2812042], 22: [2939271], 23: [3346028], 24: [3489311], 25: [3632444], 26: [3724652], 27: [4026283], 28: [3959841], 29: [3924884], 30: [3972400], 31: [4021170], 32: [4070199], 33: [4024160], 34: [4028632], 35: [3982492], 36: [3955871], 37: [3976472], 38: [3856777], 39: [3735061], 40: [3789168], 41: [3628781], 42: [3622414], 43: [3674612], 44: [3662938], 45: [3771735], 46: [4056906], 47: [4241855], 48: [4094299], 49: [4015198], 50: [4029660], 51: [4052044], 52: [4186613], 53: [4401202], 54: [4447359], 55: [4462249], 56: [4502375], 57: [4495459], 58: [4436877], 59: [4387544], 60: [4391967], 61: [4272158], 62: [4137141], 63: [4073588], 64: [3906233], 65: [3788257], 66: [3630547], 67: [3467809], 68: [3419261], 69: [3358771], 70: [3467821], 71: [3059695], 72: [2504454], 73: [2467336], 74: [2512089], 75: [2409347], 76: [2090096], 77: [1935778], 78: [1802737], 79: [1746581], 80: [1619633], 81: [1516002], 82: [1443223], 83: [1349669], 84: [1232711], 85: [1217424], 86: [1148180], 87: [1185469], 88: [984438], 89: [924397], 90: [850444], 91: [764197], 92: [690974], 93: [625449], 94: [538336], 95: [467877], 96: [408706], 97: [339782], 98: [267622], 99: [220675], 100: [178402], 101: [131586], 102: [104909], 103: [83972], 104: [62365], 105: [47759], 106: [36576], 107: [25191], 108: [17806], 109: [11407], 110: [7740], 111: [5824], 112: [4457], 113: [3967], 114: [2600], 115: [2630]}\n",
    ").T.reset_index()\n",
    "age_vf.columns = ['Age', 'Num']\n",
    "age_vf['Proportion'] = age_vf['Num'] / age_vf['Num'].sum()\n",
    "age_vf"
   ]
  },
  {
   "cell_type": "code",
   "execution_count": 45,
   "metadata": {},
   "outputs": [
    {
     "data": {
      "text/plain": [
       "count   240188091.000\n",
       "mean           50.935\n",
       "std            18.927\n",
       "min            15.000\n",
       "25%            35.000\n",
       "50%            51.000\n",
       "75%            65.000\n",
       "max           115.000\n",
       "dtype: float64"
      ]
     },
     "execution_count": 45,
     "metadata": {},
     "output_type": "execute_result"
    }
   ],
   "source": [
    "age_vf = age_vf.iloc[1:]\n",
    "weighted_describe(age_vf)"
   ]
  },
  {
   "cell_type": "code",
   "execution_count": 46,
   "metadata": {},
   "outputs": [
    {
     "data": {
      "text/html": [
       "<div>\n",
       "<style scoped>\n",
       "    .dataframe tbody tr th:only-of-type {\n",
       "        vertical-align: middle;\n",
       "    }\n",
       "\n",
       "    .dataframe tbody tr th {\n",
       "        vertical-align: top;\n",
       "    }\n",
       "\n",
       "    .dataframe thead th {\n",
       "        text-align: right;\n",
       "    }\n",
       "</style>\n",
       "<table border=\"1\" class=\"dataframe\">\n",
       "  <thead>\n",
       "    <tr style=\"text-align: right;\">\n",
       "      <th></th>\n",
       "      <th>Gender</th>\n",
       "      <th>Panel Members</th>\n",
       "      <th>Tweets</th>\n",
       "    </tr>\n",
       "  </thead>\n",
       "  <tbody>\n",
       "    <tr>\n",
       "      <th>0</th>\n",
       "      <td>Female</td>\n",
       "      <td>0.540</td>\n",
       "      <td>0.522</td>\n",
       "    </tr>\n",
       "    <tr>\n",
       "      <th>1</th>\n",
       "      <td>Male</td>\n",
       "      <td>0.426</td>\n",
       "      <td>0.440</td>\n",
       "    </tr>\n",
       "    <tr>\n",
       "      <th>2</th>\n",
       "      <td>Unknown</td>\n",
       "      <td>0.034</td>\n",
       "      <td>0.038</td>\n",
       "    </tr>\n",
       "  </tbody>\n",
       "</table>\n",
       "</div>"
      ],
      "text/plain": [
       "    Gender  Panel Members  Tweets\n",
       "0   Female          0.540   0.522\n",
       "1     Male          0.426   0.440\n",
       "2  Unknown          0.034   0.038"
      ]
     },
     "execution_count": 46,
     "metadata": {},
     "output_type": "execute_result"
    }
   ],
   "source": [
    "df.gender.fillna(\"Unknown\", inplace=True)\n",
    "gender_analysis = df.groupby(\"gender\").agg({\"num_tweets\": [\"count\", \"sum\"]}).reset_index()\n",
    "gender_analysis.columns = gender_analysis.columns.to_flat_index()\n",
    "gender_analysis.columns = [\"Gender\", \"Panel Members\", \"Tweets\"]\n",
    "\n",
    "pd.concat([gender_analysis['Gender'], (gender_analysis['Panel Members'] / gender_analysis['Panel Members'].sum()), (gender_analysis['Tweets'] / gender_analysis['Tweets'].sum())], axis=1)"
   ]
  },
  {
   "cell_type": "markdown",
   "metadata": {},
   "source": [
    "### Comparison to the voter file"
   ]
  },
  {
   "cell_type": "code",
   "execution_count": 47,
   "metadata": {},
   "outputs": [
    {
     "data": {
      "text/html": [
       "<div>\n",
       "<style scoped>\n",
       "    .dataframe tbody tr th:only-of-type {\n",
       "        vertical-align: middle;\n",
       "    }\n",
       "\n",
       "    .dataframe tbody tr th {\n",
       "        vertical-align: top;\n",
       "    }\n",
       "\n",
       "    .dataframe thead th {\n",
       "        text-align: right;\n",
       "    }\n",
       "</style>\n",
       "<table border=\"1\" class=\"dataframe\">\n",
       "  <thead>\n",
       "    <tr style=\"text-align: right;\">\n",
       "      <th></th>\n",
       "      <th>Sex</th>\n",
       "      <th>Num</th>\n",
       "      <th>Proportion</th>\n",
       "    </tr>\n",
       "  </thead>\n",
       "  <tbody>\n",
       "    <tr>\n",
       "      <th>0</th>\n",
       "      <td>Male</td>\n",
       "      <td>131222656</td>\n",
       "      <td>0.509</td>\n",
       "    </tr>\n",
       "    <tr>\n",
       "      <th>1</th>\n",
       "      <td>Female</td>\n",
       "      <td>115770007</td>\n",
       "      <td>0.449</td>\n",
       "    </tr>\n",
       "    <tr>\n",
       "      <th>2</th>\n",
       "      <td>Unknown</td>\n",
       "      <td>10880924</td>\n",
       "      <td>0.042</td>\n",
       "    </tr>\n",
       "  </tbody>\n",
       "</table>\n",
       "</div>"
      ],
      "text/plain": [
       "       Sex        Num  Proportion\n",
       "0     Male  131222656       0.509\n",
       "1   Female  115770007       0.449\n",
       "2  Unknown   10880924       0.042"
      ]
     },
     "execution_count": 47,
     "metadata": {},
     "output_type": "execute_result"
    }
   ],
   "source": [
    "gender_vf = pd.DataFrame(data={\n",
    " 'Male':[131222656],\n",
    " 'Female':[115770007],\n",
    " 'Unknown':[10880924],\n",
    "}).T.reset_index()\n",
    "gender_vf.columns = ['Sex', 'Num']\n",
    "gender_vf['Proportion'] = gender_vf['Num'] / gender_vf['Num'].sum()\n",
    "gender_vf"
   ]
  },
  {
   "cell_type": "markdown",
   "metadata": {},
   "source": [
    "### Comparison to the voter file"
   ]
  },
  {
   "cell_type": "code",
   "execution_count": 48,
   "metadata": {},
   "outputs": [
    {
     "data": {
      "text/html": [
       "<div>\n",
       "<style scoped>\n",
       "    .dataframe tbody tr th:only-of-type {\n",
       "        vertical-align: middle;\n",
       "    }\n",
       "\n",
       "    .dataframe tbody tr th {\n",
       "        vertical-align: top;\n",
       "    }\n",
       "\n",
       "    .dataframe thead th {\n",
       "        text-align: right;\n",
       "    }\n",
       "</style>\n",
       "<table border=\"1\" class=\"dataframe\">\n",
       "  <thead>\n",
       "    <tr style=\"text-align: right;\">\n",
       "      <th></th>\n",
       "      <th>Race</th>\n",
       "      <th>Num</th>\n",
       "      <th>Proportion</th>\n",
       "    </tr>\n",
       "  </thead>\n",
       "  <tbody>\n",
       "    <tr>\n",
       "      <th>0</th>\n",
       "      <td>African-American</td>\n",
       "      <td>26086362</td>\n",
       "      <td>0.101</td>\n",
       "    </tr>\n",
       "    <tr>\n",
       "      <th>1</th>\n",
       "      <td>Asian</td>\n",
       "      <td>6326374</td>\n",
       "      <td>0.025</td>\n",
       "    </tr>\n",
       "    <tr>\n",
       "      <th>2</th>\n",
       "      <td>Caucasian</td>\n",
       "      <td>193552540</td>\n",
       "      <td>0.751</td>\n",
       "    </tr>\n",
       "    <tr>\n",
       "      <th>3</th>\n",
       "      <td>Hispanic</td>\n",
       "      <td>23214362</td>\n",
       "      <td>0.090</td>\n",
       "    </tr>\n",
       "    <tr>\n",
       "      <th>4</th>\n",
       "      <td>Native American</td>\n",
       "      <td>448959</td>\n",
       "      <td>0.002</td>\n",
       "    </tr>\n",
       "    <tr>\n",
       "      <th>5</th>\n",
       "      <td>Other</td>\n",
       "      <td>630493</td>\n",
       "      <td>0.002</td>\n",
       "    </tr>\n",
       "    <tr>\n",
       "      <th>6</th>\n",
       "      <td>Uncoded</td>\n",
       "      <td>7614497</td>\n",
       "      <td>0.030</td>\n",
       "    </tr>\n",
       "  </tbody>\n",
       "</table>\n",
       "</div>"
      ],
      "text/plain": [
       "               Race        Num  Proportion\n",
       "0  African-American   26086362       0.101\n",
       "1             Asian    6326374       0.025\n",
       "2         Caucasian  193552540       0.751\n",
       "3          Hispanic   23214362       0.090\n",
       "4   Native American     448959       0.002\n",
       "5             Other     630493       0.002\n",
       "6           Uncoded    7614497       0.030"
      ]
     },
     "execution_count": 48,
     "metadata": {},
     "output_type": "execute_result"
    }
   ],
   "source": [
    "race_vf = pd.DataFrame(data={\n",
    " 'African-American':[26086362],\n",
    " 'Asian':[6326374],\n",
    " 'Caucasian':[193552540],\n",
    " 'Hispanic':[23214362],\n",
    " 'Native American':[448959],\n",
    " 'Other':[630493],\n",
    " 'Uncoded':[7614497],\n",
    "}).T.reset_index()\n",
    "race_vf.columns = ['Race', 'Num']\n",
    "race_vf['Proportion'] = race_vf['Num'] / race_vf['Num'].sum()\n",
    "race_vf"
   ]
  },
  {
   "cell_type": "markdown",
   "metadata": {},
   "source": [
    "### Comparison to voter file"
   ]
  },
  {
   "cell_type": "code",
   "execution_count": 49,
   "metadata": {},
   "outputs": [
    {
     "data": {
      "text/html": [
       "<div>\n",
       "<style scoped>\n",
       "    .dataframe tbody tr th:only-of-type {\n",
       "        vertical-align: middle;\n",
       "    }\n",
       "\n",
       "    .dataframe tbody tr th {\n",
       "        vertical-align: top;\n",
       "    }\n",
       "\n",
       "    .dataframe thead th {\n",
       "        text-align: right;\n",
       "    }\n",
       "</style>\n",
       "<table border=\"1\" class=\"dataframe\">\n",
       "  <thead>\n",
       "    <tr style=\"text-align: right;\">\n",
       "      <th></th>\n",
       "      <th>Party</th>\n",
       "      <th>Num</th>\n",
       "      <th>Proportion</th>\n",
       "    </tr>\n",
       "  </thead>\n",
       "  <tbody>\n",
       "    <tr>\n",
       "      <th>0</th>\n",
       "      <td>Democrat</td>\n",
       "      <td>45769191</td>\n",
       "      <td>0.177</td>\n",
       "    </tr>\n",
       "    <tr>\n",
       "      <th>1</th>\n",
       "      <td>Republican</td>\n",
       "      <td>33429387</td>\n",
       "      <td>0.130</td>\n",
       "    </tr>\n",
       "    <tr>\n",
       "      <th>2</th>\n",
       "      <td>Unknown/Other/No Party</td>\n",
       "      <td>178675009</td>\n",
       "      <td>0.693</td>\n",
       "    </tr>\n",
       "  </tbody>\n",
       "</table>\n",
       "</div>"
      ],
      "text/plain": [
       "                    Party        Num  Proportion\n",
       "0                Democrat   45769191       0.177\n",
       "1              Republican   33429387       0.130\n",
       "2  Unknown/Other/No Party  178675009       0.693"
      ]
     },
     "execution_count": 49,
     "metadata": {},
     "output_type": "execute_result"
    }
   ],
   "source": [
    "party_vf = pd.DataFrame(data={\n",
    "  np.nan: [55226425],\n",
    "  'Conservative': [154079],\n",
    "  'Democrat': [45769191],\n",
    "  'Green': [263772],\n",
    "  'Independent': [1777383],\n",
    "  'Libertarian': [526742],\n",
    "  'No Party': [23188257],\n",
    "  'Other': [1195484],\n",
    "  'Republican': [33429387],\n",
    "  'Unaffiliated': [96283305],\n",
    "  'Unknown': [10512],\n",
    "  'Working Fam': [49050],\n",
    "}).T.reset_index()\n",
    "party_vf.columns = ['Party', 'Num']\n",
    "party_vf['Party'] = party_vf.Party.replace({'Unaffiliated': 'Unknown/Other/No Party', 'Democrat': 'Democrat', 'Republican': 'Republican', np.nan:'Unknown/Other/No Party', 'No Party': 'Unknown/Other/No Party', 'Independent': 'Unknown/Other/No Party', 'Other': 'Unknown/Other/No Party', 'Libertarian': 'Unknown/Other/No Party', 'Green': 'Unknown/Other/No Party', 'Conservative': 'Unknown/Other/No Party', 'Working Fam':'Unknown/Other/No Party', 'Unknown': 'Unknown/Other/No Party'})\n",
    "party_vf = party_vf.groupby('Party').agg({'Num':'sum'}).reset_index()\n",
    "party_vf['Proportion'] = party_vf['Num'] / party_vf['Num'].sum()\n",
    "party_vf"
   ]
  },
  {
   "cell_type": "code",
   "execution_count": 50,
   "metadata": {},
   "outputs": [
    {
     "data": {
      "text/html": [
       "<div>\n",
       "<style scoped>\n",
       "    .dataframe tbody tr th:only-of-type {\n",
       "        vertical-align: middle;\n",
       "    }\n",
       "\n",
       "    .dataframe tbody tr th {\n",
       "        vertical-align: top;\n",
       "    }\n",
       "\n",
       "    .dataframe thead th {\n",
       "        text-align: right;\n",
       "    }\n",
       "</style>\n",
       "<table border=\"1\" class=\"dataframe\">\n",
       "  <thead>\n",
       "    <tr style=\"text-align: right;\">\n",
       "      <th></th>\n",
       "      <th>registration_status</th>\n",
       "      <th>unweighted</th>\n",
       "      <th>weighted</th>\n",
       "    </tr>\n",
       "  </thead>\n",
       "  <tbody>\n",
       "    <tr>\n",
       "      <th>0</th>\n",
       "      <td>1.000</td>\n",
       "      <td>1.000</td>\n",
       "      <td>1.000</td>\n",
       "    </tr>\n",
       "  </tbody>\n",
       "</table>\n",
       "</div>"
      ],
      "text/plain": [
       "   registration_status  unweighted  weighted\n",
       "0                1.000       1.000     1.000"
      ]
     },
     "execution_count": 50,
     "metadata": {},
     "output_type": "execute_result"
    }
   ],
   "source": [
    "weighted_histogram(df, 'registration_status')"
   ]
  },
  {
   "cell_type": "code",
   "execution_count": 51,
   "metadata": {},
   "outputs": [
    {
     "data": {
      "text/html": [
       "<div>\n",
       "<style scoped>\n",
       "    .dataframe tbody tr th:only-of-type {\n",
       "        vertical-align: middle;\n",
       "    }\n",
       "\n",
       "    .dataframe tbody tr th {\n",
       "        vertical-align: top;\n",
       "    }\n",
       "\n",
       "    .dataframe thead th {\n",
       "        text-align: right;\n",
       "    }\n",
       "</style>\n",
       "<table border=\"1\" class=\"dataframe\">\n",
       "  <thead>\n",
       "    <tr style=\"text-align: right;\">\n",
       "      <th></th>\n",
       "      <th>age</th>\n",
       "      <th>weight</th>\n",
       "    </tr>\n",
       "  </thead>\n",
       "  <tbody>\n",
       "    <tr>\n",
       "      <th>22</th>\n",
       "      <td>69.000</td>\n",
       "      <td>1.757</td>\n",
       "    </tr>\n",
       "    <tr>\n",
       "      <th>31</th>\n",
       "      <td>69.000</td>\n",
       "      <td>5.782</td>\n",
       "    </tr>\n",
       "    <tr>\n",
       "      <th>48</th>\n",
       "      <td>73.000</td>\n",
       "      <td>0.724</td>\n",
       "    </tr>\n",
       "    <tr>\n",
       "      <th>49</th>\n",
       "      <td>71.000</td>\n",
       "      <td>1.037</td>\n",
       "    </tr>\n",
       "    <tr>\n",
       "      <th>129</th>\n",
       "      <td>67.000</td>\n",
       "      <td>3.542</td>\n",
       "    </tr>\n",
       "    <tr>\n",
       "      <th>...</th>\n",
       "      <td>...</td>\n",
       "      <td>...</td>\n",
       "    </tr>\n",
       "    <tr>\n",
       "      <th>1496323</th>\n",
       "      <td>67.000</td>\n",
       "      <td>3.991</td>\n",
       "    </tr>\n",
       "    <tr>\n",
       "      <th>1496364</th>\n",
       "      <td>74.000</td>\n",
       "      <td>0.724</td>\n",
       "    </tr>\n",
       "    <tr>\n",
       "      <th>1496381</th>\n",
       "      <td>71.000</td>\n",
       "      <td>3.544</td>\n",
       "    </tr>\n",
       "    <tr>\n",
       "      <th>1496393</th>\n",
       "      <td>71.000</td>\n",
       "      <td>5.782</td>\n",
       "    </tr>\n",
       "    <tr>\n",
       "      <th>1496399</th>\n",
       "      <td>70.000</td>\n",
       "      <td>2.314</td>\n",
       "    </tr>\n",
       "  </tbody>\n",
       "</table>\n",
       "<p>70095 rows × 2 columns</p>\n",
       "</div>"
      ],
      "text/plain": [
       "           age  weight\n",
       "22      69.000   1.757\n",
       "31      69.000   5.782\n",
       "48      73.000   0.724\n",
       "49      71.000   1.037\n",
       "129     67.000   3.542\n",
       "...        ...     ...\n",
       "1496323 67.000   3.991\n",
       "1496364 74.000   0.724\n",
       "1496381 71.000   3.544\n",
       "1496393 71.000   5.782\n",
       "1496399 70.000   2.314\n",
       "\n",
       "[70095 rows x 2 columns]"
      ]
     },
     "execution_count": 51,
     "metadata": {},
     "output_type": "execute_result"
    }
   ],
   "source": [
    "df[df.age>65][['age', 'weight']]"
   ]
  },
  {
   "cell_type": "code",
   "execution_count": 52,
   "metadata": {},
   "outputs": [
    {
     "data": {
      "text/html": [
       "<div>\n",
       "<style scoped>\n",
       "    .dataframe tbody tr th:only-of-type {\n",
       "        vertical-align: middle;\n",
       "    }\n",
       "\n",
       "    .dataframe tbody tr th {\n",
       "        vertical-align: top;\n",
       "    }\n",
       "\n",
       "    .dataframe thead th {\n",
       "        text-align: right;\n",
       "    }\n",
       "</style>\n",
       "<table border=\"1\" class=\"dataframe\">\n",
       "  <thead>\n",
       "    <tr style=\"text-align: right;\">\n",
       "      <th></th>\n",
       "      <th>short_party</th>\n",
       "      <th>unweighted</th>\n",
       "      <th>weighted</th>\n",
       "    </tr>\n",
       "  </thead>\n",
       "  <tbody>\n",
       "    <tr>\n",
       "      <th>0</th>\n",
       "      <td>Democrat</td>\n",
       "      <td>0.460</td>\n",
       "      <td>0.492</td>\n",
       "    </tr>\n",
       "    <tr>\n",
       "      <th>1</th>\n",
       "      <td>Independent</td>\n",
       "      <td>0.251</td>\n",
       "      <td>0.207</td>\n",
       "    </tr>\n",
       "    <tr>\n",
       "      <th>2</th>\n",
       "      <td>Republican</td>\n",
       "      <td>0.271</td>\n",
       "      <td>0.284</td>\n",
       "    </tr>\n",
       "    <tr>\n",
       "      <th>3</th>\n",
       "      <td>Unknown/Other</td>\n",
       "      <td>0.017</td>\n",
       "      <td>0.018</td>\n",
       "    </tr>\n",
       "  </tbody>\n",
       "</table>\n",
       "</div>"
      ],
      "text/plain": [
       "     short_party  unweighted  weighted\n",
       "0       Democrat       0.460     0.492\n",
       "1    Independent       0.251     0.207\n",
       "2     Republican       0.271     0.284\n",
       "3  Unknown/Other       0.017     0.018"
      ]
     },
     "execution_count": 52,
     "metadata": {},
     "output_type": "execute_result"
    }
   ],
   "source": [
    "weighted_histogram(df[df.state.isin([\"CT\", \"DE\", \"FL\", \"KS\", \"KY\", \"ME\", \"MD\", \"DC\", 'NE',\" NM\", \"NY\", \"PA,\" \"WY\"])], 'short_party')"
   ]
  },
  {
   "cell_type": "code",
   "execution_count": 53,
   "metadata": {},
   "outputs": [
    {
     "data": {
      "text/html": [
       "<div>\n",
       "<style scoped>\n",
       "    .dataframe tbody tr th:only-of-type {\n",
       "        vertical-align: middle;\n",
       "    }\n",
       "\n",
       "    .dataframe tbody tr th {\n",
       "        vertical-align: top;\n",
       "    }\n",
       "\n",
       "    .dataframe thead th {\n",
       "        text-align: right;\n",
       "    }\n",
       "</style>\n",
       "<table border=\"1\" class=\"dataframe\">\n",
       "  <thead>\n",
       "    <tr style=\"text-align: right;\">\n",
       "      <th></th>\n",
       "      <th></th>\n",
       "      <th>id</th>\n",
       "    </tr>\n",
       "    <tr>\n",
       "      <th>age_bin</th>\n",
       "      <th>race</th>\n",
       "      <th></th>\n",
       "    </tr>\n",
       "  </thead>\n",
       "  <tbody>\n",
       "    <tr>\n",
       "      <th rowspan=\"7\" valign=\"top\">&lt;18</th>\n",
       "      <th>African-American</th>\n",
       "      <td>40</td>\n",
       "    </tr>\n",
       "    <tr>\n",
       "      <th>Asian</th>\n",
       "      <td>7</td>\n",
       "    </tr>\n",
       "    <tr>\n",
       "      <th>Caucasian</th>\n",
       "      <td>520</td>\n",
       "    </tr>\n",
       "    <tr>\n",
       "      <th>Hispanic</th>\n",
       "      <td>6</td>\n",
       "    </tr>\n",
       "    <tr>\n",
       "      <th>Native American</th>\n",
       "      <td>0</td>\n",
       "    </tr>\n",
       "    <tr>\n",
       "      <th>Other</th>\n",
       "      <td>0</td>\n",
       "    </tr>\n",
       "    <tr>\n",
       "      <th>Uncoded</th>\n",
       "      <td>24</td>\n",
       "    </tr>\n",
       "    <tr>\n",
       "      <th rowspan=\"7\" valign=\"top\">18-29</th>\n",
       "      <th>African-American</th>\n",
       "      <td>41416</td>\n",
       "    </tr>\n",
       "    <tr>\n",
       "      <th>Asian</th>\n",
       "      <td>10692</td>\n",
       "    </tr>\n",
       "    <tr>\n",
       "      <th>Caucasian</th>\n",
       "      <td>426465</td>\n",
       "    </tr>\n",
       "    <tr>\n",
       "      <th>Hispanic</th>\n",
       "      <td>32238</td>\n",
       "    </tr>\n",
       "    <tr>\n",
       "      <th>Native American</th>\n",
       "      <td>1452</td>\n",
       "    </tr>\n",
       "    <tr>\n",
       "      <th>Other</th>\n",
       "      <td>2572</td>\n",
       "    </tr>\n",
       "    <tr>\n",
       "      <th>Uncoded</th>\n",
       "      <td>14080</td>\n",
       "    </tr>\n",
       "    <tr>\n",
       "      <th rowspan=\"7\" valign=\"top\">30-50</th>\n",
       "      <th>African-American</th>\n",
       "      <td>50620</td>\n",
       "    </tr>\n",
       "    <tr>\n",
       "      <th>Asian</th>\n",
       "      <td>12141</td>\n",
       "    </tr>\n",
       "    <tr>\n",
       "      <th>Caucasian</th>\n",
       "      <td>511826</td>\n",
       "    </tr>\n",
       "    <tr>\n",
       "      <th>Hispanic</th>\n",
       "      <td>25838</td>\n",
       "    </tr>\n",
       "    <tr>\n",
       "      <th>Native American</th>\n",
       "      <td>1298</td>\n",
       "    </tr>\n",
       "    <tr>\n",
       "      <th>Other</th>\n",
       "      <td>2003</td>\n",
       "    </tr>\n",
       "    <tr>\n",
       "      <th>Uncoded</th>\n",
       "      <td>16009</td>\n",
       "    </tr>\n",
       "    <tr>\n",
       "      <th rowspan=\"7\" valign=\"top\">50-65</th>\n",
       "      <th>African-American</th>\n",
       "      <td>14426</td>\n",
       "    </tr>\n",
       "    <tr>\n",
       "      <th>Asian</th>\n",
       "      <td>3975</td>\n",
       "    </tr>\n",
       "    <tr>\n",
       "      <th>Caucasian</th>\n",
       "      <td>223001</td>\n",
       "    </tr>\n",
       "    <tr>\n",
       "      <th>Hispanic</th>\n",
       "      <td>7436</td>\n",
       "    </tr>\n",
       "    <tr>\n",
       "      <th>Native American</th>\n",
       "      <td>394</td>\n",
       "    </tr>\n",
       "    <tr>\n",
       "      <th>Other</th>\n",
       "      <td>606</td>\n",
       "    </tr>\n",
       "    <tr>\n",
       "      <th>Uncoded</th>\n",
       "      <td>4943</td>\n",
       "    </tr>\n",
       "    <tr>\n",
       "      <th rowspan=\"7\" valign=\"top\">65+</th>\n",
       "      <th>African-American</th>\n",
       "      <td>4061</td>\n",
       "    </tr>\n",
       "    <tr>\n",
       "      <th>Asian</th>\n",
       "      <td>1154</td>\n",
       "    </tr>\n",
       "    <tr>\n",
       "      <th>Caucasian</th>\n",
       "      <td>70577</td>\n",
       "    </tr>\n",
       "    <tr>\n",
       "      <th>Hispanic</th>\n",
       "      <td>2238</td>\n",
       "    </tr>\n",
       "    <tr>\n",
       "      <th>Native American</th>\n",
       "      <td>100</td>\n",
       "    </tr>\n",
       "    <tr>\n",
       "      <th>Other</th>\n",
       "      <td>158</td>\n",
       "    </tr>\n",
       "    <tr>\n",
       "      <th>Uncoded</th>\n",
       "      <td>1288</td>\n",
       "    </tr>\n",
       "  </tbody>\n",
       "</table>\n",
       "</div>"
      ],
      "text/plain": [
       "                              id\n",
       "age_bin race                    \n",
       "<18     African-American      40\n",
       "        Asian                  7\n",
       "        Caucasian            520\n",
       "        Hispanic               6\n",
       "        Native American        0\n",
       "        Other                  0\n",
       "        Uncoded               24\n",
       "18-29   African-American   41416\n",
       "        Asian              10692\n",
       "        Caucasian         426465\n",
       "        Hispanic           32238\n",
       "        Native American     1452\n",
       "        Other               2572\n",
       "        Uncoded            14080\n",
       "30-50   African-American   50620\n",
       "        Asian              12141\n",
       "        Caucasian         511826\n",
       "        Hispanic           25838\n",
       "        Native American     1298\n",
       "        Other               2003\n",
       "        Uncoded            16009\n",
       "50-65   African-American   14426\n",
       "        Asian               3975\n",
       "        Caucasian         223001\n",
       "        Hispanic            7436\n",
       "        Native American      394\n",
       "        Other                606\n",
       "        Uncoded             4943\n",
       "65+     African-American    4061\n",
       "        Asian               1154\n",
       "        Caucasian          70577\n",
       "        Hispanic            2238\n",
       "        Native American      100\n",
       "        Other                158\n",
       "        Uncoded             1288"
      ]
     },
     "execution_count": 53,
     "metadata": {},
     "output_type": "execute_result"
    }
   ],
   "source": [
    "df.groupby(['age_bin', 'race']).agg({\"id\": \"count\"})"
   ]
  },
  {
   "cell_type": "code",
   "execution_count": 54,
   "metadata": {},
   "outputs": [
    {
     "data": {
      "text/plain": [
       "30-50   0.414\n",
       "18-29   0.353\n",
       "50-65   0.170\n",
       "65+     0.053\n",
       "NA      0.009\n",
       "<18     0.000\n",
       "Name: age_bin, dtype: float64"
      ]
     },
     "execution_count": 54,
     "metadata": {},
     "output_type": "execute_result"
    }
   ],
   "source": [
    "df.age_bin.cat.add_categories([\"NA\"]).fillna(\"NA\").value_counts(normalize=True, dropna=False)"
   ]
  },
  {
   "cell_type": "code",
   "execution_count": 55,
   "metadata": {},
   "outputs": [
    {
     "data": {
      "text/plain": [
       "Caucasian          0.830\n",
       "African-American   0.075\n",
       "Hispanic           0.045\n",
       "Uncoded            0.025\n",
       "Asian              0.019\n",
       "Other              0.004\n",
       "Native American    0.002\n",
       "Name: race, dtype: float64"
      ]
     },
     "execution_count": 55,
     "metadata": {},
     "output_type": "execute_result"
    }
   ],
   "source": [
    "df.race.value_counts(normalize=True, dropna=False)"
   ]
  },
  {
   "cell_type": "code",
   "execution_count": 56,
   "metadata": {},
   "outputs": [
    {
     "data": {
      "text/plain": [
       "Female    0.540\n",
       "Male      0.426\n",
       "Unknown   0.034\n",
       "Name: gender, dtype: float64"
      ]
     },
     "execution_count": 56,
     "metadata": {},
     "output_type": "execute_result"
    }
   ],
   "source": [
    "df.gender.value_counts(normalize=True,dropna=False)"
   ]
  },
  {
   "cell_type": "code",
   "execution_count": 57,
   "metadata": {},
   "outputs": [
    {
     "data": {
      "text/plain": [
       "0.000   0.884\n",
       "1.000   0.108\n",
       "nan     0.008\n",
       "Name: urban, dtype: float64"
      ]
     },
     "execution_count": 57,
     "metadata": {},
     "output_type": "execute_result"
    }
   ],
   "source": [
    "df.urban.value_counts(normalize=True, dropna=False)"
   ]
  },
  {
   "cell_type": "code",
   "execution_count": 58,
   "metadata": {},
   "outputs": [
    {
     "data": {
      "text/plain": [
       "Unaffiliated   0.461\n",
       "Democrat       0.245\n",
       "Republican     0.149\n",
       "No Party       0.120\n",
       "Independent    0.010\n",
       "Other          0.007\n",
       "Libertarian    0.005\n",
       "Green          0.002\n",
       "Conservative   0.001\n",
       "Working Fam    0.000\n",
       "Unknown        0.000\n",
       "Name: party, dtype: float64"
      ]
     },
     "execution_count": 58,
     "metadata": {},
     "output_type": "execute_result"
    }
   ],
   "source": [
    "df.party.value_counts(normalize=True, dropna=False)"
   ]
  },
  {
   "cell_type": "code",
   "execution_count": null,
   "metadata": {},
   "outputs": [],
   "source": []
  },
  {
   "cell_type": "code",
   "execution_count": null,
   "metadata": {},
   "outputs": [],
   "source": []
  }
 ],
 "metadata": {
  "kernelspec": {
   "display_name": "Python 3",
   "language": "python",
   "name": "python3"
  },
  "language_info": {
   "codemirror_mode": {
    "name": "ipython",
    "version": 3
   },
   "file_extension": ".py",
   "mimetype": "text/x-python",
   "name": "python",
   "nbconvert_exporter": "python",
   "pygments_lexer": "ipython3",
   "version": "3.8.5"
  }
 },
 "nbformat": 4,
 "nbformat_minor": 4
}
